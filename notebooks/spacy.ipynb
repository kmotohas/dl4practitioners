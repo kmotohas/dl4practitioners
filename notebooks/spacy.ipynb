{
 "cells": [
  {
   "cell_type": "code",
   "execution_count": 3,
   "metadata": {},
   "outputs": [
    {
     "name": "stdout",
     "output_type": "stream",
     "text": [
      "Requirement already satisfied: spacy in /home/kmotohas/miniconda3/lib/python3.7/site-packages (2.2.2)\n",
      "Requirement already satisfied: wasabi<1.1.0,>=0.3.0 in /home/kmotohas/miniconda3/lib/python3.7/site-packages (from spacy) (0.4.0)\n",
      "Requirement already satisfied: requests<3.0.0,>=2.13.0 in /home/kmotohas/miniconda3/lib/python3.7/site-packages (from spacy) (2.22.0)\n",
      "Requirement already satisfied: plac<1.2.0,>=0.9.6 in /home/kmotohas/miniconda3/lib/python3.7/site-packages (from spacy) (1.1.3)\n",
      "Requirement already satisfied: importlib-metadata>=0.20; python_version < \"3.8\" in /home/kmotohas/miniconda3/lib/python3.7/site-packages (from spacy) (0.23)\n",
      "Requirement already satisfied: numpy>=1.15.0 in /home/kmotohas/miniconda3/lib/python3.7/site-packages (from spacy) (1.17.3)\n",
      "Requirement already satisfied: murmurhash<1.1.0,>=0.28.0 in /home/kmotohas/miniconda3/lib/python3.7/site-packages (from spacy) (1.0.2)\n",
      "Requirement already satisfied: blis<0.5.0,>=0.4.0 in /home/kmotohas/miniconda3/lib/python3.7/site-packages (from spacy) (0.4.1)\n",
      "Requirement already satisfied: srsly<1.1.0,>=0.1.0 in /home/kmotohas/miniconda3/lib/python3.7/site-packages (from spacy) (0.2.0)\n",
      "Requirement already satisfied: preshed<3.1.0,>=3.0.2 in /home/kmotohas/miniconda3/lib/python3.7/site-packages (from spacy) (3.0.2)\n",
      "Requirement already satisfied: setuptools in /home/kmotohas/miniconda3/lib/python3.7/site-packages (from spacy) (41.4.0)\n",
      "Requirement already satisfied: cymem<2.1.0,>=2.0.2 in /home/kmotohas/miniconda3/lib/python3.7/site-packages (from spacy) (2.0.2)\n",
      "Requirement already satisfied: thinc<7.4.0,>=7.3.0 in /home/kmotohas/miniconda3/lib/python3.7/site-packages (from spacy) (7.3.1)\n",
      "Requirement already satisfied: idna<2.9,>=2.5 in /home/kmotohas/miniconda3/lib/python3.7/site-packages (from requests<3.0.0,>=2.13.0->spacy) (2.8)\n",
      "Requirement already satisfied: chardet<3.1.0,>=3.0.2 in /home/kmotohas/miniconda3/lib/python3.7/site-packages (from requests<3.0.0,>=2.13.0->spacy) (3.0.4)\n",
      "Requirement already satisfied: urllib3!=1.25.0,!=1.25.1,<1.26,>=1.21.1 in /home/kmotohas/miniconda3/lib/python3.7/site-packages (from requests<3.0.0,>=2.13.0->spacy) (1.24.2)\n",
      "Requirement already satisfied: certifi>=2017.4.17 in /home/kmotohas/miniconda3/lib/python3.7/site-packages (from requests<3.0.0,>=2.13.0->spacy) (2019.9.11)\n",
      "Requirement already satisfied: zipp>=0.5 in /home/kmotohas/miniconda3/lib/python3.7/site-packages (from importlib-metadata>=0.20; python_version < \"3.8\"->spacy) (0.6.0)\n",
      "Requirement already satisfied: tqdm<5.0.0,>=4.10.0 in /home/kmotohas/miniconda3/lib/python3.7/site-packages (from thinc<7.4.0,>=7.3.0->spacy) (4.36.1)\n",
      "Requirement already satisfied: more-itertools in /home/kmotohas/miniconda3/lib/python3.7/site-packages (from zipp>=0.5->importlib-metadata>=0.20; python_version < \"3.8\"->spacy) (7.2.0)\n"
     ]
    }
   ],
   "source": [
    "!pip install spacy"
   ]
  },
  {
   "cell_type": "code",
   "execution_count": 4,
   "metadata": {},
   "outputs": [
    {
     "name": "stdout",
     "output_type": "stream",
     "text": [
      "Collecting xx_ent_wiki_sm==2.2.0\n",
      "\u001b[?25l  Downloading https://github.com/explosion/spacy-models/releases/download/xx_ent_wiki_sm-2.2.0/xx_ent_wiki_sm-2.2.0.tar.gz (3.7MB)\n",
      "\u001b[K     |████████████████████████████████| 3.7MB 387kB/s eta 0:00:01\n",
      "\u001b[?25hRequirement already satisfied: spacy>=2.2.0 in /home/kmotohas/miniconda3/lib/python3.7/site-packages (from xx_ent_wiki_sm==2.2.0) (2.2.2)\n",
      "Requirement already satisfied: numpy>=1.15.0 in /home/kmotohas/miniconda3/lib/python3.7/site-packages (from spacy>=2.2.0->xx_ent_wiki_sm==2.2.0) (1.17.3)\n",
      "Requirement already satisfied: setuptools in /home/kmotohas/miniconda3/lib/python3.7/site-packages (from spacy>=2.2.0->xx_ent_wiki_sm==2.2.0) (41.4.0)\n",
      "Requirement already satisfied: srsly<1.1.0,>=0.1.0 in /home/kmotohas/miniconda3/lib/python3.7/site-packages (from spacy>=2.2.0->xx_ent_wiki_sm==2.2.0) (0.2.0)\n",
      "Requirement already satisfied: preshed<3.1.0,>=3.0.2 in /home/kmotohas/miniconda3/lib/python3.7/site-packages (from spacy>=2.2.0->xx_ent_wiki_sm==2.2.0) (3.0.2)\n",
      "Requirement already satisfied: plac<1.2.0,>=0.9.6 in /home/kmotohas/miniconda3/lib/python3.7/site-packages (from spacy>=2.2.0->xx_ent_wiki_sm==2.2.0) (1.1.3)\n",
      "Requirement already satisfied: thinc<7.4.0,>=7.3.0 in /home/kmotohas/miniconda3/lib/python3.7/site-packages (from spacy>=2.2.0->xx_ent_wiki_sm==2.2.0) (7.3.1)\n",
      "Requirement already satisfied: importlib-metadata>=0.20; python_version < \"3.8\" in /home/kmotohas/miniconda3/lib/python3.7/site-packages (from spacy>=2.2.0->xx_ent_wiki_sm==2.2.0) (0.23)\n",
      "Requirement already satisfied: cymem<2.1.0,>=2.0.2 in /home/kmotohas/miniconda3/lib/python3.7/site-packages (from spacy>=2.2.0->xx_ent_wiki_sm==2.2.0) (2.0.2)\n",
      "Requirement already satisfied: wasabi<1.1.0,>=0.3.0 in /home/kmotohas/miniconda3/lib/python3.7/site-packages (from spacy>=2.2.0->xx_ent_wiki_sm==2.2.0) (0.4.0)\n",
      "Requirement already satisfied: blis<0.5.0,>=0.4.0 in /home/kmotohas/miniconda3/lib/python3.7/site-packages (from spacy>=2.2.0->xx_ent_wiki_sm==2.2.0) (0.4.1)\n",
      "Requirement already satisfied: murmurhash<1.1.0,>=0.28.0 in /home/kmotohas/miniconda3/lib/python3.7/site-packages (from spacy>=2.2.0->xx_ent_wiki_sm==2.2.0) (1.0.2)\n",
      "Requirement already satisfied: requests<3.0.0,>=2.13.0 in /home/kmotohas/miniconda3/lib/python3.7/site-packages (from spacy>=2.2.0->xx_ent_wiki_sm==2.2.0) (2.22.0)\n",
      "Requirement already satisfied: tqdm<5.0.0,>=4.10.0 in /home/kmotohas/miniconda3/lib/python3.7/site-packages (from thinc<7.4.0,>=7.3.0->spacy>=2.2.0->xx_ent_wiki_sm==2.2.0) (4.36.1)\n",
      "Requirement already satisfied: zipp>=0.5 in /home/kmotohas/miniconda3/lib/python3.7/site-packages (from importlib-metadata>=0.20; python_version < \"3.8\"->spacy>=2.2.0->xx_ent_wiki_sm==2.2.0) (0.6.0)\n",
      "Requirement already satisfied: certifi>=2017.4.17 in /home/kmotohas/miniconda3/lib/python3.7/site-packages (from requests<3.0.0,>=2.13.0->spacy>=2.2.0->xx_ent_wiki_sm==2.2.0) (2019.9.11)\n",
      "Requirement already satisfied: chardet<3.1.0,>=3.0.2 in /home/kmotohas/miniconda3/lib/python3.7/site-packages (from requests<3.0.0,>=2.13.0->spacy>=2.2.0->xx_ent_wiki_sm==2.2.0) (3.0.4)\n",
      "Requirement already satisfied: urllib3!=1.25.0,!=1.25.1,<1.26,>=1.21.1 in /home/kmotohas/miniconda3/lib/python3.7/site-packages (from requests<3.0.0,>=2.13.0->spacy>=2.2.0->xx_ent_wiki_sm==2.2.0) (1.24.2)\n",
      "Requirement already satisfied: idna<2.9,>=2.5 in /home/kmotohas/miniconda3/lib/python3.7/site-packages (from requests<3.0.0,>=2.13.0->spacy>=2.2.0->xx_ent_wiki_sm==2.2.0) (2.8)\n",
      "Requirement already satisfied: more-itertools in /home/kmotohas/miniconda3/lib/python3.7/site-packages (from zipp>=0.5->importlib-metadata>=0.20; python_version < \"3.8\"->spacy>=2.2.0->xx_ent_wiki_sm==2.2.0) (7.2.0)\n",
      "Building wheels for collected packages: xx-ent-wiki-sm\n",
      "  Building wheel for xx-ent-wiki-sm (setup.py) ... \u001b[?25ldone\n",
      "\u001b[?25h  Created wheel for xx-ent-wiki-sm: filename=xx_ent_wiki_sm-2.2.0-cp37-none-any.whl size=3732136 sha256=9b5b1314414174b74812d1bce82fc207c866d2ee900291d8820d83142c4057f6\n",
      "  Stored in directory: /tmp/pip-ephem-wheel-cache-c28u_gt2/wheels/61/ed/d5/02efb1ca98ca2550f28e24fd3931855512448672cfdad7d2c9\n",
      "Successfully built xx-ent-wiki-sm\n",
      "Installing collected packages: xx-ent-wiki-sm\n",
      "Successfully installed xx-ent-wiki-sm-2.2.0\n",
      "\u001b[38;5;2m✔ Download and installation successful\u001b[0m\n",
      "You can now load the model via spacy.load('xx_ent_wiki_sm')\n"
     ]
    }
   ],
   "source": [
    "!python -m spacy download xx_ent_wiki_sm "
   ]
  },
  {
   "cell_type": "code",
   "execution_count": 7,
   "metadata": {
    "scrolled": true
   },
   "outputs": [
    {
     "name": "stdout",
     "output_type": "stream",
     "text": [
      "Collecting https://github.com/megagonlabs/ginza/releases/download/latest/ginza-latest.tar.gz\n",
      "  Downloading https://github.com/megagonlabs/ginza/releases/download/latest/ginza-latest.tar.gz\n",
      "Requirement already satisfied (use --upgrade to upgrade): ginza==2.2.1 from https://github.com/megagonlabs/ginza/releases/download/latest/ginza-latest.tar.gz in /home/kmotohas/miniconda3/envs/joki/lib/python3.7/site-packages\n",
      "Requirement already satisfied: spacy>=2.2.0 in /home/kmotohas/miniconda3/envs/joki/lib/python3.7/site-packages (from ginza==2.2.1) (2.2.3)\n",
      "Requirement already satisfied: ja_ginza@ https://github.com/megagonlabs/ginza/releases/download/v2.2.0/ja_ginza-2.2.0.tar.gz from https://github.com/megagonlabs/ginza/releases/download/v2.2.0/ja_ginza-2.2.0.tar.gz in /home/kmotohas/miniconda3/envs/joki/lib/python3.7/site-packages (from ginza==2.2.1) (2.2.0)\n",
      "Requirement already satisfied: SudachiPy>=0.4.0 in /home/kmotohas/miniconda3/envs/joki/lib/python3.7/site-packages (from ginza==2.2.1) (0.4.2)\n",
      "Requirement already satisfied: SudachiDict_core@ https://github.com/megagonlabs/ginza/releases/download/v2.2.0/SudachiDict_core-20190927.tar.gz from https://github.com/megagonlabs/ginza/releases/download/v2.2.0/SudachiDict_core-20190927.tar.gz in /home/kmotohas/miniconda3/envs/joki/lib/python3.7/site-packages (from ginza==2.2.1) (20190927)\n",
      "Requirement already satisfied: cymem<2.1.0,>=2.0.2 in /home/kmotohas/miniconda3/envs/joki/lib/python3.7/site-packages (from spacy>=2.2.0->ginza==2.2.1) (2.0.3)\n",
      "Requirement already satisfied: plac<1.2.0,>=0.9.6 in /home/kmotohas/miniconda3/envs/joki/lib/python3.7/site-packages (from spacy>=2.2.0->ginza==2.2.1) (1.1.3)\n",
      "Requirement already satisfied: requests<3.0.0,>=2.13.0 in /home/kmotohas/miniconda3/envs/joki/lib/python3.7/site-packages (from spacy>=2.2.0->ginza==2.2.1) (2.22.0)\n",
      "Requirement already satisfied: preshed<3.1.0,>=3.0.2 in /home/kmotohas/miniconda3/envs/joki/lib/python3.7/site-packages (from spacy>=2.2.0->ginza==2.2.1) (3.0.2)\n",
      "Requirement already satisfied: setuptools in /home/kmotohas/miniconda3/envs/joki/lib/python3.7/site-packages (from spacy>=2.2.0->ginza==2.2.1) (42.0.2.post20191203)\n",
      "Requirement already satisfied: murmurhash<1.1.0,>=0.28.0 in /home/kmotohas/miniconda3/envs/joki/lib/python3.7/site-packages (from spacy>=2.2.0->ginza==2.2.1) (1.0.2)\n",
      "Requirement already satisfied: blis<0.5.0,>=0.4.0 in /home/kmotohas/miniconda3/envs/joki/lib/python3.7/site-packages (from spacy>=2.2.0->ginza==2.2.1) (0.4.1)\n",
      "Requirement already satisfied: thinc<7.4.0,>=7.3.0 in /home/kmotohas/miniconda3/envs/joki/lib/python3.7/site-packages (from spacy>=2.2.0->ginza==2.2.1) (7.3.1)\n",
      "Requirement already satisfied: numpy>=1.15.0 in /home/kmotohas/miniconda3/envs/joki/lib/python3.7/site-packages (from spacy>=2.2.0->ginza==2.2.1) (1.18.0)\n",
      "Requirement already satisfied: wasabi<1.1.0,>=0.4.0 in /home/kmotohas/miniconda3/envs/joki/lib/python3.7/site-packages (from spacy>=2.2.0->ginza==2.2.1) (0.5.0)\n",
      "Requirement already satisfied: catalogue<1.1.0,>=0.0.7 in /home/kmotohas/miniconda3/envs/joki/lib/python3.7/site-packages (from spacy>=2.2.0->ginza==2.2.1) (0.2.0)\n",
      "Requirement already satisfied: srsly<1.1.0,>=0.1.0 in /home/kmotohas/miniconda3/envs/joki/lib/python3.7/site-packages (from spacy>=2.2.0->ginza==2.2.1) (0.2.0)\n",
      "Requirement already satisfied: sortedcontainers~=2.1.0 in /home/kmotohas/miniconda3/envs/joki/lib/python3.7/site-packages (from SudachiPy>=0.4.0->ginza==2.2.1) (2.1.0)\n",
      "Requirement already satisfied: dartsclone~=0.6.0 in /home/kmotohas/miniconda3/envs/joki/lib/python3.7/site-packages (from SudachiPy>=0.4.0->ginza==2.2.1) (0.6)\n",
      "Requirement already satisfied: idna<2.9,>=2.5 in /home/kmotohas/miniconda3/envs/joki/lib/python3.7/site-packages (from requests<3.0.0,>=2.13.0->spacy>=2.2.0->ginza==2.2.1) (2.8)\n",
      "Requirement already satisfied: chardet<3.1.0,>=3.0.2 in /home/kmotohas/miniconda3/envs/joki/lib/python3.7/site-packages (from requests<3.0.0,>=2.13.0->spacy>=2.2.0->ginza==2.2.1) (3.0.4)\n",
      "Requirement already satisfied: urllib3!=1.25.0,!=1.25.1,<1.26,>=1.21.1 in /home/kmotohas/miniconda3/envs/joki/lib/python3.7/site-packages (from requests<3.0.0,>=2.13.0->spacy>=2.2.0->ginza==2.2.1) (1.25.7)\n",
      "Requirement already satisfied: certifi>=2017.4.17 in /home/kmotohas/miniconda3/envs/joki/lib/python3.7/site-packages (from requests<3.0.0,>=2.13.0->spacy>=2.2.0->ginza==2.2.1) (2019.11.28)\n",
      "Requirement already satisfied: tqdm<5.0.0,>=4.10.0 in /home/kmotohas/miniconda3/envs/joki/lib/python3.7/site-packages (from thinc<7.4.0,>=7.3.0->spacy>=2.2.0->ginza==2.2.1) (4.41.0)\n",
      "Requirement already satisfied: importlib-metadata>=0.20; python_version < \"3.8\" in /home/kmotohas/miniconda3/envs/joki/lib/python3.7/site-packages (from catalogue<1.1.0,>=0.0.7->spacy>=2.2.0->ginza==2.2.1) (1.3.0)\n",
      "Requirement already satisfied: Cython in /home/kmotohas/miniconda3/envs/joki/lib/python3.7/site-packages (from dartsclone~=0.6.0->SudachiPy>=0.4.0->ginza==2.2.1) (0.29.14)\n",
      "Requirement already satisfied: zipp>=0.5 in /home/kmotohas/miniconda3/envs/joki/lib/python3.7/site-packages (from importlib-metadata>=0.20; python_version < \"3.8\"->catalogue<1.1.0,>=0.0.7->spacy>=2.2.0->ginza==2.2.1) (0.6.0)\n",
      "Requirement already satisfied: more-itertools in /home/kmotohas/miniconda3/envs/joki/lib/python3.7/site-packages (from zipp>=0.5->importlib-metadata>=0.20; python_version < \"3.8\"->catalogue<1.1.0,>=0.0.7->spacy>=2.2.0->ginza==2.2.1) (8.0.2)\n",
      "Building wheels for collected packages: ginza\n",
      "  Building wheel for ginza (setup.py) ... \u001b[?25ldone\n",
      "\u001b[?25h  Created wheel for ginza: filename=ginza-2.2.1-cp37-none-any.whl size=11780 sha256=c6923f3aa7a667cad8ca43fd3b84b27df9d7a24f7363211b243ea64b7d7c6304\n",
      "  Stored in directory: /home/kmotohas/.cache/pip/wheels/6f/97/43/f9c8c315bcd598f595e96aae207b120a3b84564f03ddd8d6a7\n",
      "Successfully built ginza\n"
     ]
    }
   ],
   "source": [
    "#!pip install \"https://github.com/megagonlabs/ginza/releases/download/lateSt/ginza-latest.tar.gz\""
   ]
  },
  {
   "cell_type": "code",
   "execution_count": 8,
   "metadata": {
    "scrolled": false
   },
   "outputs": [
    {
     "name": "stdout",
     "output_type": "stream",
     "text": [
      "Collecting chakin\n",
      "  Using cached https://files.pythonhosted.org/packages/ca/3f/ca2f63451c0ab47970a6ab1d39d96118e70b6e73125529cea767c31368a3/chakin-0.0.8-py3-none-any.whl\n",
      "Collecting gensim\n",
      "  Using cached https://files.pythonhosted.org/packages/44/93/c6011037f24e3106d13f3be55297bf84ece2bf15b278cc4776339dc52db5/gensim-3.8.1-cp37-cp37m-manylinux1_x86_64.whl\n",
      "Collecting progressbar2>=3.20.0\n",
      "  Using cached https://files.pythonhosted.org/packages/16/68/adc395e0a3c86571081c8a2e2daaa5b58270f6854276a089a0e9b5fa2c33/progressbar2-3.47.0-py2.py3-none-any.whl\n",
      "Collecting pandas>=0.20.1\n",
      "  Using cached https://files.pythonhosted.org/packages/63/e0/a1b39cdcb2c391f087a1538bc8a6d62a82d0439693192aef541d7b123769/pandas-0.25.3-cp37-cp37m-manylinux1_x86_64.whl\n",
      "Requirement already satisfied: six>=1.10.0 in /home/kmotohas/miniconda3/envs/joki/lib/python3.7/site-packages (from chakin) (1.13.0)\n",
      "Collecting scipy>=0.18.1\n",
      "\u001b[?25l  Downloading https://files.pythonhosted.org/packages/dd/82/c1fe128f3526b128cfd185580ba40d01371c5d299fcf7f77968e22dfcc2e/scipy-1.4.1-cp37-cp37m-manylinux1_x86_64.whl (26.1MB)\n",
      "\u001b[K     |████████████████████████████████| 26.1MB 10.0MB/s eta 0:00:01   |██████▊                         | 5.5MB 1.2MB/s eta 0:00:18     |████████████████████████▋       | 20.1MB 11.0MB/s eta 0:00:01     |█████████████████████████████   | 23.6MB 10.0MB/s eta 0:00:01\n",
      "\u001b[?25hProcessing /home/kmotohas/.cache/pip/wheels/ab/10/93/5cff86f5b721d77edaecc29959b1c60d894be1f66d91407d28/smart_open-1.9.0-cp37-none-any.whl\n",
      "Requirement already satisfied: numpy>=1.11.3 in /home/kmotohas/miniconda3/envs/joki/lib/python3.7/site-packages (from gensim) (1.18.0)\n",
      "Collecting python-utils>=2.3.0\n",
      "  Using cached https://files.pythonhosted.org/packages/eb/a0/19119d8b7c05be49baf6c593f11c432d571b70d805f2fe94c0585e55e4c8/python_utils-2.3.0-py2.py3-none-any.whl\n",
      "Collecting pytz>=2017.2\n",
      "  Using cached https://files.pythonhosted.org/packages/e7/f9/f0b53f88060247251bf481fa6ea62cd0d25bf1b11a87888e53ce5b7c8ad2/pytz-2019.3-py2.py3-none-any.whl\n",
      "Requirement already satisfied: python-dateutil>=2.6.1 in /home/kmotohas/miniconda3/envs/joki/lib/python3.7/site-packages (from pandas>=0.20.1->chakin) (2.8.1)\n",
      "Collecting boto3\n",
      "\u001b[?25l  Downloading https://files.pythonhosted.org/packages/f9/01/1c749dc1bca8dda969f5fe0ba16fa6d24c6bd96572d118f790773c54a636/boto3-1.10.45-py2.py3-none-any.whl (128kB)\n",
      "\u001b[K     |████████████████████████████████| 133kB 7.9MB/s eta 0:00:01\n",
      "\u001b[?25hCollecting boto>=2.32\n",
      "  Using cached https://files.pythonhosted.org/packages/23/10/c0b78c27298029e4454a472a1919bde20cb182dab1662cec7f2ca1dcc523/boto-2.49.0-py2.py3-none-any.whl\n",
      "Requirement already satisfied: requests in /home/kmotohas/miniconda3/envs/joki/lib/python3.7/site-packages (from smart-open>=1.8.1->gensim) (2.22.0)\n",
      "Collecting s3transfer<0.3.0,>=0.2.0\n",
      "  Using cached https://files.pythonhosted.org/packages/16/8a/1fc3dba0c4923c2a76e1ff0d52b305c44606da63f718d14d3231e21c51b0/s3transfer-0.2.1-py2.py3-none-any.whl\n",
      "Collecting botocore<1.14.0,>=1.13.45\n",
      "\u001b[?25l  Downloading https://files.pythonhosted.org/packages/96/22/9f8201d900956e57a9811e1b1c91c9f76c87487c76f636c2df1ce8379c38/botocore-1.13.45-py2.py3-none-any.whl (5.9MB)\n",
      "\u001b[K     |████████████████████████████████| 5.9MB 1.0MB/s eta 0:00:01\n",
      "\u001b[?25hCollecting jmespath<1.0.0,>=0.7.1\n",
      "  Using cached https://files.pythonhosted.org/packages/83/94/7179c3832a6d45b266ddb2aac329e101367fbdb11f425f13771d27f225bb/jmespath-0.9.4-py2.py3-none-any.whl\n",
      "Requirement already satisfied: urllib3!=1.25.0,!=1.25.1,<1.26,>=1.21.1 in /home/kmotohas/miniconda3/envs/joki/lib/python3.7/site-packages (from requests->smart-open>=1.8.1->gensim) (1.25.7)\n",
      "Requirement already satisfied: idna<2.9,>=2.5 in /home/kmotohas/miniconda3/envs/joki/lib/python3.7/site-packages (from requests->smart-open>=1.8.1->gensim) (2.8)\n",
      "Requirement already satisfied: certifi>=2017.4.17 in /home/kmotohas/miniconda3/envs/joki/lib/python3.7/site-packages (from requests->smart-open>=1.8.1->gensim) (2019.11.28)\n",
      "Requirement already satisfied: chardet<3.1.0,>=3.0.2 in /home/kmotohas/miniconda3/envs/joki/lib/python3.7/site-packages (from requests->smart-open>=1.8.1->gensim) (3.0.4)\n",
      "Collecting docutils<0.16,>=0.10\n",
      "  Using cached https://files.pythonhosted.org/packages/22/cd/a6aa959dca619918ccb55023b4cb151949c64d4d5d55b3f4ffd7eee0c6e8/docutils-0.15.2-py3-none-any.whl\n",
      "Installing collected packages: python-utils, progressbar2, pytz, pandas, chakin, scipy, docutils, jmespath, botocore, s3transfer, boto3, boto, smart-open, gensim\n",
      "Successfully installed boto-2.49.0 boto3-1.10.45 botocore-1.13.45 chakin-0.0.8 docutils-0.15.2 gensim-3.8.1 jmespath-0.9.4 pandas-0.25.3 progressbar2-3.47.0 python-utils-2.3.0 pytz-2019.3 s3transfer-0.2.1 scipy-1.4.1 smart-open-1.9.0\n"
     ]
    }
   ],
   "source": [
    "!pip install chakin gensim"
   ]
  },
  {
   "cell_type": "code",
   "execution_count": 9,
   "metadata": {},
   "outputs": [],
   "source": [
    "import spacy\n",
    "ja = spacy.blank('ja')"
   ]
  },
  {
   "cell_type": "code",
   "execution_count": 11,
   "metadata": {},
   "outputs": [
    {
     "name": "stdout",
     "output_type": "stream",
     "text": [
      "日本語 日本語 名詞-普通名詞-一般 NOUN\n",
      "です です 助動詞 AUX\n",
      "よ よ 助詞-終助詞 PART\n",
      "これ 此れ 代名詞 PRON\n",
      "は は 助詞-係助詞 ADP\n"
     ]
    }
   ],
   "source": [
    "for word in ja('日本語ですよこれは'):\n",
    "    print(word, word.lemma_, word.tag_, word.pos_)"
   ]
  },
  {
   "cell_type": "code",
   "execution_count": 9,
   "metadata": {
    "scrolled": true
   },
   "outputs": [
    {
     "name": "stdout",
     "output_type": "stream",
     "text": [
      "                         Name  Dimension     Corpus VocabularySize  \\\n",
      "6                fastText(ja)        300  Wikipedia           580K   \n",
      "22  word2vec.Wiki-NEologd.50d         50  Wikipedia           335K   \n",
      "\n",
      "                Method  Language                 Author  \n",
      "6             fastText  Japanese               Facebook  \n",
      "22  word2vec + NEologd  Japanese  Shiroyagi Corporation  \n"
     ]
    }
   ],
   "source": [
    "import chakin\n",
    "chakin.search(lang='Japanese')"
   ]
  },
  {
   "cell_type": "code",
   "execution_count": 10,
   "metadata": {},
   "outputs": [
    {
     "name": "stderr",
     "output_type": "stream",
     "text": [
      "Test: 100% ||                                      | Time:  0:01:27  14.0 MiB/s\n"
     ]
    },
    {
     "data": {
      "text/plain": [
       "'./cc.ja.300.vec.gz'"
      ]
     },
     "execution_count": 10,
     "metadata": {},
     "output_type": "execute_result"
    }
   ],
   "source": [
    "chakin.download(number=6, save_dir='.')"
   ]
  },
  {
   "cell_type": "markdown",
   "metadata": {},
   "source": [
    "1. Load the model you want to start with, or create an empty model using spacy.blank with the ID of your language. If you’re using an existing model, make sure to disable all other pipeline components during training using nlp.disable_pipes. This way, you’ll only be training the text classifier.\n",
    "2. Add the text classifier to the pipeline, and add the labels you want to train – for example, POSITIVE.\n",
    "3. Load and pre-process the dataset, shuffle the data and split off a part of it to hold back for evaluation. This way, you’ll be able to see results on each training iteration.\n",
    "4. Loop over the training examples and partition them into batches using spaCy’s minibatch and compounding helpers.\n",
    "5. Update the model by calling nlp.update, which steps through the examples and makes a prediction. It then consults the annotations to see whether it was right. If it was wrong, it adjusts its weights so that the correct prediction will score higher next time.\n",
    "6. Optionally, you can also evaluate the text classifier on each iteration, by checking how it performs on the development data held back from the dataset. This lets you print the precision, recall and F-score.\n",
    "7. Save the trained model using nlp.to_disk.\n",
    "8. Test the model to make sure the text classifier works as expected."
   ]
  },
  {
   "cell_type": "markdown",
   "metadata": {},
   "source": [
    "環境によりますが、数分かかることがあります。気長に待ちましょう。"
   ]
  },
  {
   "cell_type": "code",
   "execution_count": 1,
   "metadata": {},
   "outputs": [],
   "source": [
    "from gensim.models import KeyedVectors\n",
    "wv = KeyedVectors.load_word2vec_format('cc.ja.300.vec.gz', binary=False)"
   ]
  },
  {
   "cell_type": "markdown",
   "metadata": {},
   "source": [
    "データの読み込み"
   ]
  },
  {
   "cell_type": "code",
   "execution_count": 2,
   "metadata": {},
   "outputs": [],
   "source": [
    "import pandas as pd\n",
    "df_train = pd.read_csv('train.tsv', delimiter='\\t')\n",
    "df_val = pd.read_csv('val.tsv', delimiter='\\t')\n",
    "df_test = pd.read_csv('test.tsv', delimiter='\\t')"
   ]
  },
  {
   "cell_type": "code",
   "execution_count": 2,
   "metadata": {},
   "outputs": [
    {
     "ename": "OSError",
     "evalue": "[E050] Can't find model 'lang/ja'. It doesn't seem to be a shortcut link, a Python package or a valid path to a data directory.",
     "output_type": "error",
     "traceback": [
      "\u001b[0;31m---------------------------------------------------------------------------\u001b[0m",
      "\u001b[0;31mOSError\u001b[0m                                   Traceback (most recent call last)",
      "\u001b[0;32m<ipython-input-2-fe2b243215ef>\u001b[0m in \u001b[0;36m<module>\u001b[0;34m\u001b[0m\n\u001b[1;32m      1\u001b[0m \u001b[0;32mimport\u001b[0m \u001b[0mspacy\u001b[0m\u001b[0;34m\u001b[0m\u001b[0;34m\u001b[0m\u001b[0m\n\u001b[0;32m----> 2\u001b[0;31m \u001b[0mnlp\u001b[0m \u001b[0;34m=\u001b[0m \u001b[0mspacy\u001b[0m\u001b[0;34m.\u001b[0m\u001b[0mload\u001b[0m\u001b[0;34m(\u001b[0m\u001b[0;34m'lang/ja'\u001b[0m\u001b[0;34m)\u001b[0m\u001b[0;34m\u001b[0m\u001b[0;34m\u001b[0m\u001b[0m\n\u001b[0m",
      "\u001b[0;32m~/miniconda3/lib/python3.7/site-packages/spacy/__init__.py\u001b[0m in \u001b[0;36mload\u001b[0;34m(name, **overrides)\u001b[0m\n\u001b[1;32m     28\u001b[0m     \u001b[0;32mif\u001b[0m \u001b[0mdepr_path\u001b[0m \u001b[0;32mnot\u001b[0m \u001b[0;32min\u001b[0m \u001b[0;34m(\u001b[0m\u001b[0;32mTrue\u001b[0m\u001b[0;34m,\u001b[0m \u001b[0;32mFalse\u001b[0m\u001b[0;34m,\u001b[0m \u001b[0;32mNone\u001b[0m\u001b[0;34m)\u001b[0m\u001b[0;34m:\u001b[0m\u001b[0;34m\u001b[0m\u001b[0;34m\u001b[0m\u001b[0m\n\u001b[1;32m     29\u001b[0m         \u001b[0mdeprecation_warning\u001b[0m\u001b[0;34m(\u001b[0m\u001b[0mWarnings\u001b[0m\u001b[0;34m.\u001b[0m\u001b[0mW001\u001b[0m\u001b[0;34m.\u001b[0m\u001b[0mformat\u001b[0m\u001b[0;34m(\u001b[0m\u001b[0mpath\u001b[0m\u001b[0;34m=\u001b[0m\u001b[0mdepr_path\u001b[0m\u001b[0;34m)\u001b[0m\u001b[0;34m)\u001b[0m\u001b[0;34m\u001b[0m\u001b[0;34m\u001b[0m\u001b[0m\n\u001b[0;32m---> 30\u001b[0;31m     \u001b[0;32mreturn\u001b[0m \u001b[0mutil\u001b[0m\u001b[0;34m.\u001b[0m\u001b[0mload_model\u001b[0m\u001b[0;34m(\u001b[0m\u001b[0mname\u001b[0m\u001b[0;34m,\u001b[0m \u001b[0;34m**\u001b[0m\u001b[0moverrides\u001b[0m\u001b[0;34m)\u001b[0m\u001b[0;34m\u001b[0m\u001b[0;34m\u001b[0m\u001b[0m\n\u001b[0m\u001b[1;32m     31\u001b[0m \u001b[0;34m\u001b[0m\u001b[0m\n\u001b[1;32m     32\u001b[0m \u001b[0;34m\u001b[0m\u001b[0m\n",
      "\u001b[0;32m~/miniconda3/lib/python3.7/site-packages/spacy/util.py\u001b[0m in \u001b[0;36mload_model\u001b[0;34m(name, **overrides)\u001b[0m\n\u001b[1;32m    218\u001b[0m     \u001b[0;32melif\u001b[0m \u001b[0mhasattr\u001b[0m\u001b[0;34m(\u001b[0m\u001b[0mname\u001b[0m\u001b[0;34m,\u001b[0m \u001b[0;34m\"exists\"\u001b[0m\u001b[0;34m)\u001b[0m\u001b[0;34m:\u001b[0m  \u001b[0;31m# Path or Path-like to model data\u001b[0m\u001b[0;34m\u001b[0m\u001b[0;34m\u001b[0m\u001b[0m\n\u001b[1;32m    219\u001b[0m         \u001b[0;32mreturn\u001b[0m \u001b[0mload_model_from_path\u001b[0m\u001b[0;34m(\u001b[0m\u001b[0mname\u001b[0m\u001b[0;34m,\u001b[0m \u001b[0;34m**\u001b[0m\u001b[0moverrides\u001b[0m\u001b[0;34m)\u001b[0m\u001b[0;34m\u001b[0m\u001b[0;34m\u001b[0m\u001b[0m\n\u001b[0;32m--> 220\u001b[0;31m     \u001b[0;32mraise\u001b[0m \u001b[0mIOError\u001b[0m\u001b[0;34m(\u001b[0m\u001b[0mErrors\u001b[0m\u001b[0;34m.\u001b[0m\u001b[0mE050\u001b[0m\u001b[0;34m.\u001b[0m\u001b[0mformat\u001b[0m\u001b[0;34m(\u001b[0m\u001b[0mname\u001b[0m\u001b[0;34m=\u001b[0m\u001b[0mname\u001b[0m\u001b[0;34m)\u001b[0m\u001b[0;34m)\u001b[0m\u001b[0;34m\u001b[0m\u001b[0;34m\u001b[0m\u001b[0m\n\u001b[0m\u001b[1;32m    221\u001b[0m \u001b[0;34m\u001b[0m\u001b[0m\n\u001b[1;32m    222\u001b[0m \u001b[0;34m\u001b[0m\u001b[0m\n",
      "\u001b[0;31mOSError\u001b[0m: [E050] Can't find model 'lang/ja'. It doesn't seem to be a shortcut link, a Python package or a valid path to a data directory."
     ]
    }
   ],
   "source": [
    "import spacy\n",
    "nlp = spacy.load('lang/ja')"
   ]
  },
  {
   "cell_type": "code",
   "execution_count": 9,
   "metadata": {
    "scrolled": false
   },
   "outputs": [
    {
     "name": "stdout",
     "output_type": "stream",
     "text": [
      "('parser', <spacy.pipeline.pipes.DependencyParser object at 0x7fe25563ee50>)\n",
      "('ner', <spacy.pipeline.pipes.EntityRecognizer object at 0x7fe247f77520>)\n",
      "('JapaneseCorrector', <ginza.japanese_corrector.JapaneseCorrector object at 0x7fe255707710>)\n"
     ]
    }
   ],
   "source": [
    "for p in nlp.pipeline:\n",
    "    print(p)"
   ]
  },
  {
   "cell_type": "markdown",
   "metadata": {},
   "source": [
    "\n",
    "|名前\t| 概要|\n",
    "|:-----:|:-----|\n",
    "|`\"bow\"`|N-グラムの単語バッグ (bag-of-words) モデル。This architecture should run much faster than the others, but may not be as accurate, especially if texts are short. The features extracted can be controlled using the keyword arguments ngram_size and attr. For instance, ngram_size=3 and attr=\"lower\" would give lower-cased unigram, trigram and bigram features. 2, 3 or 4 are usually good choices of ngram size.|\n",
    "|`\"simple_cnn\"`|\tA neural network model where token vectors are calculated using a CNN. The vectors are mean pooled and used as features in a feed-forward network. This architecture is usually less accurate than the ensemble, but runs faster.|\n",
    "|`\"ensemble\"`|\tDefault: Stacked ensemble of a bag-of-words model and a neural network model. The neural network uses a CNN with mean pooling and attention. The “ngram_size” and “attr” arguments can be used to configure the feature extraction for the bag-of-words model.|"
   ]
  },
  {
   "cell_type": "markdown",
   "metadata": {},
   "source": [
    "https://spacy.io/usage/training#textcat"
   ]
  },
  {
   "cell_type": "code",
   "execution_count": null,
   "metadata": {},
   "outputs": [],
   "source": [
    "services = [\n",
    "    'dokujo-tsushin',\n",
    "    'it-life-hack',\n",
    "    'kaden-channel',\n",
    "    'livedoor-homme',\n",
    "    'movie-enter',\n",
    "    'peachy',\n",
    "    'smax',\n",
    "    'sports-watch',\n",
    "    'topic-news'\n",
    "]"
   ]
  },
  {
   "cell_type": "code",
   "execution_count": 7,
   "metadata": {},
   "outputs": [],
   "source": [
    "train_texts = df_train.body\n",
    "val_texts = df_val.body\n",
    "test_texts = df_test.body"
   ]
  },
  {
   "cell_type": "markdown",
   "metadata": {},
   "source": [
    "10分くらいかかります。"
   ]
  },
  {
   "cell_type": "code",
   "execution_count": null,
   "metadata": {},
   "outputs": [],
   "source": [
    "train_docs = list(nlp.pipe(train_texts, disable=['ner']))"
   ]
  },
  {
   "cell_type": "code",
   "execution_count": 5,
   "metadata": {},
   "outputs": [],
   "source": [
    "if 'textcat' not in nlp.pipe_names:\n",
    "    textcat = nlp.create_pipe(\n",
    "        'textcat', config={'exclusive_classes':True, 'architecture': 'simple_cnn'} \n",
    "    )\n",
    "    nlp.add_pipe(textcat, last=True)\n",
    "else:\n",
    "    textcat = nlp.get_pipe('textcat')"
   ]
  },
  {
   "cell_type": "code",
   "execution_count": 6,
   "metadata": {
    "scrolled": false
   },
   "outputs": [
    {
     "name": "stdout",
     "output_type": "stream",
     "text": [
      "('parser', <spacy.pipeline.pipes.DependencyParser object at 0x7fe25563e750>)\n",
      "('ner', <spacy.pipeline.pipes.EntityRecognizer object at 0x7fe25563e6e0>)\n",
      "('JapaneseCorrector', <ginza.japanese_corrector.JapaneseCorrector object at 0x7fe248aeab50>)\n",
      "('textcat', <spacy.pipeline.pipes.TextCategorizer object at 0x7fe255695e50>)\n"
     ]
    }
   ],
   "source": [
    "for p in nlp.pipeline:\n",
    "    print(p)"
   ]
  },
  {
   "cell_type": "code",
   "execution_count": 3,
   "metadata": {},
   "outputs": [],
   "source": [
    "doc = nlp('いつもプレゼンテーションの撮影に無音カメラアプリをご利用いただきありがとうございます。')"
   ]
  },
  {
   "cell_type": "code",
   "execution_count": 5,
   "metadata": {},
   "outputs": [
    {
     "name": "stdout",
     "output_type": "stream",
     "text": [
      "いつも\n",
      "プレゼンテーション\n",
      "の\n",
      "撮影\n",
      "に\n",
      "無音\n",
      "カメラ\n",
      "アプリ\n",
      "を\n",
      "ご利用\n",
      "いただき\n",
      "ありがとう\n",
      "ござい\n",
      "ます\n",
      "。\n"
     ]
    }
   ],
   "source": [
    "for token in doc:\n",
    "    print(token)"
   ]
  },
  {
   "cell_type": "code",
   "execution_count": 6,
   "metadata": {},
   "outputs": [
    {
     "data": {
      "text/html": [
       "<svg xmlns=\"http://www.w3.org/2000/svg\" xmlns:xlink=\"http://www.w3.org/1999/xlink\" xml:lang=\"ja\" id=\"16b0f6caaf62452da4b7f60523ee00eb-0\" class=\"displacy\" width=\"2150\" height=\"512.0\" direction=\"ltr\" style=\"max-width: none; height: 512.0px; color: #000000; background: #ffffff; font-family: Arial; direction: ltr\">\n",
       "<text class=\"displacy-token\" fill=\"currentColor\" text-anchor=\"middle\" y=\"422.0\">\n",
       "    <tspan class=\"displacy-word\" fill=\"currentColor\" x=\"50\">いつも</tspan>\n",
       "    <tspan class=\"displacy-tag\" dy=\"2em\" fill=\"currentColor\" x=\"50\"></tspan>\n",
       "</text>\n",
       "\n",
       "<text class=\"displacy-token\" fill=\"currentColor\" text-anchor=\"middle\" y=\"422.0\">\n",
       "    <tspan class=\"displacy-word\" fill=\"currentColor\" x=\"200\">プレゼンテーション</tspan>\n",
       "    <tspan class=\"displacy-tag\" dy=\"2em\" fill=\"currentColor\" x=\"200\"></tspan>\n",
       "</text>\n",
       "\n",
       "<text class=\"displacy-token\" fill=\"currentColor\" text-anchor=\"middle\" y=\"422.0\">\n",
       "    <tspan class=\"displacy-word\" fill=\"currentColor\" x=\"350\">の</tspan>\n",
       "    <tspan class=\"displacy-tag\" dy=\"2em\" fill=\"currentColor\" x=\"350\"></tspan>\n",
       "</text>\n",
       "\n",
       "<text class=\"displacy-token\" fill=\"currentColor\" text-anchor=\"middle\" y=\"422.0\">\n",
       "    <tspan class=\"displacy-word\" fill=\"currentColor\" x=\"500\">撮影</tspan>\n",
       "    <tspan class=\"displacy-tag\" dy=\"2em\" fill=\"currentColor\" x=\"500\"></tspan>\n",
       "</text>\n",
       "\n",
       "<text class=\"displacy-token\" fill=\"currentColor\" text-anchor=\"middle\" y=\"422.0\">\n",
       "    <tspan class=\"displacy-word\" fill=\"currentColor\" x=\"650\">に</tspan>\n",
       "    <tspan class=\"displacy-tag\" dy=\"2em\" fill=\"currentColor\" x=\"650\"></tspan>\n",
       "</text>\n",
       "\n",
       "<text class=\"displacy-token\" fill=\"currentColor\" text-anchor=\"middle\" y=\"422.0\">\n",
       "    <tspan class=\"displacy-word\" fill=\"currentColor\" x=\"800\">無音</tspan>\n",
       "    <tspan class=\"displacy-tag\" dy=\"2em\" fill=\"currentColor\" x=\"800\"></tspan>\n",
       "</text>\n",
       "\n",
       "<text class=\"displacy-token\" fill=\"currentColor\" text-anchor=\"middle\" y=\"422.0\">\n",
       "    <tspan class=\"displacy-word\" fill=\"currentColor\" x=\"950\">カメラ</tspan>\n",
       "    <tspan class=\"displacy-tag\" dy=\"2em\" fill=\"currentColor\" x=\"950\"></tspan>\n",
       "</text>\n",
       "\n",
       "<text class=\"displacy-token\" fill=\"currentColor\" text-anchor=\"middle\" y=\"422.0\">\n",
       "    <tspan class=\"displacy-word\" fill=\"currentColor\" x=\"1100\">アプリ</tspan>\n",
       "    <tspan class=\"displacy-tag\" dy=\"2em\" fill=\"currentColor\" x=\"1100\"></tspan>\n",
       "</text>\n",
       "\n",
       "<text class=\"displacy-token\" fill=\"currentColor\" text-anchor=\"middle\" y=\"422.0\">\n",
       "    <tspan class=\"displacy-word\" fill=\"currentColor\" x=\"1250\">を</tspan>\n",
       "    <tspan class=\"displacy-tag\" dy=\"2em\" fill=\"currentColor\" x=\"1250\"></tspan>\n",
       "</text>\n",
       "\n",
       "<text class=\"displacy-token\" fill=\"currentColor\" text-anchor=\"middle\" y=\"422.0\">\n",
       "    <tspan class=\"displacy-word\" fill=\"currentColor\" x=\"1400\">ご利用</tspan>\n",
       "    <tspan class=\"displacy-tag\" dy=\"2em\" fill=\"currentColor\" x=\"1400\"></tspan>\n",
       "</text>\n",
       "\n",
       "<text class=\"displacy-token\" fill=\"currentColor\" text-anchor=\"middle\" y=\"422.0\">\n",
       "    <tspan class=\"displacy-word\" fill=\"currentColor\" x=\"1550\">いただき</tspan>\n",
       "    <tspan class=\"displacy-tag\" dy=\"2em\" fill=\"currentColor\" x=\"1550\"></tspan>\n",
       "</text>\n",
       "\n",
       "<text class=\"displacy-token\" fill=\"currentColor\" text-anchor=\"middle\" y=\"422.0\">\n",
       "    <tspan class=\"displacy-word\" fill=\"currentColor\" x=\"1700\">ありがとう</tspan>\n",
       "    <tspan class=\"displacy-tag\" dy=\"2em\" fill=\"currentColor\" x=\"1700\"></tspan>\n",
       "</text>\n",
       "\n",
       "<text class=\"displacy-token\" fill=\"currentColor\" text-anchor=\"middle\" y=\"422.0\">\n",
       "    <tspan class=\"displacy-word\" fill=\"currentColor\" x=\"1850\">ござい</tspan>\n",
       "    <tspan class=\"displacy-tag\" dy=\"2em\" fill=\"currentColor\" x=\"1850\"></tspan>\n",
       "</text>\n",
       "\n",
       "<text class=\"displacy-token\" fill=\"currentColor\" text-anchor=\"middle\" y=\"422.0\">\n",
       "    <tspan class=\"displacy-word\" fill=\"currentColor\" x=\"2000\">ます。</tspan>\n",
       "    <tspan class=\"displacy-tag\" dy=\"2em\" fill=\"currentColor\" x=\"2000\"></tspan>\n",
       "</text>\n",
       "\n",
       "<g class=\"displacy-arrow\">\n",
       "    <path class=\"displacy-arc\" id=\"arrow-16b0f6caaf62452da4b7f60523ee00eb-0-0\" stroke-width=\"2px\" d=\"M62,377.0 62,252.0 1400.0,252.0 1400.0,377.0\" fill=\"none\" stroke=\"currentColor\"/>\n",
       "    <text dy=\"1.25em\" style=\"font-size: 0.8em; letter-spacing: 1px\">\n",
       "        <textPath xlink:href=\"#arrow-16b0f6caaf62452da4b7f60523ee00eb-0-0\" class=\"displacy-label\" startOffset=\"50%\" side=\"left\" fill=\"currentColor\" text-anchor=\"middle\">nmod</textPath>\n",
       "    </text>\n",
       "    <path class=\"displacy-arrowhead\" d=\"M62,379.0 L58,371.0 66,371.0\" fill=\"currentColor\"/>\n",
       "</g>\n",
       "\n",
       "<g class=\"displacy-arrow\">\n",
       "    <path class=\"displacy-arc\" id=\"arrow-16b0f6caaf62452da4b7f60523ee00eb-0-1\" stroke-width=\"2px\" d=\"M212,377.0 212,327.0 491.0,327.0 491.0,377.0\" fill=\"none\" stroke=\"currentColor\"/>\n",
       "    <text dy=\"1.25em\" style=\"font-size: 0.8em; letter-spacing: 1px\">\n",
       "        <textPath xlink:href=\"#arrow-16b0f6caaf62452da4b7f60523ee00eb-0-1\" class=\"displacy-label\" startOffset=\"50%\" side=\"left\" fill=\"currentColor\" text-anchor=\"middle\">nmod</textPath>\n",
       "    </text>\n",
       "    <path class=\"displacy-arrowhead\" d=\"M212,379.0 L208,371.0 216,371.0\" fill=\"currentColor\"/>\n",
       "</g>\n",
       "\n",
       "<g class=\"displacy-arrow\">\n",
       "    <path class=\"displacy-arc\" id=\"arrow-16b0f6caaf62452da4b7f60523ee00eb-0-2\" stroke-width=\"2px\" d=\"M212,377.0 212,352.0 338.0,352.0 338.0,377.0\" fill=\"none\" stroke=\"currentColor\"/>\n",
       "    <text dy=\"1.25em\" style=\"font-size: 0.8em; letter-spacing: 1px\">\n",
       "        <textPath xlink:href=\"#arrow-16b0f6caaf62452da4b7f60523ee00eb-0-2\" class=\"displacy-label\" startOffset=\"50%\" side=\"left\" fill=\"currentColor\" text-anchor=\"middle\">case</textPath>\n",
       "    </text>\n",
       "    <path class=\"displacy-arrowhead\" d=\"M338.0,379.0 L342.0,371.0 334.0,371.0\" fill=\"currentColor\"/>\n",
       "</g>\n",
       "\n",
       "<g class=\"displacy-arrow\">\n",
       "    <path class=\"displacy-arc\" id=\"arrow-16b0f6caaf62452da4b7f60523ee00eb-0-3\" stroke-width=\"2px\" d=\"M512,377.0 512,277.0 1397.0,277.0 1397.0,377.0\" fill=\"none\" stroke=\"currentColor\"/>\n",
       "    <text dy=\"1.25em\" style=\"font-size: 0.8em; letter-spacing: 1px\">\n",
       "        <textPath xlink:href=\"#arrow-16b0f6caaf62452da4b7f60523ee00eb-0-3\" class=\"displacy-label\" startOffset=\"50%\" side=\"left\" fill=\"currentColor\" text-anchor=\"middle\">iobj</textPath>\n",
       "    </text>\n",
       "    <path class=\"displacy-arrowhead\" d=\"M512,379.0 L508,371.0 516,371.0\" fill=\"currentColor\"/>\n",
       "</g>\n",
       "\n",
       "<g class=\"displacy-arrow\">\n",
       "    <path class=\"displacy-arc\" id=\"arrow-16b0f6caaf62452da4b7f60523ee00eb-0-4\" stroke-width=\"2px\" d=\"M512,377.0 512,352.0 638.0,352.0 638.0,377.0\" fill=\"none\" stroke=\"currentColor\"/>\n",
       "    <text dy=\"1.25em\" style=\"font-size: 0.8em; letter-spacing: 1px\">\n",
       "        <textPath xlink:href=\"#arrow-16b0f6caaf62452da4b7f60523ee00eb-0-4\" class=\"displacy-label\" startOffset=\"50%\" side=\"left\" fill=\"currentColor\" text-anchor=\"middle\">case</textPath>\n",
       "    </text>\n",
       "    <path class=\"displacy-arrowhead\" d=\"M638.0,379.0 L642.0,371.0 634.0,371.0\" fill=\"currentColor\"/>\n",
       "</g>\n",
       "\n",
       "<g class=\"displacy-arrow\">\n",
       "    <path class=\"displacy-arc\" id=\"arrow-16b0f6caaf62452da4b7f60523ee00eb-0-5\" stroke-width=\"2px\" d=\"M812,377.0 812,327.0 1091.0,327.0 1091.0,377.0\" fill=\"none\" stroke=\"currentColor\"/>\n",
       "    <text dy=\"1.25em\" style=\"font-size: 0.8em; letter-spacing: 1px\">\n",
       "        <textPath xlink:href=\"#arrow-16b0f6caaf62452da4b7f60523ee00eb-0-5\" class=\"displacy-label\" startOffset=\"50%\" side=\"left\" fill=\"currentColor\" text-anchor=\"middle\">compound</textPath>\n",
       "    </text>\n",
       "    <path class=\"displacy-arrowhead\" d=\"M812,379.0 L808,371.0 816,371.0\" fill=\"currentColor\"/>\n",
       "</g>\n",
       "\n",
       "<g class=\"displacy-arrow\">\n",
       "    <path class=\"displacy-arc\" id=\"arrow-16b0f6caaf62452da4b7f60523ee00eb-0-6\" stroke-width=\"2px\" d=\"M962,377.0 962,352.0 1088.0,352.0 1088.0,377.0\" fill=\"none\" stroke=\"currentColor\"/>\n",
       "    <text dy=\"1.25em\" style=\"font-size: 0.8em; letter-spacing: 1px\">\n",
       "        <textPath xlink:href=\"#arrow-16b0f6caaf62452da4b7f60523ee00eb-0-6\" class=\"displacy-label\" startOffset=\"50%\" side=\"left\" fill=\"currentColor\" text-anchor=\"middle\">compound</textPath>\n",
       "    </text>\n",
       "    <path class=\"displacy-arrowhead\" d=\"M962,379.0 L958,371.0 966,371.0\" fill=\"currentColor\"/>\n",
       "</g>\n",
       "\n",
       "<g class=\"displacy-arrow\">\n",
       "    <path class=\"displacy-arc\" id=\"arrow-16b0f6caaf62452da4b7f60523ee00eb-0-7\" stroke-width=\"2px\" d=\"M1112,377.0 1112,327.0 1391.0,327.0 1391.0,377.0\" fill=\"none\" stroke=\"currentColor\"/>\n",
       "    <text dy=\"1.25em\" style=\"font-size: 0.8em; letter-spacing: 1px\">\n",
       "        <textPath xlink:href=\"#arrow-16b0f6caaf62452da4b7f60523ee00eb-0-7\" class=\"displacy-label\" startOffset=\"50%\" side=\"left\" fill=\"currentColor\" text-anchor=\"middle\">obj</textPath>\n",
       "    </text>\n",
       "    <path class=\"displacy-arrowhead\" d=\"M1112,379.0 L1108,371.0 1116,371.0\" fill=\"currentColor\"/>\n",
       "</g>\n",
       "\n",
       "<g class=\"displacy-arrow\">\n",
       "    <path class=\"displacy-arc\" id=\"arrow-16b0f6caaf62452da4b7f60523ee00eb-0-8\" stroke-width=\"2px\" d=\"M1112,377.0 1112,352.0 1238.0,352.0 1238.0,377.0\" fill=\"none\" stroke=\"currentColor\"/>\n",
       "    <text dy=\"1.25em\" style=\"font-size: 0.8em; letter-spacing: 1px\">\n",
       "        <textPath xlink:href=\"#arrow-16b0f6caaf62452da4b7f60523ee00eb-0-8\" class=\"displacy-label\" startOffset=\"50%\" side=\"left\" fill=\"currentColor\" text-anchor=\"middle\">case</textPath>\n",
       "    </text>\n",
       "    <path class=\"displacy-arrowhead\" d=\"M1238.0,379.0 L1242.0,371.0 1234.0,371.0\" fill=\"currentColor\"/>\n",
       "</g>\n",
       "\n",
       "<g class=\"displacy-arrow\">\n",
       "    <path class=\"displacy-arc\" id=\"arrow-16b0f6caaf62452da4b7f60523ee00eb-0-9\" stroke-width=\"2px\" d=\"M1412,377.0 1412,302.0 1844.0,302.0 1844.0,377.0\" fill=\"none\" stroke=\"currentColor\"/>\n",
       "    <text dy=\"1.25em\" style=\"font-size: 0.8em; letter-spacing: 1px\">\n",
       "        <textPath xlink:href=\"#arrow-16b0f6caaf62452da4b7f60523ee00eb-0-9\" class=\"displacy-label\" startOffset=\"50%\" side=\"left\" fill=\"currentColor\" text-anchor=\"middle\">advcl</textPath>\n",
       "    </text>\n",
       "    <path class=\"displacy-arrowhead\" d=\"M1412,379.0 L1408,371.0 1416,371.0\" fill=\"currentColor\"/>\n",
       "</g>\n",
       "\n",
       "<g class=\"displacy-arrow\">\n",
       "    <path class=\"displacy-arc\" id=\"arrow-16b0f6caaf62452da4b7f60523ee00eb-0-10\" stroke-width=\"2px\" d=\"M1412,377.0 1412,352.0 1538.0,352.0 1538.0,377.0\" fill=\"none\" stroke=\"currentColor\"/>\n",
       "    <text dy=\"1.25em\" style=\"font-size: 0.8em; letter-spacing: 1px\">\n",
       "        <textPath xlink:href=\"#arrow-16b0f6caaf62452da4b7f60523ee00eb-0-10\" class=\"displacy-label\" startOffset=\"50%\" side=\"left\" fill=\"currentColor\" text-anchor=\"middle\">aux</textPath>\n",
       "    </text>\n",
       "    <path class=\"displacy-arrowhead\" d=\"M1538.0,379.0 L1542.0,371.0 1534.0,371.0\" fill=\"currentColor\"/>\n",
       "</g>\n",
       "\n",
       "<g class=\"displacy-arrow\">\n",
       "    <path class=\"displacy-arc\" id=\"arrow-16b0f6caaf62452da4b7f60523ee00eb-0-11\" stroke-width=\"2px\" d=\"M1712,377.0 1712,352.0 1838.0,352.0 1838.0,377.0\" fill=\"none\" stroke=\"currentColor\"/>\n",
       "    <text dy=\"1.25em\" style=\"font-size: 0.8em; letter-spacing: 1px\">\n",
       "        <textPath xlink:href=\"#arrow-16b0f6caaf62452da4b7f60523ee00eb-0-11\" class=\"displacy-label\" startOffset=\"50%\" side=\"left\" fill=\"currentColor\" text-anchor=\"middle\">discourse</textPath>\n",
       "    </text>\n",
       "    <path class=\"displacy-arrowhead\" d=\"M1712,379.0 L1708,371.0 1716,371.0\" fill=\"currentColor\"/>\n",
       "</g>\n",
       "\n",
       "<g class=\"displacy-arrow\">\n",
       "    <path class=\"displacy-arc\" id=\"arrow-16b0f6caaf62452da4b7f60523ee00eb-0-12\" stroke-width=\"2px\" d=\"M1862,377.0 1862,352.0 1988.0,352.0 1988.0,377.0\" fill=\"none\" stroke=\"currentColor\"/>\n",
       "    <text dy=\"1.25em\" style=\"font-size: 0.8em; letter-spacing: 1px\">\n",
       "        <textPath xlink:href=\"#arrow-16b0f6caaf62452da4b7f60523ee00eb-0-12\" class=\"displacy-label\" startOffset=\"50%\" side=\"left\" fill=\"currentColor\" text-anchor=\"middle\">aux</textPath>\n",
       "    </text>\n",
       "    <path class=\"displacy-arrowhead\" d=\"M1988.0,379.0 L1992.0,371.0 1984.0,371.0\" fill=\"currentColor\"/>\n",
       "</g>\n",
       "</svg>"
      ],
      "text/plain": [
       "<IPython.core.display.HTML object>"
      ]
     },
     "metadata": {},
     "output_type": "display_data"
    }
   ],
   "source": [
    "from spacy import displacy\n",
    "displacy.render(doc, style='dep', options={'compact': True})"
   ]
  },
  {
   "cell_type": "code",
   "execution_count": 16,
   "metadata": {},
   "outputs": [],
   "source": [
    "doc = nlp('2018年の夏にフランスに行った。ジベルニー村のジャン・クロード・モネの家で池に浮かぶ睡蓮を見た。')"
   ]
  },
  {
   "cell_type": "code",
   "execution_count": 17,
   "metadata": {},
   "outputs": [
    {
     "name": "stdout",
     "output_type": "stream",
     "text": [
      "2018年 DATE\n",
      "夏 DATE\n",
      "フランス LOC\n",
      "ジベルニー村 LOC\n",
      "ジャン・クロード・モネ PERSON\n"
     ]
    }
   ],
   "source": [
    "for ent in doc.ents:\n",
    "    print(ent.text, ent.label_)"
   ]
  },
  {
   "cell_type": "code",
   "execution_count": 18,
   "metadata": {},
   "outputs": [
    {
     "data": {
      "text/html": [
       "<div class=\"entities\" style=\"line-height: 2.5; direction: ltr\">\n",
       "<mark class=\"entity\" style=\"background: #bfe1d9; padding: 0.45em 0.6em; margin: 0 0.25em; line-height: 1; border-radius: 0.35em;\">\n",
       "    2018年\n",
       "    <span style=\"font-size: 0.8em; font-weight: bold; line-height: 1; border-radius: 0.35em; text-transform: uppercase; vertical-align: middle; margin-left: 0.5rem\">DATE</span>\n",
       "</mark>\n",
       "の\n",
       "<mark class=\"entity\" style=\"background: #bfe1d9; padding: 0.45em 0.6em; margin: 0 0.25em; line-height: 1; border-radius: 0.35em;\">\n",
       "    夏\n",
       "    <span style=\"font-size: 0.8em; font-weight: bold; line-height: 1; border-radius: 0.35em; text-transform: uppercase; vertical-align: middle; margin-left: 0.5rem\">DATE</span>\n",
       "</mark>\n",
       "に\n",
       "<mark class=\"entity\" style=\"background: #ff9561; padding: 0.45em 0.6em; margin: 0 0.25em; line-height: 1; border-radius: 0.35em;\">\n",
       "    フランス\n",
       "    <span style=\"font-size: 0.8em; font-weight: bold; line-height: 1; border-radius: 0.35em; text-transform: uppercase; vertical-align: middle; margin-left: 0.5rem\">LOC</span>\n",
       "</mark>\n",
       "に行った。\n",
       "<mark class=\"entity\" style=\"background: #ff9561; padding: 0.45em 0.6em; margin: 0 0.25em; line-height: 1; border-radius: 0.35em;\">\n",
       "    ジベルニー村\n",
       "    <span style=\"font-size: 0.8em; font-weight: bold; line-height: 1; border-radius: 0.35em; text-transform: uppercase; vertical-align: middle; margin-left: 0.5rem\">LOC</span>\n",
       "</mark>\n",
       "の\n",
       "<mark class=\"entity\" style=\"background: #aa9cfc; padding: 0.45em 0.6em; margin: 0 0.25em; line-height: 1; border-radius: 0.35em;\">\n",
       "    ジャン・クロード・モネ\n",
       "    <span style=\"font-size: 0.8em; font-weight: bold; line-height: 1; border-radius: 0.35em; text-transform: uppercase; vertical-align: middle; margin-left: 0.5rem\">PERSON</span>\n",
       "</mark>\n",
       "の家で池に浮かぶ睡蓮を見た。</div>"
      ],
      "text/plain": [
       "<IPython.core.display.HTML object>"
      ]
     },
     "metadata": {},
     "output_type": "display_data"
    }
   ],
   "source": [
    "displacy.render(doc, style='ent')"
   ]
  },
  {
   "cell_type": "code",
   "execution_count": 21,
   "metadata": {},
   "outputs": [
    {
     "name": "stdout",
     "output_type": "stream",
     "text": [
      "フランス\n",
      "(100,)\n",
      "[-1.8482111e-01 -1.4538746e-01 -1.7175280e+00  4.6958008e-01\n",
      " -4.5021373e-01 -1.0789571e+00 -5.5978662e-01  1.0635048e+00\n",
      "  8.0301279e-01 -4.6534860e-01  5.7746607e-01 -4.1957068e-01\n",
      "  4.3903831e-01  1.3740962e+00  1.7036986e+00 -1.4325552e+00\n",
      " -1.3362174e+00 -2.6336935e+00 -2.2485626e-01  9.9312216e-01\n",
      "  5.6238598e-01  1.4189256e+00  4.6435905e-01 -1.5055668e+00\n",
      " -7.9730475e-01 -1.1898736e+00  5.9205371e-01 -3.1073397e-01\n",
      "  1.5609291e+00  7.4679577e-01 -1.7725601e+00  7.5918156e-01\n",
      " -8.3084297e-01 -1.0554338e+00 -4.9300814e-01 -1.8822047e+00\n",
      "  4.0689778e-01  1.2179197e+00  2.2390331e-01 -1.0111157e+00\n",
      "  5.0060362e-01  1.0345092e+00 -2.6290452e-01 -5.5334646e-01\n",
      " -5.9242058e-01 -1.9505157e-01  1.1206743e+00  2.9740116e-01\n",
      "  5.9019405e-01  2.6311156e-01 -2.6286969e-01  9.0575097e-03\n",
      "  9.9736404e-01 -1.8221676e+00  5.6215721e-01  2.2554176e-01\n",
      "  8.1922668e-01 -1.1669250e+00 -1.5753677e+00 -5.9075058e-01\n",
      " -3.0490223e-03 -2.1165743e-01  1.6681631e+00 -5.4196209e-01\n",
      "  9.2630595e-01  6.1172742e-01 -4.8828131e-01  5.5616724e-01\n",
      "  1.5083147e+00  8.3841938e-01 -3.6842281e-01 -2.4212871e-01\n",
      " -1.3510980e-01 -3.6804101e-01 -1.6985967e+00  2.8625383e+00\n",
      "  2.9273264e+00 -1.4754202e+00  2.1591339e-01 -3.6818910e+00\n",
      " -1.4435844e+00  7.7275890e-01 -5.2068698e-01 -2.1262252e-01\n",
      "  1.6012682e+00  5.6622529e-01  5.0263792e-01 -6.4896834e-01\n",
      "  8.2310814e-01 -5.0944788e-03 -2.6299505e+00  2.7581868e+00\n",
      " -1.9695247e+00 -9.5479596e-01  1.0261489e-01 -2.2975194e-01\n",
      " -1.9426610e-01  3.1085134e-01  1.0542326e+00 -1.2336625e+00]\n"
     ]
    }
   ],
   "source": [
    "token = doc[5]\n",
    "print(token)\n",
    "print(token.vector.shape)\n",
    "print(token.vector)"
   ]
  },
  {
   "cell_type": "code",
   "execution_count": 23,
   "metadata": {},
   "outputs": [
    {
     "name": "stdout",
     "output_type": "stream",
     "text": [
      "similality between ジャン and 2018 is 0.0\n",
      "similality between ジャン and 年 is 0.023434042930603027\n",
      "similality between ジャン and の is 0.15485209226608276\n",
      "similality between ジャン and 夏 is -0.11547508090734482\n",
      "similality between ジャン and に is 0.06590826064348221\n",
      "similality between ジャン and フランス is 0.6142158508300781\n",
      "similality between ジャン and に is 0.06590826064348221\n",
      "similality between ジャン and 行っ is 0.016062168404459953\n",
      "similality between ジャン and た is 0.07229085266590118\n",
      "similality between ジャン and 。 is 0.04375385120511055\n",
      "similality between ジャン and ジベルニー is 0.0\n",
      "similality between ジャン and 村 is 0.018616419285535812\n",
      "similality between ジャン and の is 0.15485209226608276\n",
      "similality between ジャン and ジャン is 1.0\n",
      "similality between ジャン and ・ is 0.38225889205932617\n",
      "similality between ジャン and クロード is 0.8045619130134583\n",
      "similality between ジャン and ・ is 0.38225889205932617\n",
      "similality between ジャン and モネ is 0.6251201629638672\n",
      "similality between ジャン and の is 0.15485209226608276\n",
      "similality between ジャン and 家 is 0.12523183226585388\n",
      "similality between ジャン and で is 0.0017860631924122572\n",
      "similality between ジャン and 池 is -0.021479690447449684\n",
      "similality between ジャン and に is 0.06590826064348221\n",
      "similality between ジャン and 浮かぶ is -0.010804129764437675\n",
      "similality between ジャン and 睡蓮 is 0.11250501126050949\n",
      "similality between ジャン and を is 0.04672084003686905\n",
      "similality between ジャン and 見 is 0.02137231081724167\n",
      "similality between ジャン and た is 0.07229085266590118\n",
      "similality between ジャン and 。 is 0.04375385120511055\n"
     ]
    },
    {
     "name": "stderr",
     "output_type": "stream",
     "text": [
      "/home/kmotohas/miniconda3/lib/python3.7/runpy.py:193: UserWarning: [W008] Evaluating Token.similarity based on empty vectors.\n",
      "  \"__main__\", mod_spec)\n",
      "/home/kmotohas/miniconda3/lib/python3.7/runpy.py:193: UserWarning: [W008] Evaluating Token.similarity based on empty vectors.\n",
      "  \"__main__\", mod_spec)\n"
     ]
    }
   ],
   "source": [
    "for token in doc:\n",
    "    print('similality between {0} and {1} is {2}'.format(doc[13], token, token.similarity(doc[13])))"
   ]
  },
  {
   "cell_type": "code",
   "execution_count": 24,
   "metadata": {},
   "outputs": [
    {
     "data": {
      "text/plain": [
       "(117951, 100)"
      ]
     },
     "execution_count": 24,
     "metadata": {},
     "output_type": "execute_result"
    }
   ],
   "source": [
    "nlp.vocab.vectors.shape"
   ]
  },
  {
   "cell_type": "code",
   "execution_count": 25,
   "metadata": {},
   "outputs": [
    {
     "name": "stdout",
     "output_type": "stream",
     "text": [
      "Collecting chakin\n",
      "  Downloading https://files.pythonhosted.org/packages/ca/3f/ca2f63451c0ab47970a6ab1d39d96118e70b6e73125529cea767c31368a3/chakin-0.0.8-py3-none-any.whl\n",
      "Collecting gensim\n",
      "\u001b[?25l  Downloading https://files.pythonhosted.org/packages/44/93/c6011037f24e3106d13f3be55297bf84ece2bf15b278cc4776339dc52db5/gensim-3.8.1-cp37-cp37m-manylinux1_x86_64.whl (24.2MB)\n",
      "\u001b[K     |████████████████████████████████| 24.2MB 670kB/s  eta 0:00:01   |█                               | 737kB 5.8MB/s eta 0:00:05     |██████████                      | 7.6MB 5.8MB/s eta 0:00:03     |███████████                     | 8.3MB 5.8MB/s eta 0:00:03     |███████████▍                    | 8.6MB 5.8MB/s eta 0:00:03     |███████████████████▌            | 14.8MB 29.1MB/s eta 0:00:01     |█████████████████████████▌      | 19.3MB 29.1MB/s eta 0:00:01\n",
      "\u001b[?25hCollecting progressbar2>=3.20.0\n",
      "  Downloading https://files.pythonhosted.org/packages/16/68/adc395e0a3c86571081c8a2e2daaa5b58270f6854276a089a0e9b5fa2c33/progressbar2-3.47.0-py2.py3-none-any.whl\n",
      "Collecting pandas>=0.20.1\n",
      "\u001b[?25l  Downloading https://files.pythonhosted.org/packages/63/e0/a1b39cdcb2c391f087a1538bc8a6d62a82d0439693192aef541d7b123769/pandas-0.25.3-cp37-cp37m-manylinux1_x86_64.whl (10.4MB)\n",
      "\u001b[K     |████████████████████████████████| 10.4MB 16.8MB/s eta 0:00:01    |█████████████████▋              | 5.7MB 16.8MB/s eta 0:00:01     |█████████████████████           | 6.8MB 16.8MB/s eta 0:00:01\n",
      "\u001b[?25hRequirement already satisfied: six>=1.10.0 in /home/kmotohas/miniconda3/lib/python3.7/site-packages (from chakin) (1.12.0)\n",
      "Requirement already satisfied: numpy>=1.11.3 in /home/kmotohas/miniconda3/lib/python3.7/site-packages (from gensim) (1.17.3)\n",
      "Collecting smart-open>=1.8.1\n",
      "\u001b[?25l  Downloading https://files.pythonhosted.org/packages/0c/09/735f2786dfac9bbf39d244ce75c0313d27d4962e71e0774750dc809f2395/smart_open-1.9.0.tar.gz (70kB)\n",
      "\u001b[K     |████████████████████████████████| 71kB 11.9MB/s eta 0:00:01\n",
      "\u001b[?25hCollecting scipy>=0.18.1\n",
      "\u001b[?25l  Downloading https://files.pythonhosted.org/packages/94/7f/b535ec711cbcc3246abea4385d17e1b325d4c3404dd86f15fc4f3dba1dbb/scipy-1.3.1-cp37-cp37m-manylinux1_x86_64.whl (25.2MB)\n",
      "\u001b[K     |████████████████████████████████| 25.2MB 6.2MB/s eta 0:00:011   |██▊                             | 2.2MB 7.0MB/s eta 0:00:04     |███                             | 2.4MB 7.0MB/s eta 0:00:04     |████▌                           | 3.5MB 7.0MB/s eta 0:00:04     |█████▎                          | 4.1MB 7.0MB/s eta 0:00:04     |█████▋                          | 4.4MB 7.0MB/s eta 0:00:03     |██████▎                         | 4.9MB 7.0MB/s eta 0:00:03     |██████████▏                     | 8.0MB 7.0MB/s eta 0:00:03     |█████████████▊                  | 10.8MB 15.8MB/s eta 0:00:01     |███████████████▊                | 12.4MB 15.8MB/s eta 0:00:01     |████████████████████▊           | 16.3MB 15.8MB/s eta 0:00:01     |███████████████████████▏        | 18.3MB 15.8MB/s eta 0:00:01     |██████████████████████████▎     | 20.7MB 15.8MB/s eta 0:00:01     |██████████████████████████████▉ | 24.3MB 6.2MB/s eta 0:00:01\n",
      "\u001b[?25hCollecting python-utils>=2.3.0\n",
      "  Downloading https://files.pythonhosted.org/packages/eb/a0/19119d8b7c05be49baf6c593f11c432d571b70d805f2fe94c0585e55e4c8/python_utils-2.3.0-py2.py3-none-any.whl\n",
      "Requirement already satisfied: python-dateutil>=2.6.1 in /home/kmotohas/miniconda3/lib/python3.7/site-packages (from pandas>=0.20.1->chakin) (2.8.1)\n",
      "Collecting pytz>=2017.2\n",
      "\u001b[?25l  Downloading https://files.pythonhosted.org/packages/e7/f9/f0b53f88060247251bf481fa6ea62cd0d25bf1b11a87888e53ce5b7c8ad2/pytz-2019.3-py2.py3-none-any.whl (509kB)\n",
      "\u001b[K     |████████████████████████████████| 512kB 1.9MB/s eta 0:00:01\n",
      "\u001b[?25hCollecting boto>=2.32\n",
      "\u001b[?25l  Downloading https://files.pythonhosted.org/packages/23/10/c0b78c27298029e4454a472a1919bde20cb182dab1662cec7f2ca1dcc523/boto-2.49.0-py2.py3-none-any.whl (1.4MB)\n",
      "\u001b[K     |████████████████████████████████| 1.4MB 17.6MB/s eta 0:00:01    |██▏                             | 92kB 16.8MB/s eta 0:00:01\n",
      "\u001b[?25hRequirement already satisfied: requests in /home/kmotohas/miniconda3/lib/python3.7/site-packages (from smart-open>=1.8.1->gensim) (2.22.0)\n",
      "Collecting boto3\n",
      "\u001b[?25l  Downloading https://files.pythonhosted.org/packages/7f/4f/880cb8ed7856bc6f7b1488210259bbd1155c68d3f0a972b0c90b54205e44/boto3-1.10.14-py2.py3-none-any.whl (128kB)\n",
      "\u001b[K     |████████████████████████████████| 133kB 19.7MB/s eta 0:00:01\n",
      "\u001b[?25hRequirement already satisfied: chardet<3.1.0,>=3.0.2 in /home/kmotohas/miniconda3/lib/python3.7/site-packages (from requests->smart-open>=1.8.1->gensim) (3.0.4)\n",
      "Requirement already satisfied: urllib3!=1.25.0,!=1.25.1,<1.26,>=1.21.1 in /home/kmotohas/miniconda3/lib/python3.7/site-packages (from requests->smart-open>=1.8.1->gensim) (1.24.2)\n",
      "Requirement already satisfied: certifi>=2017.4.17 in /home/kmotohas/miniconda3/lib/python3.7/site-packages (from requests->smart-open>=1.8.1->gensim) (2019.9.11)\n",
      "Requirement already satisfied: idna<2.9,>=2.5 in /home/kmotohas/miniconda3/lib/python3.7/site-packages (from requests->smart-open>=1.8.1->gensim) (2.8)\n",
      "Collecting s3transfer<0.3.0,>=0.2.0\n",
      "\u001b[?25l  Downloading https://files.pythonhosted.org/packages/16/8a/1fc3dba0c4923c2a76e1ff0d52b305c44606da63f718d14d3231e21c51b0/s3transfer-0.2.1-py2.py3-none-any.whl (70kB)\n",
      "\u001b[K     |████████████████████████████████| 71kB 7.2MB/s  eta 0:00:01\n",
      "\u001b[?25hCollecting botocore<1.14.0,>=1.13.14\n",
      "\u001b[?25l  Downloading https://files.pythonhosted.org/packages/87/7b/9164e0fd67ced4919131f2bdf3507589a0059f9033feda92b83cc36dae71/botocore-1.13.14-py2.py3-none-any.whl (5.4MB)\n",
      "\u001b[K     |████████████████████████████████| 5.4MB 7.4MB/s eta 0:00:01     |█▏                              | 194kB 7.4MB/s eta 0:00:01     |████████▉                       | 1.5MB 7.4MB/s eta 0:00:01     |███████████████████▉            | 3.3MB 7.4MB/s eta 0:00:01     |███████████████████████         | 3.9MB 7.4MB/s eta 0:00:01\n",
      "\u001b[?25hCollecting jmespath<1.0.0,>=0.7.1\n",
      "  Downloading https://files.pythonhosted.org/packages/83/94/7179c3832a6d45b266ddb2aac329e101367fbdb11f425f13771d27f225bb/jmespath-0.9.4-py2.py3-none-any.whl\n",
      "Collecting docutils<0.16,>=0.10\n",
      "\u001b[?25l  Downloading https://files.pythonhosted.org/packages/22/cd/a6aa959dca619918ccb55023b4cb151949c64d4d5d55b3f4ffd7eee0c6e8/docutils-0.15.2-py3-none-any.whl (547kB)\n",
      "\u001b[K     |████████████████████████████████| 552kB 8.2MB/s eta 0:00:01\n",
      "\u001b[?25hBuilding wheels for collected packages: smart-open\n",
      "  Building wheel for smart-open (setup.py) ... \u001b[?25ldone\n",
      "\u001b[?25h  Created wheel for smart-open: filename=smart_open-1.9.0-cp37-none-any.whl size=73088 sha256=5fc6176ec5d7d0cb28aac90c3b59827df4df9dff5eafc051354bd4f0ac92e42f\n",
      "  Stored in directory: /home/kmotohas/.cache/pip/wheels/ab/10/93/5cff86f5b721d77edaecc29959b1c60d894be1f66d91407d28\n",
      "Successfully built smart-open\n",
      "\u001b[31mERROR: botocore 1.13.14 has requirement python-dateutil<2.8.1,>=2.1; python_version >= \"2.7\", but you'll have python-dateutil 2.8.1 which is incompatible.\u001b[0m\n",
      "Installing collected packages: python-utils, progressbar2, pytz, pandas, chakin, boto, docutils, jmespath, botocore, s3transfer, boto3, smart-open, scipy, gensim\n",
      "Successfully installed boto-2.49.0 boto3-1.10.14 botocore-1.13.14 chakin-0.0.8 docutils-0.15.2 gensim-3.8.1 jmespath-0.9.4 pandas-0.25.3 progressbar2-3.47.0 python-utils-2.3.0 pytz-2019.3 s3transfer-0.2.1 scipy-1.3.1 smart-open-1.9.0\n"
     ]
    }
   ],
   "source": [
    "!pip install chakin gensim"
   ]
  },
  {
   "cell_type": "code",
   "execution_count": 1,
   "metadata": {},
   "outputs": [
    {
     "name": "stdout",
     "output_type": "stream",
     "text": [
      "                         Name  Dimension     Corpus VocabularySize  \\\n",
      "6                fastText(ja)        300  Wikipedia           580K   \n",
      "22  word2vec.Wiki-NEologd.50d         50  Wikipedia           335K   \n",
      "\n",
      "                Method  Language                 Author  \n",
      "6             fastText  Japanese               Facebook  \n",
      "22  word2vec + NEologd  Japanese  Shiroyagi Corporation  \n"
     ]
    }
   ],
   "source": [
    "import chakin\n",
    "chakin.search(lang='Japanese')"
   ]
  },
  {
   "cell_type": "code",
   "execution_count": 2,
   "metadata": {
    "scrolled": true
   },
   "outputs": [
    {
     "name": "stderr",
     "output_type": "stream",
     "text": [
      "Test: 100% ||                                      | Time:  0:00:53  22.7 MiB/s\n"
     ]
    },
    {
     "data": {
      "text/plain": [
       "'../models/cc.ja.300.vec.gz'"
      ]
     },
     "execution_count": 2,
     "metadata": {},
     "output_type": "execute_result"
    }
   ],
   "source": [
    "chakin.download(number=6, save_dir='../models')"
   ]
  },
  {
   "cell_type": "code",
   "execution_count": null,
   "metadata": {},
   "outputs": [],
   "source": [
    "#!gunzip -d ../models/cc.ja.300.vec.gz"
   ]
  },
  {
   "cell_type": "code",
   "execution_count": 4,
   "metadata": {},
   "outputs": [],
   "source": [
    "%time\n",
    "from gensim.models import KeyedVectors\n",
    "wv = KeyedVectors.load_word2vec_format('../models/cc.ja.300.vec.gz', binary=False)"
   ]
  },
  {
   "cell_type": "code",
   "execution_count": 9,
   "metadata": {},
   "outputs": [
    {
     "name": "stdout",
     "output_type": "stream",
     "text": [
      "CPU times: user 1min 17s, sys: 9.85 s, total: 1min 27s\n",
      "Wall time: 1min 19s\n"
     ]
    }
   ],
   "source": [
    "%%time\n",
    "import spacy\n",
    "nlp = spacy.load('ja_ginza')\n",
    "nlp.vocab.reset_vectors(width=wv.vectors.shape[1])\n",
    "for word in wv.vocab.keys():\n",
    "    nlp.vocab[word]\n",
    "    nlp.vocab.set_vector(word, wv[word])\n"
   ]
  },
  {
   "cell_type": "code",
   "execution_count": 7,
   "metadata": {},
   "outputs": [
    {
     "data": {
      "text/plain": [
       "(2113837, 300)"
      ]
     },
     "execution_count": 7,
     "metadata": {},
     "output_type": "execute_result"
    }
   ],
   "source": [
    "nlp.vocab.vectors.shape"
   ]
  },
  {
   "cell_type": "code",
   "execution_count": 10,
   "metadata": {},
   "outputs": [
    {
     "data": {
      "text/plain": [
       "(2000000, 300)"
      ]
     },
     "execution_count": 10,
     "metadata": {},
     "output_type": "execute_result"
    }
   ],
   "source": [
    "wv.vectors.shape  # (number of words 2M, number of embedding dimensions 300)"
   ]
  },
  {
   "cell_type": "code",
   "execution_count": 11,
   "metadata": {},
   "outputs": [
    {
     "name": "stdout",
     "output_type": "stream",
     "text": [
      "ジベルニー\n",
      "(300,)\n",
      "[ 4.030e-02  5.760e-02  6.030e-02 -1.640e-02  1.930e-02 -2.260e-02\n",
      " -5.230e-02 -3.390e-02 -7.340e-02 -1.540e-02  1.530e-02  7.730e-02\n",
      "  4.300e-03 -2.060e-02 -3.110e-02  3.300e-02 -2.440e-02  1.800e-02\n",
      "  1.260e-02  7.000e-03  1.920e-02  1.470e-02 -4.820e-02  1.010e-01\n",
      "  3.940e-02  2.170e-02 -3.330e-02  3.820e-02  5.530e-02  3.530e-02\n",
      " -3.000e-03 -9.240e-02  2.770e-02 -3.250e-02  5.380e-02 -3.120e-02\n",
      "  7.550e-02 -4.930e-02  3.620e-02 -1.190e-02  1.960e-02  3.410e-02\n",
      " -4.960e-02  4.900e-03 -4.130e-02  9.800e-03 -1.170e-02  1.790e-02\n",
      " -2.530e-02 -1.500e-02 -8.900e-03 -4.300e-03 -4.220e-02  2.200e-03\n",
      " -2.970e-02 -3.430e-02  4.030e-02 -8.400e-03  8.400e-03  9.820e-02\n",
      " -9.930e-02  1.480e-02 -4.040e-02 -3.850e-02 -7.010e-02 -4.360e-02\n",
      "  1.220e-02 -3.250e-02  1.280e-02  4.320e-02  2.190e-02 -7.520e-02\n",
      "  3.260e-02  8.200e-03  1.100e-02  2.110e-02  1.100e-02 -1.020e-02\n",
      " -3.260e-02  2.660e-02  4.000e-02  9.030e-02 -6.520e-02  2.360e-02\n",
      " -1.810e-02  3.970e-02  5.700e-02  1.430e-02 -1.000e-03 -3.130e-02\n",
      " -1.042e-01 -1.440e-02 -1.210e-02 -1.090e-01  2.210e-02  4.700e-03\n",
      " -6.540e-02 -2.430e-02 -3.140e-02  4.120e-02 -8.500e-03 -2.300e-02\n",
      "  1.460e-02  1.500e-02 -3.990e-02  8.700e-02 -2.370e-02  1.860e-02\n",
      " -6.130e-02 -5.730e-02  7.400e-03  8.500e-03  4.800e-03 -2.210e-02\n",
      "  4.600e-03  2.310e-02 -1.460e-02  5.720e-02  6.580e-02 -1.084e-01\n",
      "  3.960e-02 -1.240e-02  4.460e-02  3.000e-04 -6.830e-02 -1.010e-02\n",
      " -5.680e-02 -2.240e-02  7.200e-03 -8.700e-03  7.150e-02  4.800e-03\n",
      " -2.410e-02 -4.790e-02 -2.200e-03 -1.330e-02  3.200e-02 -7.950e-02\n",
      " -2.350e-02  2.600e-03 -2.670e-02  3.310e-02 -5.510e-02 -2.070e-02\n",
      "  5.400e-03  1.970e-02  1.010e-02 -5.130e-02 -9.970e-02  2.830e-02\n",
      " -5.930e-02 -4.490e-02  3.260e-02 -4.900e-02  3.000e-04 -1.920e-02\n",
      " -1.040e-02 -1.280e-02 -1.510e-02  4.310e-02 -3.130e-02 -1.000e-03\n",
      "  2.580e-02  1.480e-02 -1.520e-02 -4.500e-02 -9.760e-02  1.010e-02\n",
      "  3.150e-02  6.900e-03 -1.220e-02  1.100e-03 -1.800e-02  4.470e-02\n",
      " -8.920e-02  1.680e-02 -3.700e-02 -8.300e-03  1.140e-02 -3.370e-02\n",
      " -6.260e-02 -5.530e-02  1.140e-02  8.300e-03 -1.540e-02  2.850e-02\n",
      " -3.510e-02 -1.850e-02  3.010e-02 -3.230e-02 -2.180e-02 -5.720e-02\n",
      " -1.710e-02 -1.410e-02 -2.610e-02  4.520e-02  2.900e-02  1.390e-02\n",
      "  3.070e-02  2.030e-02  4.140e-02  2.590e-02  5.600e-03  2.260e-02\n",
      "  1.350e-02 -8.300e-03  2.640e-02  4.300e-02 -1.360e-02  2.260e-02\n",
      "  4.700e-03 -5.220e-02  1.800e-03  3.800e-02  3.050e-02 -1.298e-01\n",
      "  2.340e-02 -2.647e-01 -3.700e-03  1.500e-03 -6.150e-02  1.980e-02\n",
      "  3.670e-02 -4.700e-03 -6.480e-02 -1.210e-02 -3.220e-02 -6.270e-02\n",
      "  2.000e-04 -7.700e-03  4.430e-02  2.990e-02  6.230e-02  1.650e-02\n",
      "  1.700e-03 -3.490e-02 -1.970e-02  2.270e-02  4.260e-02  1.130e-02\n",
      " -6.000e-04 -5.660e-02  1.588e-01  4.410e-02  9.000e-03 -4.440e-02\n",
      " -4.640e-02  2.570e-02 -8.000e-04  3.540e-02 -2.900e-02 -4.610e-02\n",
      "  4.500e-03  1.510e-02  1.091e-01 -3.730e-02  2.220e-02 -3.310e-02\n",
      "  5.410e-02 -1.990e-02 -8.310e-02  4.270e-02 -2.710e-02  0.000e+00\n",
      " -7.730e-02 -1.130e-02  1.240e-02  5.450e-02 -1.480e-02 -5.200e-03\n",
      " -1.540e-02  1.210e-02  4.140e-02  6.520e-02 -2.020e-02 -1.290e-02\n",
      " -1.020e-02  2.390e-02 -7.760e-02  6.130e-02 -3.000e-03  4.030e-02\n",
      "  2.570e-02  2.470e-02  7.040e-02  2.270e-02 -5.200e-02  9.500e-03\n",
      "  4.320e-02  5.150e-02 -7.700e-03 -1.450e-02 -7.170e-02  5.120e-02\n",
      " -7.610e-02  5.000e-02  1.030e-02 -1.910e-02 -5.310e-02  2.660e-02]\n"
     ]
    }
   ],
   "source": [
    "doc = nlp('2018年の夏にフランスに行った。ジベルニー村のジャン・クロード・モネの家で池に浮かぶ睡蓮を見た。')\n",
    "tok = doc[10]\n",
    "print(tok)\n",
    "print(tok.vector.shape)\n",
    "print(tok.vector)"
   ]
  },
  {
   "cell_type": "code",
   "execution_count": 1,
   "metadata": {},
   "outputs": [
    {
     "data": {
      "text/plain": [
       "True"
      ]
     },
     "execution_count": 1,
     "metadata": {},
     "output_type": "execute_result"
    }
   ],
   "source": [
    "import spacy\n",
    "spacy.require_gpu()"
   ]
  },
  {
   "cell_type": "code",
   "execution_count": 2,
   "metadata": {},
   "outputs": [],
   "source": [
    "from thinc.extra.load_nlp import get_spacy\n",
    "nlp = get_spacy('ja_ginza')"
   ]
  },
  {
   "cell_type": "code",
   "execution_count": null,
   "metadata": {},
   "outputs": [],
   "source": []
  }
 ],
 "metadata": {
  "kernelspec": {
   "display_name": "Python 3",
   "language": "python",
   "name": "python3"
  },
  "language_info": {
   "codemirror_mode": {
    "name": "ipython",
    "version": 3
   },
   "file_extension": ".py",
   "mimetype": "text/x-python",
   "name": "python",
   "nbconvert_exporter": "python",
   "pygments_lexer": "ipython3",
   "version": "3.7.5"
  }
 },
 "nbformat": 4,
 "nbformat_minor": 2
}
