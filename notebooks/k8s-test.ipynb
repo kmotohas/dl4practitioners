{
 "cells": [
  {
   "cell_type": "markdown",
   "metadata": {},
   "source": [
    "based on https://codefresh.io/kubernetes-tutorial/local-kubernetes-mac-minikube-vs-docker-desktop/"
   ]
  },
  {
   "cell_type": "markdown",
   "metadata": {},
   "source": [
    "# Docker on Mac で Kubernetes"
   ]
  },
  {
   "cell_type": "markdown",
   "metadata": {},
   "source": [
    "docker mac install\n",
    "\n",
    "kubernetes on"
   ]
  },
  {
   "cell_type": "code",
   "execution_count": 2,
   "metadata": {},
   "outputs": [
    {
     "name": "stdout",
     "output_type": "stream",
     "text": [
      "CURRENT   NAME                 CLUSTER          AUTHINFO         NAMESPACE\r\n",
      "          docker-desktop       docker-desktop   docker-desktop   \r\n",
      "*         docker-for-desktop   docker-desktop   docker-desktop   \r\n"
     ]
    }
   ],
   "source": [
    "!kubectl config get-contexts"
   ]
  },
  {
   "cell_type": "code",
   "execution_count": 3,
   "metadata": {
    "scrolled": true
   },
   "outputs": [
    {
     "name": "stdout",
     "output_type": "stream",
     "text": [
      "Switched to context \"docker-for-desktop\".\r\n"
     ]
    }
   ],
   "source": [
    "!kubectl config use-context docker-for-desktop"
   ]
  },
  {
   "cell_type": "markdown",
   "metadata": {},
   "source": [
    "dashboardの有効化 https://github.com/kubernetes/dashboard\n",
    "\n",
    "Installation\n",
    "Before installing the new beta, remove the previous version by deleting its namespace:\n",
    "\n",
    "`kubectl delete ns kubernetes-dashboard`\n",
    "\n",
    "Then deploy new beta:\n",
    "\n",
    "`kubectl apply -f https://raw.githubusercontent.com/kubernetes/dashboard/v2.0.0-rc1/aio/deploy/recommend`"
   ]
  },
  {
   "cell_type": "code",
   "execution_count": 4,
   "metadata": {},
   "outputs": [
    {
     "name": "stdout",
     "output_type": "stream",
     "text": [
      "namespace/kubernetes-dashboard created\n",
      "serviceaccount/kubernetes-dashboard created\n",
      "service/kubernetes-dashboard created\n",
      "secret/kubernetes-dashboard-certs created\n",
      "secret/kubernetes-dashboard-csrf created\n",
      "secret/kubernetes-dashboard-key-holder created\n",
      "configmap/kubernetes-dashboard-settings created\n",
      "role.rbac.authorization.k8s.io/kubernetes-dashboard created\n",
      "clusterrole.rbac.authorization.k8s.io/kubernetes-dashboard created\n",
      "rolebinding.rbac.authorization.k8s.io/kubernetes-dashboard created\n",
      "clusterrolebinding.rbac.authorization.k8s.io/kubernetes-dashboard created\n",
      "deployment.apps/kubernetes-dashboard created\n",
      "service/dashboard-metrics-scraper created\n",
      "deployment.apps/dashboard-metrics-scraper created\n"
     ]
    }
   ],
   "source": [
    "!kubectl apply -f https://raw.githubusercontent.com/kubernetes/dashboard/v2.0.0-rc1/aio/deploy/recommended.yaml"
   ]
  },
  {
   "cell_type": "code",
   "execution_count": 5,
   "metadata": {},
   "outputs": [
    {
     "name": "stdout",
     "output_type": "stream",
     "text": [
      "Starting to serve on 127.0.0.1:8001\n",
      "^C\n"
     ]
    }
   ],
   "source": [
    "!kubectl proxy"
   ]
  },
  {
   "cell_type": "markdown",
   "metadata": {},
   "source": [
    "release1.7以降admin権限はデフォルトで付与されない。access control について知らないといけない。\n",
    "\n",
    "- https://github.com/kubernetes/dashboard/blob/master/docs/user/access-control/README.md\n",
    "- https://kubernetes.io/docs/reference/access-authn-authz/authentication/\n",
    "\n",
    "two categories of users\n",
    "- service accounts\n",
    "- normal users"
   ]
  },
  {
   "cell_type": "code",
   "execution_count": 8,
   "metadata": {},
   "outputs": [
    {
     "name": "stdout",
     "output_type": "stream",
     "text": [
      "NAME                               TYPE                                  DATA   AGE\r\n",
      "default-token-mmb6n                kubernetes.io/service-account-token   3      148m\r\n",
      "kubernetes-dashboard-certs         Opaque                                0      148m\r\n",
      "kubernetes-dashboard-csrf          Opaque                                1      148m\r\n",
      "kubernetes-dashboard-key-holder    Opaque                                2      148m\r\n",
      "kubernetes-dashboard-token-jmk2m   kubernetes.io/service-account-token   3      148m\r\n"
     ]
    }
   ],
   "source": [
    "!kubectl -n kubernetes-dashboard get secret"
   ]
  },
  {
   "cell_type": "code",
   "execution_count": null,
   "metadata": {},
   "outputs": [],
   "source": [
    "!kubectl -n kubernetes-dashboard describe secrets kubernetes-dashboard-token-jmk2m"
   ]
  },
  {
   "cell_type": "markdown",
   "metadata": {},
   "source": [
    "Deployment"
   ]
  },
  {
   "cell_type": "code",
   "execution_count": 11,
   "metadata": {},
   "outputs": [
    {
     "name": "stdout",
     "output_type": "stream",
     "text": [
      "kubectl run --generator=deployment/apps.v1 is DEPRECATED and will be removed in a future version. Use kubectl run --generator=run-pod/v1 or kubectl create instead.\n",
      "deployment.apps/nginx created\n"
     ]
    }
   ],
   "source": [
    "!kubectl run nginx --image nginx"
   ]
  },
  {
   "cell_type": "code",
   "execution_count": 12,
   "metadata": {},
   "outputs": [
    {
     "name": "stdout",
     "output_type": "stream",
     "text": [
      "service/nginx exposed\r\n"
     ]
    }
   ],
   "source": [
    "!kubectl expose deployment nginx --port 80 --target-port 80 --name nginx"
   ]
  },
  {
   "cell_type": "code",
   "execution_count": 13,
   "metadata": {},
   "outputs": [
    {
     "name": "stdout",
     "output_type": "stream",
     "text": [
      "NAME                     READY   STATUS    RESTARTS   AGE\r\n",
      "nginx-7db9fccd9b-9rkts   1/1     Running   0          4m2s\r\n"
     ]
    }
   ],
   "source": [
    "!kubectl get pods"
   ]
  },
  {
   "cell_type": "code",
   "execution_count": null,
   "metadata": {},
   "outputs": [],
   "source": []
  }
 ],
 "metadata": {
  "kernelspec": {
   "display_name": "Python 3",
   "language": "python",
   "name": "python3"
  },
  "language_info": {
   "codemirror_mode": {
    "name": "ipython",
    "version": 3
   },
   "file_extension": ".py",
   "mimetype": "text/x-python",
   "name": "python",
   "nbconvert_exporter": "python",
   "pygments_lexer": "ipython3",
   "version": "3.7.6"
  }
 },
 "nbformat": 4,
 "nbformat_minor": 2
}
