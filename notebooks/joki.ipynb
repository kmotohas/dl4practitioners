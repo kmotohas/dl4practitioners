{
  "nbformat": 4,
  "nbformat_minor": 0,
  "metadata": {
    "kernelspec": {
      "display_name": "Python 3",
      "language": "python",
      "name": "python3"
    },
    "language_info": {
      "codemirror_mode": {
        "name": "ipython",
        "version": 3
      },
      "file_extension": ".py",
      "mimetype": "text/x-python",
      "name": "python",
      "nbconvert_exporter": "python",
      "pygments_lexer": "ipython3",
      "version": "3.7.5"
    },
    "colab": {
      "name": "joki.ipynb",
      "provenance": [],
      "collapsed_sections": [],
      "toc_visible": true,
      "include_colab_link": true
    }
  },
  "cells": [
    {
      "cell_type": "markdown",
      "metadata": {
        "id": "view-in-github",
        "colab_type": "text"
      },
      "source": [
        "<a href=\"https://colab.research.google.com/github/kmotohas/dl4practitioners/blob/master/notebooks/joki.ipynb\" target=\"_parent\"><img src=\"https://colab.research.google.com/assets/colab-badge.svg\" alt=\"Open In Colab\"/></a>"
      ]
    },
    {
      "cell_type": "markdown",
      "metadata": {
        "id": "FE5T5GV4rqeM",
        "colab_type": "text"
      },
      "source": [
        "# 第3章 ハンズオンで学ぶ文書分類モデルの作成とツールの利用方法（仮）\n",
        "\n",
        "本章では文書分類モデルの作成を通じて自然言語処理で用いられる数々のPythonツールの利用方法を学びます。データの準備、形態素解析、正規化などの前処理、機械学習モデルの訓練、そして評価という一連の流れを体験しましょう。\n",
        "\n",
        "なお、動作確認は以下の環境で行いました。\n",
        "\n",
        "- Machine (AWS EC2 p2.xlargeインスタンス)\n",
        "    - OS: Ubuntu 16.04\n",
        "    - CPU: Intel(R) Xeon(R) CPU E5-2686 v4 @ 2.30GHz\n",
        "    - RAM: 64GB \n",
        "    - GPU: NVIDIA Tesla K80\n",
        "- Python\n",
        "    - python: 3.7.5\n",
        "    - mecab-python3: 0.996.2\n",
        "    - torch (PyTorch): 1.3.1\n",
        "    - torchtext: 0.4.0\n",
        "    - transformers 2.3.0\n",
        "    - spaCy 2.2.3\n",
        "    - cupy 7.0.0\n",
        "    \n"
      ]
    },
    {
      "cell_type": "markdown",
      "metadata": {
        "id": "ipZ-KD2p360E",
        "colab_type": "text"
      },
      "source": [
        "## 3.1 機械学習モデル開発のワークフローと本章で扱う内容\n",
        "\n",
        "文書分類のモデルは基本的に**教師あり学習**の枠組みで訓練します。つまり、図のようにテキストとラベルのペアで訓練データを用意します。例えばニュース記事があるとして、その記事はスポーツニュースなのか、芸能ニュースなのか、政治ニュースなのかを記事内の文章から分類したいとします。このときニュース記事の文章と、分類すべきカテゴリーの名前をペアとして扱います。\n",
        "\n",
        "![training](https://github.com/kmotohas/dl4practitioners/blob/master/notebooks/figures/training.png?raw=1)\n",
        "<center>機械学習モデル開発のワークフロー (図出典: https://spacy.io/usage/training)</center>\n",
        "\n",
        "大まかにいうと大体以下の様な流れに沿って機械学習モデルの学習を進めていきます。\n",
        "\n",
        "1. 訓練用のデータセットを用意する\n",
        "2. 分類に用いる機械学習モデルを準備する\n",
        "3. モデルに訓練データのテキストを入力して予測値を得る\n",
        "4. モデルの予測と真のラベルを比較する\n",
        "5. 誤差を減らすようなモデルのパラメーター (重み) の更新値 (gradient) を計算する\n",
        "6. モデルのパラメーターを更新する\n",
        "7. 3から6を繰り返す\n",
        "\n",
        "具体的な手順に関しては次の節以降で見ていきましょう。\n",
        "\n"
      ]
    },
    {
      "cell_type": "markdown",
      "metadata": {
        "id": "ocmWXuhp36es",
        "colab_type": "text"
      },
      "source": [
        "## 3.2 文書分類ハンズオン\n",
        "\n",
        "ここではExplosion AIが開発する汎用的な自然言語処理ツールである **spaCy** と、Hugging Faceが開発するtransformerベースの現在最先端のモデルを簡単に利用するためのツールである **transformers** を扱ってニュース記事の分類モデルを作成します。\n",
        "\n"
      ]
    },
    {
      "cell_type": "markdown",
      "metadata": {
        "id": "Ot_SjKR04CI3",
        "colab_type": "text"
      },
      "source": [
        "### 3.2.1 本章で扱う主な自然言語処理ツールの解説\n",
        "\n"
      ]
    },
    {
      "cell_type": "markdown",
      "metadata": {
        "id": "pHohQfPJ4HZP",
        "colab_type": "text"
      },
      "source": [
        "#### 3.2.1.1 spaCy\n",
        "\n",
        "spaCy (https://spacy.io/) とはExplosion AIにより開発されている自然言語処理用のライブラリです。spaCyには事前学習済みの統計モデルと単語ベクトルが付属しており、50以上の言語の形態素解析（トークン化）がサポートされています。また、品詞タグ付け、依存関係解析、固有表現抽出、およびテキスト分類のための単語バッグや簡単な畳み込みニューラルネットワークモデルも備えています。MITライセンスの下でリリースされた商用のオープンソースソフトウェアです。\n",
        "\n",
        "spaCyのドキュメンテーション (https://spacy.io/usage/) に従ってインストールしてみましょう。環境によってインストールコマンドが異なるので適宜ドキュメンテーションを参考にしてください。ここではGPU付きのオプションでインストールします。"
      ]
    },
    {
      "cell_type": "code",
      "metadata": {
        "scrolled": true,
        "id": "jvQCKuVprqeP",
        "colab_type": "code",
        "colab": {}
      },
      "source": [
        "!pip install -U spacy[cuda]\n",
        "# pip install -U spacy  # GPUを利用しない場合"
      ],
      "execution_count": 0,
      "outputs": []
    },
    {
      "cell_type": "markdown",
      "metadata": {
        "id": "KrbU5OGxrqeT",
        "colab_type": "text"
      },
      "source": [
        "spaCyと同時に、Explosion AIにより開発されているThinc (https://github.com/explosion/thinc) という機械学習ライブラリや、Preferred NetworksのCUDA対応のNumPy互換行列計算ライブラリであるCuPy (https://cupy.chainer.org/) などがインストールされます。\n",
        "\n",
        "日本語の形態素解析ツールのMeCab (http://taku910.github.io/mecab/) もインストールしましょう。"
      ]
    },
    {
      "cell_type": "code",
      "metadata": {
        "id": "tD3sTq0hrqeU",
        "colab_type": "code",
        "colab": {}
      },
      "source": [
        "!pip install mecab-python3"
      ],
      "execution_count": 0,
      "outputs": []
    },
    {
      "cell_type": "markdown",
      "metadata": {
        "id": "FxOEBwqDrqeX",
        "colab_type": "text"
      },
      "source": [
        "分かち書きのテストをしてみましょう。"
      ]
    },
    {
      "cell_type": "code",
      "metadata": {
        "id": "N8RuwGAlrqeX",
        "colab_type": "code",
        "outputId": "e98a1d11-6d45-487c-f4a7-8460123d7ba4",
        "colab": {}
      },
      "source": [
        "import spacy\n",
        "nlp = spacy.blank('ja')\n",
        "for word in nlp('すもももももももものうち'):\n",
        "    print(word)"
      ],
      "execution_count": 0,
      "outputs": [
        {
          "output_type": "stream",
          "text": [
            "すもも\n",
            "も\n",
            "もも\n",
            "も\n",
            "もも\n",
            "の\n",
            "うち\n"
          ],
          "name": "stdout"
        }
      ]
    },
    {
      "cell_type": "markdown",
      "metadata": {
        "id": "Ur6NrM1Vrqeb",
        "colab_type": "text"
      },
      "source": [
        "うまく単語ごとに分割してくれていますね。本章でのスコープからは外れますが、リクルートと国立国語研究所が開発した GiNZAをインストールするとspaCy経由で日本語文章の解析処理を簡単に行うことができます。"
      ]
    },
    {
      "cell_type": "code",
      "metadata": {
        "id": "e__X0xMnrqec",
        "colab_type": "code",
        "colab": {
          "base_uri": "https://localhost:8080/",
          "height": 935
        },
        "outputId": "b85d9fe2-5048-455e-9808-83edaa3a0af8"
      },
      "source": [
        "!pip install -U ginza"
      ],
      "execution_count": 3,
      "outputs": [
        {
          "output_type": "stream",
          "text": [
            "Collecting ginza\n",
            "  Downloading https://files.pythonhosted.org/packages/60/6f/44cff7c3d131f8c77c92afbd97c45f9b2197aaa4bbcc55ec5eb77c688e0d/ginza-3.1.1.tar.gz\n",
            "Requirement already satisfied, skipping upgrade: spacy>=2.2.3 in /usr/local/lib/python3.6/dist-packages (from ginza) (2.2.3)\n",
            "Collecting ja_ginza<3.2.0,>=3.1.0\n",
            "\u001b[?25l  Downloading https://files.pythonhosted.org/packages/14/02/ad08f43df50c5d877a7b2dcd56f4ebf33a5818b517550516e8ba059069fa/ja_ginza-3.1.0.tar.gz (54.9MB)\n",
            "\u001b[K     |████████████████████████████████| 54.9MB 84kB/s \n",
            "\u001b[?25hRequirement already satisfied, skipping upgrade: SudachiPy>=0.4.2 in /usr/local/lib/python3.6/dist-packages (from ginza) (0.4.2)\n",
            "Requirement already satisfied, skipping upgrade: thinc<7.4.0,>=7.3.0 in /usr/local/lib/python3.6/dist-packages (from spacy>=2.2.3->ginza) (7.3.1)\n",
            "Requirement already satisfied, skipping upgrade: requests<3.0.0,>=2.13.0 in /usr/local/lib/python3.6/dist-packages (from spacy>=2.2.3->ginza) (2.21.0)\n",
            "Requirement already satisfied, skipping upgrade: preshed<3.1.0,>=3.0.2 in /usr/local/lib/python3.6/dist-packages (from spacy>=2.2.3->ginza) (3.0.2)\n",
            "Requirement already satisfied, skipping upgrade: srsly<1.1.0,>=0.1.0 in /usr/local/lib/python3.6/dist-packages (from spacy>=2.2.3->ginza) (1.0.1)\n",
            "Requirement already satisfied, skipping upgrade: plac<1.2.0,>=0.9.6 in /usr/local/lib/python3.6/dist-packages (from spacy>=2.2.3->ginza) (0.9.6)\n",
            "Requirement already satisfied, skipping upgrade: cymem<2.1.0,>=2.0.2 in /usr/local/lib/python3.6/dist-packages (from spacy>=2.2.3->ginza) (2.0.3)\n",
            "Requirement already satisfied, skipping upgrade: numpy>=1.15.0 in /usr/local/lib/python3.6/dist-packages (from spacy>=2.2.3->ginza) (1.17.5)\n",
            "Requirement already satisfied, skipping upgrade: murmurhash<1.1.0,>=0.28.0 in /usr/local/lib/python3.6/dist-packages (from spacy>=2.2.3->ginza) (1.0.2)\n",
            "Requirement already satisfied, skipping upgrade: setuptools in /usr/local/lib/python3.6/dist-packages (from spacy>=2.2.3->ginza) (42.0.2)\n",
            "Requirement already satisfied, skipping upgrade: blis<0.5.0,>=0.4.0 in /usr/local/lib/python3.6/dist-packages (from spacy>=2.2.3->ginza) (0.4.1)\n",
            "Requirement already satisfied, skipping upgrade: catalogue<1.1.0,>=0.0.7 in /usr/local/lib/python3.6/dist-packages (from spacy>=2.2.3->ginza) (1.0.0)\n",
            "Requirement already satisfied, skipping upgrade: wasabi<1.1.0,>=0.4.0 in /usr/local/lib/python3.6/dist-packages (from spacy>=2.2.3->ginza) (0.6.0)\n",
            "Collecting ja_ginza_dict<3.2.0,>=3.1.0\n",
            "\u001b[?25l  Downloading https://files.pythonhosted.org/packages/e8/e5/c4ea3f165acb38fa125e992d1a6fcfb9a5a8ab6a14cc5010c836713c386b/ja_ginza_dict-3.1.0-1.tar.gz (44.8MB)\n",
            "\u001b[K     |████████████████████████████████| 44.8MB 67kB/s \n",
            "\u001b[?25hRequirement already satisfied, skipping upgrade: dartsclone~=0.6.0 in /usr/local/lib/python3.6/dist-packages (from SudachiPy>=0.4.2->ginza) (0.6)\n",
            "Requirement already satisfied, skipping upgrade: sortedcontainers~=2.1.0 in /usr/local/lib/python3.6/dist-packages (from SudachiPy>=0.4.2->ginza) (2.1.0)\n",
            "Requirement already satisfied, skipping upgrade: tqdm<5.0.0,>=4.10.0 in /usr/local/lib/python3.6/dist-packages (from thinc<7.4.0,>=7.3.0->spacy>=2.2.3->ginza) (4.28.1)\n",
            "Requirement already satisfied, skipping upgrade: urllib3<1.25,>=1.21.1 in /usr/local/lib/python3.6/dist-packages (from requests<3.0.0,>=2.13.0->spacy>=2.2.3->ginza) (1.24.3)\n",
            "Requirement already satisfied, skipping upgrade: certifi>=2017.4.17 in /usr/local/lib/python3.6/dist-packages (from requests<3.0.0,>=2.13.0->spacy>=2.2.3->ginza) (2019.11.28)\n",
            "Requirement already satisfied, skipping upgrade: chardet<3.1.0,>=3.0.2 in /usr/local/lib/python3.6/dist-packages (from requests<3.0.0,>=2.13.0->spacy>=2.2.3->ginza) (3.0.4)\n",
            "Requirement already satisfied, skipping upgrade: idna<2.9,>=2.5 in /usr/local/lib/python3.6/dist-packages (from requests<3.0.0,>=2.13.0->spacy>=2.2.3->ginza) (2.8)\n",
            "Requirement already satisfied, skipping upgrade: importlib-metadata>=0.20; python_version < \"3.8\" in /usr/local/lib/python3.6/dist-packages (from catalogue<1.1.0,>=0.0.7->spacy>=2.2.3->ginza) (1.4.0)\n",
            "Requirement already satisfied, skipping upgrade: Cython in /usr/local/lib/python3.6/dist-packages (from dartsclone~=0.6.0->SudachiPy>=0.4.2->ginza) (0.29.14)\n",
            "Requirement already satisfied, skipping upgrade: zipp>=0.5 in /usr/local/lib/python3.6/dist-packages (from importlib-metadata>=0.20; python_version < \"3.8\"->catalogue<1.1.0,>=0.0.7->spacy>=2.2.3->ginza) (0.6.0)\n",
            "Requirement already satisfied, skipping upgrade: more-itertools in /usr/local/lib/python3.6/dist-packages (from zipp>=0.5->importlib-metadata>=0.20; python_version < \"3.8\"->catalogue<1.1.0,>=0.0.7->spacy>=2.2.3->ginza) (8.0.2)\n",
            "Building wheels for collected packages: ginza, ja-ginza, ja-ginza-dict\n",
            "  Building wheel for ginza (setup.py) ... \u001b[?25l\u001b[?25hdone\n",
            "  Created wheel for ginza: filename=ginza-3.1.1-cp36-none-any.whl size=17307 sha256=bf30f648733be3dff719b3675ce6b51aca9e2a3272109f3fba3f7e1efda5a47b\n",
            "  Stored in directory: /root/.cache/pip/wheels/cc/18/14/2bf82ef108dd1c793f80c0dd75cc8599eca857f641b0fe1149\n",
            "  Building wheel for ja-ginza (setup.py) ... \u001b[?25l\u001b[?25hdone\n",
            "  Created wheel for ja-ginza: filename=ja_ginza-3.1.0-cp36-none-any.whl size=54963618 sha256=5da68c3a00759fd5348c10003dc9eacad58e5aede4917552b8ce221f68fda6dd\n",
            "  Stored in directory: /root/.cache/pip/wheels/f2/8a/07/1837eeb5c5648fa8d266102b78a894e495234585ac3f024cf1\n",
            "  Building wheel for ja-ginza-dict (setup.py) ... \u001b[?25l\u001b[?25hdone\n",
            "  Created wheel for ja-ginza-dict: filename=ja_ginza_dict-3.1.0-cp36-none-any.whl size=70877547 sha256=6c94fe8cb9082b4d344dd179a0cf05d6fc8da22ad1438a86e3576170e32c0762\n",
            "  Stored in directory: /root/.cache/pip/wheels/30/88/d7/7f0692ba26060966af34538e1079438d16640c54e04a15a76a\n",
            "Successfully built ginza ja-ginza ja-ginza-dict\n",
            "Installing collected packages: ja-ginza-dict, ja-ginza, ginza\n",
            "  Found existing installation: ja-ginza 2.2.0\n",
            "    Uninstalling ja-ginza-2.2.0:\n",
            "      Successfully uninstalled ja-ginza-2.2.0\n",
            "  Found existing installation: ginza 2.2.1\n",
            "    Uninstalling ginza-2.2.1:\n",
            "      Successfully uninstalled ginza-2.2.1\n",
            "Successfully installed ginza-3.1.1 ja-ginza-3.1.0 ja-ginza-dict-3.1.0\n"
          ],
          "name": "stdout"
        }
      ]
    },
    {
      "cell_type": "markdown",
      "metadata": {
        "id": "MIpGWwj6rqee",
        "colab_type": "text"
      },
      "source": [
        "GiNZAのモデルを利用すると品詞タグ付けのみならず、トークン間の依存関係ラベリングや固有表現抽出などを行うことができます。ここではトークン間の依存関係を図示する例を示します。"
      ]
    },
    {
      "cell_type": "code",
      "metadata": {
        "id": "MZpGLNS0rqef",
        "colab_type": "code",
        "colab": {
          "base_uri": "https://localhost:8080/",
          "height": 55
        },
        "outputId": "445616a8-fae1-4b72-9a7e-dac045274507"
      },
      "source": [
        "import spacy\n",
        "from spacy import displacy\n",
        "nlp = spacy.load('ja_ginza')\n",
        "doc = nlp('すもももももももものうち')\n",
        "displacy.render(doc, style=\"dep\", options={\"compact\":True})"
      ],
      "execution_count": 6,
      "outputs": [
        {
          "output_type": "execute_result",
          "data": {
            "text/plain": [
              "'<svg xmlns=\"http://www.w3.org/2000/svg\" xmlns:xlink=\"http://www.w3.org/1999/xlink\" xml:lang=\"ja\" id=\"c1344fb973b340b19fbc38e9ed4b50b7-0\" class=\"displacy\" width=\"1100\" height=\"362.0\" direction=\"ltr\" style=\"max-width: none; height: 362.0px; color: #000000; background: #ffffff; font-family: Arial; direction: ltr\">\\n<text class=\"displacy-token\" fill=\"currentColor\" text-anchor=\"middle\" y=\"272.0\">\\n    <tspan class=\"displacy-word\" fill=\"currentColor\" x=\"50\">すもも</tspan>\\n    <tspan class=\"displacy-tag\" dy=\"2em\" fill=\"currentColor\" x=\"50\">NOUN</tspan>\\n</text>\\n\\n<text class=\"displacy-token\" fill=\"currentColor\" text-anchor=\"middle\" y=\"272.0\">\\n    <tspan class=\"displacy-word\" fill=\"currentColor\" x=\"200\">も</tspan>\\n    <tspan class=\"displacy-tag\" dy=\"2em\" fill=\"currentColor\" x=\"200\">ADP</tspan>\\n</text>\\n\\n<text class=\"displacy-token\" fill=\"currentColor\" text-anchor=\"middle\" y=\"272.0\">\\n    <tspan class=\"displacy-word\" fill=\"currentColor\" x=\"350\">もも</tspan>\\n    <tspan class=\"displacy-tag\" dy=\"2em\" fill=\"currentColor\" x=\"350\">NOUN</tspan>\\n</text>\\n\\n<text class=\"displacy-token\" fill=\"currentColor\" text-anchor=\"middle\" y=\"272.0\">\\n    <tspan class=\"displacy-word\" fill=\"currentColor\" x=\"500\">も</tspan>\\n    <tspan class=\"displacy-tag\" dy=\"2em\" fill=\"currentColor\" x=\"500\">ADP</tspan>\\n</text>\\n\\n<text class=\"displacy-token\" fill=\"currentColor\" text-anchor=\"middle\" y=\"272.0\">\\n    <tspan class=\"displacy-word\" fill=\"currentColor\" x=\"650\">もも</tspan>\\n    <tspan class=\"displacy-tag\" dy=\"2em\" fill=\"currentColor\" x=\"650\">NOUN</tspan>\\n</text>\\n\\n<text class=\"displacy-token\" fill=\"currentColor\" text-anchor=\"middle\" y=\"272.0\">\\n    <tspan class=\"displacy-word\" fill=\"currentColor\" x=\"800\">の</tspan>\\n    <tspan class=\"displacy-tag\" dy=\"2em\" fill=\"currentColor\" x=\"800\">ADP</tspan>\\n</text>\\n\\n<text class=\"displacy-token\" fill=\"currentColor\" text-anchor=\"middle\" y=\"272.0\">\\n    <tspan class=\"displacy-word\" fill=\"currentColor\" x=\"950\">うち</tspan>\\n    <tspan class=\"displacy-tag\" dy=\"2em\" fill=\"currentColor\" x=\"950\">NOUN</tspan>\\n</text>\\n\\n<g class=\"displacy-arrow\">\\n    <path class=\"displacy-arc\" id=\"arrow-c1344fb973b340b19fbc38e9ed4b50b7-0-0\" stroke-width=\"2px\" d=\"M62,227.0 62,177.0 347.0,177.0 347.0,227.0\" fill=\"none\" stroke=\"currentColor\"/>\\n    <text dy=\"1.25em\" style=\"font-size: 0.8em; letter-spacing: 1px\">\\n        <textPath xlink:href=\"#arrow-c1344fb973b340b19fbc38e9ed4b50b7-0-0\" class=\"displacy-label\" startOffset=\"50%\" side=\"left\" fill=\"currentColor\" text-anchor=\"middle\">obl</textPath>\\n    </text>\\n    <path class=\"displacy-arrowhead\" d=\"M62,229.0 L58,221.0 66,221.0\" fill=\"currentColor\"/>\\n</g>\\n\\n<g class=\"displacy-arrow\">\\n    <path class=\"displacy-arc\" id=\"arrow-c1344fb973b340b19fbc38e9ed4b50b7-0-1\" stroke-width=\"2px\" d=\"M62,227.0 62,202.0 194.0,202.0 194.0,227.0\" fill=\"none\" stroke=\"currentColor\"/>\\n    <text dy=\"1.25em\" style=\"font-size: 0.8em; letter-spacing: 1px\">\\n        <textPath xlink:href=\"#arrow-c1344fb973b340b19fbc38e9ed4b50b7-0-1\" class=\"displacy-label\" startOffset=\"50%\" side=\"left\" fill=\"currentColor\" text-anchor=\"middle\">case</textPath>\\n    </text>\\n    <path class=\"displacy-arrowhead\" d=\"M194.0,229.0 L198.0,221.0 190.0,221.0\" fill=\"currentColor\"/>\\n</g>\\n\\n<g class=\"displacy-arrow\">\\n    <path class=\"displacy-arc\" id=\"arrow-c1344fb973b340b19fbc38e9ed4b50b7-0-2\" stroke-width=\"2px\" d=\"M362,227.0 362,152.0 950.0,152.0 950.0,227.0\" fill=\"none\" stroke=\"currentColor\"/>\\n    <text dy=\"1.25em\" style=\"font-size: 0.8em; letter-spacing: 1px\">\\n        <textPath xlink:href=\"#arrow-c1344fb973b340b19fbc38e9ed4b50b7-0-2\" class=\"displacy-label\" startOffset=\"50%\" side=\"left\" fill=\"currentColor\" text-anchor=\"middle\">obl</textPath>\\n    </text>\\n    <path class=\"displacy-arrowhead\" d=\"M362,229.0 L358,221.0 366,221.0\" fill=\"currentColor\"/>\\n</g>\\n\\n<g class=\"displacy-arrow\">\\n    <path class=\"displacy-arc\" id=\"arrow-c1344fb973b340b19fbc38e9ed4b50b7-0-3\" stroke-width=\"2px\" d=\"M362,227.0 362,202.0 494.0,202.0 494.0,227.0\" fill=\"none\" stroke=\"currentColor\"/>\\n    <text dy=\"1.25em\" style=\"font-size: 0.8em; letter-spacing: 1px\">\\n        <textPath xlink:href=\"#arrow-c1344fb973b340b19fbc38e9ed4b50b7-0-3\" class=\"displacy-label\" startOffset=\"50%\" side=\"left\" fill=\"currentColor\" text-anchor=\"middle\">case</textPath>\\n    </text>\\n    <path class=\"displacy-arrowhead\" d=\"M494.0,229.0 L498.0,221.0 490.0,221.0\" fill=\"currentColor\"/>\\n</g>\\n\\n<g class=\"displacy-arrow\">\\n    <path class=\"displacy-arc\" id=\"arrow-c1344fb973b340b19fbc38e9ed4b50b7-0-4\" stroke-width=\"2px\" d=\"M662,227.0 662,177.0 947.0,177.0 947.0,227.0\" fill=\"none\" stroke=\"currentColor\"/>\\n    <text dy=\"1.25em\" style=\"font-size: 0.8em; letter-spacing: 1px\">\\n        <textPath xlink:href=\"#arrow-c1344fb973b340b19fbc38e9ed4b50b7-0-4\" class=\"displacy-label\" startOffset=\"50%\" side=\"left\" fill=\"currentColor\" text-anchor=\"middle\">nmod</textPath>\\n    </text>\\n    <path class=\"displacy-arrowhead\" d=\"M662,229.0 L658,221.0 666,221.0\" fill=\"currentColor\"/>\\n</g>\\n\\n<g class=\"displacy-arrow\">\\n    <path class=\"displacy-arc\" id=\"arrow-c1344fb973b340b19fbc38e9ed4b50b7-0-5\" stroke-width=\"2px\" d=\"M662,227.0 662,202.0 794.0,202.0 794.0,227.0\" fill=\"none\" stroke=\"currentColor\"/>\\n    <text dy=\"1.25em\" style=\"font-size: 0.8em; letter-spacing: 1px\">\\n        <textPath xlink:href=\"#arrow-c1344fb973b340b19fbc38e9ed4b50b7-0-5\" class=\"displacy-label\" startOffset=\"50%\" side=\"left\" fill=\"currentColor\" text-anchor=\"middle\">case</textPath>\\n    </text>\\n    <path class=\"displacy-arrowhead\" d=\"M794.0,229.0 L798.0,221.0 790.0,221.0\" fill=\"currentColor\"/>\\n</g>\\n</svg>'"
            ]
          },
          "metadata": {
            "tags": []
          },
          "execution_count": 6
        }
      ]
    },
    {
      "cell_type": "markdown",
      "metadata": {
        "id": "vCWF0o__rqer",
        "colab_type": "text"
      },
      "source": [
        "GiNZAとspaCyに関してはオージス総研グループによる「はじめての自然言語処理　第4回 spaCy/GiNZA を用いた自然言語処理」 (https://www.ogis-ri.co.jp/otc/hiroba/technical/similar-document-search/part4.html) に詳しい解説がありますのでそちらを参照することをお勧めします。"
      ]
    },
    {
      "cell_type": "markdown",
      "metadata": {
        "id": "TqOp7nhKrqer",
        "colab_type": "text"
      },
      "source": [
        "#### 3.2.1.2 Transformers\n",
        "\n",
        "Transformersはtransformerベースの汎用アーキテクチャ （BERT、GPT-2、RoBERTa、XLM、DistilBert、XLNet、CTRL、...） を利用するためのオープンソースのシンプルなAPIを提供しています。開発はHugging Faceにより行われており、100以上の言語に対応した事前学習済みモデルが公開されています。ディープラーニングフレームワークとしてはGoogleのTensorFlow 2.0およびFaceBookが開発しているPyTorchに対応しています。ここではPyTorchを用いることにします。\n",
        "\n",
        "Transformersで用いることのできるモデルのリストはHugging Faceのホームページ (https://huggingface.co/models) にて公開されています。日本語用BERTモデルとしては、執筆時点 (2019年12月) では東北大学 乾・鈴木研究室が公開している以下の4つのモデルを利用可能です。\n",
        "\n",
        "-  `bert-base-japanese`:\n",
        "-  `bert-base-japanese-whole-word-masking`\n",
        "-  `bert-base-japanese-char`\n",
        "-  `bert-base-japanese-char-whole-word-masking`\n",
        "\n",
        "BERTには大きく分けて `BERT-Base` (12-layer, 768-hidden, 12-heads, 110M parameters) と `BERT-Large` (24-layer, 1024-hidden, 16-heads, 340M parameters) のふたつのアーキテクチャーがあります。上記のモデルは `BERT-Base` を日本語のWikipediaのデータを用いて訓練したものです。`bert-base-japanese` はMeCabとWordPieceと呼ばれる手法を用いてテキストの分かち書きを行った後に訓練されたものであり、`bert-base-japanese-char` ではテキストを文字ごとに分割しています。\n",
        "\n",
        "BERTの訓練時に行うタスクのひとつに、文章内のトークンをマスクし、そのトークンを予測する、というものがあります。例えば `\"He likes playing the piano.\"` という文章を `\"He likes [MASK] ##ing the piano.\"` という文章に変換し、`[MASK]` に含まれるトークンを予測します。なお、`##` から始まるトークンは接尾辞を表しています。このとき、単語に対応するトークンはまとめてマスクするのが Whole Word Masking と呼ばれる手法です。先ほどの文章を `\"He likes [MASK] [MASK] the piano.\"` のようにマスクして訓練したモデルが `bert-base-japanese-whole-word-masking` および、`bert-base-japanese-char-whole-word-masking` です。\n",
        "\n",
        "さて、transformersをインストールしてみましょう。環境によってインストールコマンドが異なります。https://pytorch.org/get-started/ を参照してください。"
      ]
    },
    {
      "cell_type": "code",
      "metadata": {
        "id": "55nJ8ixfrqes",
        "colab_type": "code",
        "colab": {}
      },
      "source": [
        "# 2019年12月現在、NVIDIAのGPUを搭載したLinuxマシンにPyTorchをインストールするコマンドは以下の通りです。\n",
        "!pip install torch torchvision"
      ],
      "execution_count": 0,
      "outputs": []
    },
    {
      "cell_type": "markdown",
      "metadata": {
        "id": "CzYVPZ8Irqeu",
        "colab_type": "text"
      },
      "source": [
        "PyTorchで自然言語処理を行うときに便利なライブラリであるtorchtextもインストールしましょう。"
      ]
    },
    {
      "cell_type": "code",
      "metadata": {
        "id": "_wY8FVJ_rqev",
        "colab_type": "code",
        "colab": {}
      },
      "source": [
        "!pip install torchtext"
      ],
      "execution_count": 0,
      "outputs": []
    },
    {
      "cell_type": "markdown",
      "metadata": {
        "id": "Q3VyEEVyrqex",
        "colab_type": "text"
      },
      "source": [
        "transformersのインストールもpipを用いて簡単に行えます。"
      ]
    },
    {
      "cell_type": "code",
      "metadata": {
        "scrolled": true,
        "id": "M1Oowlwsrqey",
        "colab_type": "code",
        "colab": {}
      },
      "source": [
        "!pip install transformers"
      ],
      "execution_count": 0,
      "outputs": []
    },
    {
      "cell_type": "markdown",
      "metadata": {
        "id": "WKtrUN72rqe0",
        "colab_type": "text"
      },
      "source": [
        "また、以降で補助的に利用するライブラリもインストールしてください。"
      ]
    },
    {
      "cell_type": "code",
      "metadata": {
        "scrolled": true,
        "id": "IM2O8W24rqe0",
        "colab_type": "code",
        "colab": {}
      },
      "source": [
        "!pip install pandas scikit-learn mojimoji tensorboard"
      ],
      "execution_count": 0,
      "outputs": []
    },
    {
      "cell_type": "markdown",
      "metadata": {
        "id": "lRryt7Mqrqe2",
        "colab_type": "text"
      },
      "source": [
        "- pandas\n",
        "- scikit-learn\n",
        "- seaborn\n",
        "- mojimoji"
      ]
    },
    {
      "cell_type": "markdown",
      "metadata": {
        "id": "56kDF3U-rqe3",
        "colab_type": "text"
      },
      "source": [
        "transformersの `BertJapaneseTokenizer` を用いた日本語文章の分かち書きのテストもしてみましょう。"
      ]
    },
    {
      "cell_type": "code",
      "metadata": {
        "id": "7fSEH5zcrqe4",
        "colab_type": "code",
        "outputId": "68ea5bcc-d429-4c42-fa6f-b707205e3ca9",
        "colab": {}
      },
      "source": [
        "from transformers import BertJapaneseTokenizer\n",
        "tokenizer = BertJapaneseTokenizer.from_pretrained('bert-base-japanese-whole-word-masking')\n",
        "tokenizer.tokenize('いつもプレゼンテーションの撮影に無音カメラアプリをご利用いただきありがとうございます。')"
      ],
      "execution_count": 0,
      "outputs": [
        {
          "output_type": "execute_result",
          "data": {
            "text/plain": [
              "['いつも',\n",
              " 'プレゼンテーション',\n",
              " 'の',\n",
              " '撮影',\n",
              " 'に',\n",
              " '無',\n",
              " '##音',\n",
              " 'カメラ',\n",
              " '##アプリ',\n",
              " 'を',\n",
              " 'ご',\n",
              " '利用',\n",
              " 'いただ',\n",
              " '##き',\n",
              " 'ありがとう',\n",
              " 'ござい',\n",
              " 'ます',\n",
              " '。']"
            ]
          },
          "metadata": {
            "tags": []
          },
          "execution_count": 18
        }
      ]
    },
    {
      "cell_type": "markdown",
      "metadata": {
        "id": "ciO6-Owyrqe7",
        "colab_type": "text"
      },
      "source": [
        "### 3.2.2 データセットの準備\n",
        "\n",
        "次に機械学習モデルの訓練の要であるデータセットの準備をします。ここではlivedoor ニュースコーパスの各段落の文章を入力としてニュースサービスのカテゴリ名を判別するという問題設定でデータセットを作成します。\n",
        "\n"
      ]
    },
    {
      "cell_type": "markdown",
      "metadata": {
        "id": "OaJyUXWK4KA0",
        "colab_type": "text"
      },
      "source": [
        "#### 3.2.2.1 livedoor ニュースコーパス\n",
        "\n",
        "今回は日本語における自然言語処理の試験用データセットとしてしばしば用いられる「livedoor ニュースコーパス」を用います。\n",
        "\n",
        "livedoorニュースはもともと株式会社ライブドアが運営するニュースサイトでしたが、株式会社ライブドアが旧ハンゲームジャパン株式会社であるNHN Japan株式会社に買収され、現在はNHN Japanが社名変更したLINE株式会社により運営されています。livedoorニュースの記事の一部には「クリエイティブ・コモンズライセンス『表示 – 改変禁止』」が適用されており、営利目的を含めて再配布可能となっています。該当するニュース記事を2012年9月上旬に株式会社ロンウイットが収集し、HTMLタグの除去などクリーニングを施した状態で公開しているのが「livedoor ニュースコーパス」です。\n",
        "\n",
        "livedoor ニュースコーパスは以下のリンクよりダウンロード可能です。\n",
        "\n",
        "https://www.rondhuit.com/download.html#ldcc\n",
        "\n",
        "オープンソースの全文検索システムApache Solrで扱いやすいようXML形式でニュースが格納されている `livedoor-news-data.tar.gz` と、シンプルに各々のニュースをテキストファイルとして扱っている `ldcc-20140209.tar.gz` が公開されています。\n",
        "\n",
        "今回は後者の `ldcc-20140209.tar.gz` をダウンロードしてください。`tar xzvf ldcc-20140209.tar.gz` などにより解凍すると `text` という名前のディレクトリが出てきます。以下のPythonスクリプトを実行するとコーパスのダウンロードと圧縮ファイルの解凍が行われ、カレントディレクトリに `text` ディレクトリが作成されます。"
      ]
    },
    {
      "cell_type": "code",
      "metadata": {
        "id": "U0LIWm64rqe7",
        "colab_type": "code",
        "colab": {}
      },
      "source": [
        "import os\n",
        "import urllib.request\n",
        "import tarfile\n",
        "\n",
        "# dataディレクトリの作成\n",
        "#os.makedirs('data', exist_ok=True)\n",
        "\n",
        "url = 'https://www.rondhuit.com/download/ldcc-20140209.tar.gz'\n",
        "file_name = 'ldcc-20140209.tar.gz'\n",
        "\n",
        "# dataディレクトリへのlivedoor ニュースコーパスのダウンロードと解凍\n",
        "if not os.path.exists(file_name):\n",
        "    urllib.request.urlretrieve(url, file_name)\n",
        "    # tar.gzファイルを読み込み\n",
        "    with tarfile.open(file_name) as tar:\n",
        "        tar.extractall()\n",
        "    # tar.gzファイルを消去\n",
        "    os.remove(file_name)"
      ],
      "execution_count": 0,
      "outputs": []
    },
    {
      "cell_type": "markdown",
      "metadata": {
        "id": "vlHzGm5Arqe-",
        "colab_type": "text"
      },
      "source": [
        "`text` ディレクトリの中身の構造は以下の通りです。\n",
        "\n",
        "```\n",
        "text\n",
        "├── CHANGES.txt\n",
        "├── README.txt\n",
        "├── dokujo-tsushin\n",
        "├── it-life-hack\n",
        "├── kaden-channel\n",
        "├── livedoor-homme\n",
        "├── movie-enter\n",
        "├── peachy\n",
        "├── smax\n",
        "├── sports-watch\n",
        "└── topic-news\n",
        "```\n",
        "\n",
        "`dokujo-tsushin` から `topic-news` はディレクトリであり、それぞれにニュース記事のテキストが格納されています。先ほどのツリーの階層をひとつ深くしてみると以下の様になります。\n",
        "\n",
        "```\n",
        "text\n",
        "├── CHANGES.txt\n",
        "├── README.txt\n",
        "├── dokujo-tsushin\n",
        "│   ├── LICENSE.txt\n",
        "│   ├── dokujo-tsushin-4778030.txt\n",
        "│   ├── dokujo-tsushin-4778031.txt\n",
        "│   ├── dokujo-tsushin-4782522.txt\n",
        "...（以下略）\n",
        "```\n",
        "\n",
        "ニュース提供元は以下の9つです。記事の本文の各段落だけを見て、その記事がどのカテゴリに属しているのか（独女通信のニュースなのか、ITライフハックのニュースなのか、など）を判別する文書分類モデルを作成するのが本章の目的です。（記事の本文を全て一度に入力すると問題として簡単すぎるので、ここでは段落ごとに分割して独立した文章として扱っています。）\n",
        "\n",
        "- 独女通信 (http://news.livedoor.com/category/vender/90/)\n",
        "- ITライフハック (http://news.livedoor.com/category/vender/223/)\n",
        "- 家電チャンネル (http://news.livedoor.com/category/vender/kadench/)\n",
        "- livedoor HOMME (http://news.livedoor.com/category/vender/homme/)\n",
        "- MOVIE ENTER (http://news.livedoor.com/category/vender/movie_enter/)\n",
        "- Peachy (http://news.livedoor.com/category/vender/ldgirls/)\n",
        "- エスマックス (http://news.livedoor.com/category/vender/smax/)\n",
        "- Sports Watch (http://news.livedoor.com/category/vender/208/)\n",
        "- トピックニュース (http://news.livedoor.com/category/vender/news/)\n",
        "\n",
        "ちなみに、上記サービスのうちいくつかはドメインが変わっていたり終了しているので一部リンクが切れています。それぞれの記事ファイル（dokujo-tsushin-4778030.txtなど）は以下のフォーマットで構成されています。\n",
        "\n",
        "- １行目: 記事のURL\n",
        "- ２行目: 記事の日付\n",
        "- ３行目: 記事のタイトル\n",
        "- ４行目以降： 記事の本文\n",
        "\n",
        "このままでは少し扱いづらいのでひとつのtsv (tab-separated values) にまとめます。次のスクリプトの実行には多少時間がかかります。私の環境では6分弱かかりました。"
      ]
    },
    {
      "cell_type": "code",
      "metadata": {
        "scrolled": false,
        "id": "CFYcXKuErqe-",
        "colab_type": "code",
        "colab": {}
      },
      "source": [
        "import os\n",
        "import glob\n",
        "\n",
        "import pandas as pd\n",
        "\n",
        "# あまりに短い段落は除く\n",
        "minimum_sentence_length = 32\n",
        "\n",
        "# livedoor ニュースのサービス名のリスト\n",
        "services = [\n",
        "    'dokujo-tsushin',\n",
        "    'it-life-hack',\n",
        "    'kaden-channel',\n",
        "    'livedoor-homme',\n",
        "    'movie-enter',\n",
        "    'peachy',\n",
        "    'smax',\n",
        "    'sports-watch',\n",
        "    'topic-news'\n",
        "]\n",
        "# tsvファイルの各カラムのインデックス名のリスト\n",
        "index = ['url', 'datetime', 'title', 'body']\n",
        "\n",
        "# 空のPandasのDataFrameを準備\n",
        "df = pd.DataFrame()\n",
        "\n",
        "# 各サービスのディレクトリでループ\n",
        "for service in services:\n",
        "    print('===== processing {} ====='.format(service))\n",
        "    # ニュース記事をすべて指定\n",
        "    # パスの例は './text/dokujo-tsushin/dokujo-tsushin-4778030.txt'\n",
        "    # LICENSE.txt は除外\n",
        "    wild_card = os.path.join('text', service, service + '*.txt')\n",
        "    file_paths = glob.glob(wild_card)\n",
        "    # 各ニュース記事のファイルパスでループ\n",
        "    for file_path in file_paths:\n",
        "        # ファイルを開いて一行ずつ読み込む\n",
        "        with open(file_path, 'r') as f:\n",
        "            lines = f.readlines()\n",
        "            # tsv のカラムを辞書型で用意\n",
        "            series_dict = {'service': service}\n",
        "            for num, line in enumerate(lines):\n",
        "                #line = line.replace('\\n', '')  # 改行を削除\n",
        "                # 0, 1, 2行目はそれぞれURL, 日付, 記事タイトルに相当\n",
        "                if num < len(index):\n",
        "                    series_dict[index[num]] = line\n",
        "                # 3行目以降は本文\n",
        "                elif line != '\\n' and line != '':\n",
        "                    series_dict['body'] += line\n",
        "                # lineが空（段落の境目もしくはファイルの末尾）の場合\n",
        "                else:\n",
        "                    if '関連記事' in series_dict['body']:\n",
        "                        pass\n",
        "                    elif '関連リンク' in series_dict['body']:\n",
        "                        pass\n",
        "                    # PandasのSeriesを作成し、DataFrameに追加していく\n",
        "                    elif len(series_dict['body']) > minimum_sentence_length:\n",
        "                        s = pd.Series(series_dict)\n",
        "                        df = df.append(s, ignore_index=True)\n",
        "                    # bodyを初期化\n",
        "                    series_dict['body'] = ''\n",
        "print('done')         "
      ],
      "execution_count": 0,
      "outputs": []
    },
    {
      "cell_type": "markdown",
      "metadata": {
        "id": "ikbRaICgrqfB",
        "colab_type": "text"
      },
      "source": [
        "作成した `DataFrame` の最初の5行と最後の5行だけ抜き出して表示してみましょう。\n",
        "それぞれの行がニュース記事のひとつの段落に対応しています。ニュース記事自体は計7367個ありますが、32文字以下の短い段落を除くと全部で56631個の段落がありことがわかります。"
      ]
    },
    {
      "cell_type": "code",
      "metadata": {
        "scrolled": false,
        "id": "w8lA5pmZrqfC",
        "colab_type": "code",
        "outputId": "34e0f903-9dfc-4954-a1ea-cd5fb21496d8",
        "colab": {}
      },
      "source": [
        "pd.concat([df.head(3), df.tail(3)])"
      ],
      "execution_count": 0,
      "outputs": [
        {
          "output_type": "execute_result",
          "data": {
            "text/html": [
              "<div>\n",
              "<style scoped>\n",
              "    .dataframe tbody tr th:only-of-type {\n",
              "        vertical-align: middle;\n",
              "    }\n",
              "\n",
              "    .dataframe tbody tr th {\n",
              "        vertical-align: top;\n",
              "    }\n",
              "\n",
              "    .dataframe thead th {\n",
              "        text-align: right;\n",
              "    }\n",
              "</style>\n",
              "<table border=\"1\" class=\"dataframe\">\n",
              "  <thead>\n",
              "    <tr style=\"text-align: right;\">\n",
              "      <th></th>\n",
              "      <th>body</th>\n",
              "      <th>datetime</th>\n",
              "      <th>service</th>\n",
              "      <th>title</th>\n",
              "      <th>url</th>\n",
              "    </tr>\n",
              "  </thead>\n",
              "  <tbody>\n",
              "    <tr>\n",
              "      <th>0</th>\n",
              "      <td>「しっかりメイクをしている顔よりも、スッピンのほうがいい」と言う男性は少なくない。しかしメイ...</td>\n",
              "      <td>2011-10-13T15:28:00+0900\\n</td>\n",
              "      <td>dokujo-tsushin</td>\n",
              "      <td>「スッピンのほうがいい」って本当？——言葉の裏に隠された男の本音\\n</td>\n",
              "      <td>http://news.livedoor.com/article/detail/593428...</td>\n",
              "    </tr>\n",
              "    <tr>\n",
              "      <th>1</th>\n",
              "      <td>「『スッピンのほうがいい』とは、スッピンでもメイク時と同じくらいかわいい女性が好みだという意...</td>\n",
              "      <td>2011-10-13T15:28:00+0900\\n</td>\n",
              "      <td>dokujo-tsushin</td>\n",
              "      <td>「スッピンのほうがいい」って本当？——言葉の裏に隠された男の本音\\n</td>\n",
              "      <td>http://news.livedoor.com/article/detail/593428...</td>\n",
              "    </tr>\n",
              "    <tr>\n",
              "      <th>2</th>\n",
              "      <td>●「女の子は多少、太ってるくらいがかわいいよ」\\n女性は年中、ダイエットと向き合っている。ど...</td>\n",
              "      <td>2011-10-13T15:28:00+0900\\n</td>\n",
              "      <td>dokujo-tsushin</td>\n",
              "      <td>「スッピンのほうがいい」って本当？——言葉の裏に隠された男の本音\\n</td>\n",
              "      <td>http://news.livedoor.com/article/detail/593428...</td>\n",
              "    </tr>\n",
              "    <tr>\n",
              "      <th>56628</th>\n",
              "      <td>藤村修官房長官は20日、記者会見を開き、「政府として軍事転用などという考えは一切持っていない...</td>\n",
              "      <td>2012-06-21T20:32:00+0900\\n</td>\n",
              "      <td>topic-news</td>\n",
              "      <td>原子力基本法の改正に、韓国から「日本の核武装を阻止すべき」「我々も核武装だ」の声\\n</td>\n",
              "      <td>http://news.livedoor.com/article/detail/668154...</td>\n",
              "    </tr>\n",
              "    <tr>\n",
              "      <th>56629</th>\n",
              "      <td>ニュースを受け、韓国のネット掲示板では、「日本は本当に怖い国だ」「日本がするなら我々もする」...</td>\n",
              "      <td>2012-06-21T20:32:00+0900\\n</td>\n",
              "      <td>topic-news</td>\n",
              "      <td>原子力基本法の改正に、韓国から「日本の核武装を阻止すべき」「我々も核武装だ」の声\\n</td>\n",
              "      <td>http://news.livedoor.com/article/detail/668154...</td>\n",
              "    </tr>\n",
              "    <tr>\n",
              "      <th>56630</th>\n",
              "      <td>一方で、「韓国、日本、台湾が全部核武装すれば真の平和が訪れるかもしれない」「各国の健全な良識...</td>\n",
              "      <td>2012-06-21T20:32:00+0900\\n</td>\n",
              "      <td>topic-news</td>\n",
              "      <td>原子力基本法の改正に、韓国から「日本の核武装を阻止すべき」「我々も核武装だ」の声\\n</td>\n",
              "      <td>http://news.livedoor.com/article/detail/668154...</td>\n",
              "    </tr>\n",
              "  </tbody>\n",
              "</table>\n",
              "</div>"
            ],
            "text/plain": [
              "                                                    body  \\\n",
              "0      「しっかりメイクをしている顔よりも、スッピンのほうがいい」と言う男性は少なくない。しかしメイ...   \n",
              "1      「『スッピンのほうがいい』とは、スッピンでもメイク時と同じくらいかわいい女性が好みだという意...   \n",
              "2      ●「女の子は多少、太ってるくらいがかわいいよ」\\n女性は年中、ダイエットと向き合っている。ど...   \n",
              "56628  藤村修官房長官は20日、記者会見を開き、「政府として軍事転用などという考えは一切持っていない...   \n",
              "56629  ニュースを受け、韓国のネット掲示板では、「日本は本当に怖い国だ」「日本がするなら我々もする」...   \n",
              "56630  一方で、「韓国、日本、台湾が全部核武装すれば真の平和が訪れるかもしれない」「各国の健全な良識...   \n",
              "\n",
              "                         datetime         service  \\\n",
              "0      2011-10-13T15:28:00+0900\\n  dokujo-tsushin   \n",
              "1      2011-10-13T15:28:00+0900\\n  dokujo-tsushin   \n",
              "2      2011-10-13T15:28:00+0900\\n  dokujo-tsushin   \n",
              "56628  2012-06-21T20:32:00+0900\\n      topic-news   \n",
              "56629  2012-06-21T20:32:00+0900\\n      topic-news   \n",
              "56630  2012-06-21T20:32:00+0900\\n      topic-news   \n",
              "\n",
              "                                            title  \\\n",
              "0              「スッピンのほうがいい」って本当？——言葉の裏に隠された男の本音\\n   \n",
              "1              「スッピンのほうがいい」って本当？——言葉の裏に隠された男の本音\\n   \n",
              "2              「スッピンのほうがいい」って本当？——言葉の裏に隠された男の本音\\n   \n",
              "56628  原子力基本法の改正に、韓国から「日本の核武装を阻止すべき」「我々も核武装だ」の声\\n   \n",
              "56629  原子力基本法の改正に、韓国から「日本の核武装を阻止すべき」「我々も核武装だ」の声\\n   \n",
              "56630  原子力基本法の改正に、韓国から「日本の核武装を阻止すべき」「我々も核武装だ」の声\\n   \n",
              "\n",
              "                                                     url  \n",
              "0      http://news.livedoor.com/article/detail/593428...  \n",
              "1      http://news.livedoor.com/article/detail/593428...  \n",
              "2      http://news.livedoor.com/article/detail/593428...  \n",
              "56628  http://news.livedoor.com/article/detail/668154...  \n",
              "56629  http://news.livedoor.com/article/detail/668154...  \n",
              "56630  http://news.livedoor.com/article/detail/668154...  "
            ]
          },
          "metadata": {
            "tags": []
          },
          "execution_count": 20
        }
      ]
    },
    {
      "cell_type": "markdown",
      "metadata": {
        "id": "yG6KIbzcrqfE",
        "colab_type": "text"
      },
      "source": [
        "各サービスごとの段落数を数えるには `pandas.Series.value_counts()` メソッドを利用します。"
      ]
    },
    {
      "cell_type": "code",
      "metadata": {
        "scrolled": false,
        "id": "NJvI9iWNrqfF",
        "colab_type": "code",
        "outputId": "10dd1243-2fed-42f8-d6c6-258633a8f6e7",
        "colab": {}
      },
      "source": [
        "df['service'].value_counts()"
      ],
      "execution_count": 0,
      "outputs": [
        {
          "output_type": "execute_result",
          "data": {
            "text/plain": [
              "smax              9212\n",
              "it-life-hack      8400\n",
              "dokujo-tsushin    8296\n",
              "peachy            7934\n",
              "movie-enter       6524\n",
              "livedoor-homme    5329\n",
              "kaden-channel     3818\n",
              "topic-news        3603\n",
              "sports-watch      3515\n",
              "Name: service, dtype: int64"
            ]
          },
          "metadata": {
            "tags": []
          },
          "execution_count": 21
        }
      ]
    },
    {
      "cell_type": "markdown",
      "metadata": {
        "id": "ORdZozMxrqfH",
        "colab_type": "text"
      },
      "source": [
        "`pandas.Series.plot` を利用してグラフを作成することも可能です。ここでは `kind='bar'` で棒グラフを指定し、横軸のラベルを見やすい様に `rot=45` で45度回転し、y軸の範囲を `ylim=(0, 10000)` で0から10000に指定しています。"
      ]
    },
    {
      "cell_type": "code",
      "metadata": {
        "scrolled": true,
        "id": "VqjplcZbrqfI",
        "colab_type": "code",
        "outputId": "26daa486-d7a3-4ee0-ca8b-cbd52fa5a550",
        "colab": {}
      },
      "source": [
        "(df['service'].value_counts()).plot(kind='bar', rot=45, ylim=(0, 10000))"
      ],
      "execution_count": 0,
      "outputs": [
        {
          "output_type": "execute_result",
          "data": {
            "text/plain": [
              "<matplotlib.axes._subplots.AxesSubplot at 0x7fb753d6b0d0>"
            ]
          },
          "metadata": {
            "tags": []
          },
          "execution_count": 22
        },
        {
          "output_type": "display_data",
          "data": {
            "image/png": "[encoded data removed]",
            "text/plain": [
              "<Figure size 432x288 with 1 Axes>"
            ]
          },
          "metadata": {
            "tags": [],
            "needs_background": "light"
          }
        }
      ]
    },
    {
      "cell_type": "markdown",
      "metadata": {
        "id": "pG-z5J3wrqfL",
        "colab_type": "text"
      },
      "source": [
        "<center>各ニュースカテゴリーの段落データ数</center>\n",
        "\n",
        "基本的にラベルは文字列のままでは扱いづらい（ことが多い）のでscikit-learnの `LabelEncoder` (`sklearn.preprocessing.LabelEncoder`) を用いて整数値に変換してあげます。処理後は `'dokujo-tsushin'` が `0` になり、`it-life-hack` が `1` になり、`kaden-channel` が `2` …といった様に変換されます。"
      ]
    },
    {
      "cell_type": "code",
      "metadata": {
        "id": "l5jwNY0ZrqfM",
        "colab_type": "code",
        "outputId": "70638439-fd2c-4756-84e3-3e8e632f6e51",
        "colab": {}
      },
      "source": [
        "from sklearn.preprocessing import LabelEncoder\n",
        "le = LabelEncoder()\n",
        "df['service'] = le.fit_transform(df.service.values)\n",
        "pd.concat([df.head(3), df.tail(3)])  # 最初と最後の3行を抽出"
      ],
      "execution_count": 0,
      "outputs": [
        {
          "output_type": "execute_result",
          "data": {
            "text/html": [
              "<div>\n",
              "<style scoped>\n",
              "    .dataframe tbody tr th:only-of-type {\n",
              "        vertical-align: middle;\n",
              "    }\n",
              "\n",
              "    .dataframe tbody tr th {\n",
              "        vertical-align: top;\n",
              "    }\n",
              "\n",
              "    .dataframe thead th {\n",
              "        text-align: right;\n",
              "    }\n",
              "</style>\n",
              "<table border=\"1\" class=\"dataframe\">\n",
              "  <thead>\n",
              "    <tr style=\"text-align: right;\">\n",
              "      <th></th>\n",
              "      <th>body</th>\n",
              "      <th>datetime</th>\n",
              "      <th>service</th>\n",
              "      <th>title</th>\n",
              "      <th>url</th>\n",
              "    </tr>\n",
              "  </thead>\n",
              "  <tbody>\n",
              "    <tr>\n",
              "      <th>0</th>\n",
              "      <td>「しっかりメイクをしている顔よりも、スッピンのほうがいい」と言う男性は少なくない。しかしメイ...</td>\n",
              "      <td>2011-10-13T15:28:00+0900\\n</td>\n",
              "      <td>0</td>\n",
              "      <td>「スッピンのほうがいい」って本当？——言葉の裏に隠された男の本音\\n</td>\n",
              "      <td>http://news.livedoor.com/article/detail/593428...</td>\n",
              "    </tr>\n",
              "    <tr>\n",
              "      <th>1</th>\n",
              "      <td>「『スッピンのほうがいい』とは、スッピンでもメイク時と同じくらいかわいい女性が好みだという意...</td>\n",
              "      <td>2011-10-13T15:28:00+0900\\n</td>\n",
              "      <td>0</td>\n",
              "      <td>「スッピンのほうがいい」って本当？——言葉の裏に隠された男の本音\\n</td>\n",
              "      <td>http://news.livedoor.com/article/detail/593428...</td>\n",
              "    </tr>\n",
              "    <tr>\n",
              "      <th>2</th>\n",
              "      <td>●「女の子は多少、太ってるくらいがかわいいよ」\\n女性は年中、ダイエットと向き合っている。ど...</td>\n",
              "      <td>2011-10-13T15:28:00+0900\\n</td>\n",
              "      <td>0</td>\n",
              "      <td>「スッピンのほうがいい」って本当？——言葉の裏に隠された男の本音\\n</td>\n",
              "      <td>http://news.livedoor.com/article/detail/593428...</td>\n",
              "    </tr>\n",
              "    <tr>\n",
              "      <th>56628</th>\n",
              "      <td>藤村修官房長官は20日、記者会見を開き、「政府として軍事転用などという考えは一切持っていない...</td>\n",
              "      <td>2012-06-21T20:32:00+0900\\n</td>\n",
              "      <td>8</td>\n",
              "      <td>原子力基本法の改正に、韓国から「日本の核武装を阻止すべき」「我々も核武装だ」の声\\n</td>\n",
              "      <td>http://news.livedoor.com/article/detail/668154...</td>\n",
              "    </tr>\n",
              "    <tr>\n",
              "      <th>56629</th>\n",
              "      <td>ニュースを受け、韓国のネット掲示板では、「日本は本当に怖い国だ」「日本がするなら我々もする」...</td>\n",
              "      <td>2012-06-21T20:32:00+0900\\n</td>\n",
              "      <td>8</td>\n",
              "      <td>原子力基本法の改正に、韓国から「日本の核武装を阻止すべき」「我々も核武装だ」の声\\n</td>\n",
              "      <td>http://news.livedoor.com/article/detail/668154...</td>\n",
              "    </tr>\n",
              "    <tr>\n",
              "      <th>56630</th>\n",
              "      <td>一方で、「韓国、日本、台湾が全部核武装すれば真の平和が訪れるかもしれない」「各国の健全な良識...</td>\n",
              "      <td>2012-06-21T20:32:00+0900\\n</td>\n",
              "      <td>8</td>\n",
              "      <td>原子力基本法の改正に、韓国から「日本の核武装を阻止すべき」「我々も核武装だ」の声\\n</td>\n",
              "      <td>http://news.livedoor.com/article/detail/668154...</td>\n",
              "    </tr>\n",
              "  </tbody>\n",
              "</table>\n",
              "</div>"
            ],
            "text/plain": [
              "                                                    body  \\\n",
              "0      「しっかりメイクをしている顔よりも、スッピンのほうがいい」と言う男性は少なくない。しかしメイ...   \n",
              "1      「『スッピンのほうがいい』とは、スッピンでもメイク時と同じくらいかわいい女性が好みだという意...   \n",
              "2      ●「女の子は多少、太ってるくらいがかわいいよ」\\n女性は年中、ダイエットと向き合っている。ど...   \n",
              "56628  藤村修官房長官は20日、記者会見を開き、「政府として軍事転用などという考えは一切持っていない...   \n",
              "56629  ニュースを受け、韓国のネット掲示板では、「日本は本当に怖い国だ」「日本がするなら我々もする」...   \n",
              "56630  一方で、「韓国、日本、台湾が全部核武装すれば真の平和が訪れるかもしれない」「各国の健全な良識...   \n",
              "\n",
              "                         datetime  service  \\\n",
              "0      2011-10-13T15:28:00+0900\\n        0   \n",
              "1      2011-10-13T15:28:00+0900\\n        0   \n",
              "2      2011-10-13T15:28:00+0900\\n        0   \n",
              "56628  2012-06-21T20:32:00+0900\\n        8   \n",
              "56629  2012-06-21T20:32:00+0900\\n        8   \n",
              "56630  2012-06-21T20:32:00+0900\\n        8   \n",
              "\n",
              "                                            title  \\\n",
              "0              「スッピンのほうがいい」って本当？——言葉の裏に隠された男の本音\\n   \n",
              "1              「スッピンのほうがいい」って本当？——言葉の裏に隠された男の本音\\n   \n",
              "2              「スッピンのほうがいい」って本当？——言葉の裏に隠された男の本音\\n   \n",
              "56628  原子力基本法の改正に、韓国から「日本の核武装を阻止すべき」「我々も核武装だ」の声\\n   \n",
              "56629  原子力基本法の改正に、韓国から「日本の核武装を阻止すべき」「我々も核武装だ」の声\\n   \n",
              "56630  原子力基本法の改正に、韓国から「日本の核武装を阻止すべき」「我々も核武装だ」の声\\n   \n",
              "\n",
              "                                                     url  \n",
              "0      http://news.livedoor.com/article/detail/593428...  \n",
              "1      http://news.livedoor.com/article/detail/593428...  \n",
              "2      http://news.livedoor.com/article/detail/593428...  \n",
              "56628  http://news.livedoor.com/article/detail/668154...  \n",
              "56629  http://news.livedoor.com/article/detail/668154...  \n",
              "56630  http://news.livedoor.com/article/detail/668154...  "
            ]
          },
          "metadata": {
            "tags": []
          },
          "execution_count": 23
        }
      ]
    },
    {
      "cell_type": "markdown",
      "metadata": {
        "id": "qezUVfVZrqfP",
        "colab_type": "text"
      },
      "source": [
        "`service` の列が文字列でなく非負の整数値になっていることに注目してください。\n",
        "ここで、scikit-learnの `train_test_split` (`sklearn.model_selection.train_test_split`) を用いてデータセットを「訓練データ」、「バリデーションデータ」、「テストデータ」に分割します。それぞれの役割は以下の通りです。\n",
        "\n",
        "- 訓練データ: 機械学習モデルの重みの更新に利用する学習データ\n",
        "- バリデーションデータ: 機械学習モデルの学習状況やハイパーパラメーターチューニングの良し悪しのチェックに用いるデータ\n",
        "- テストデータ: 最終的に機械学習モデルの性能評価に用いるデータ\n",
        "\n",
        "![holdout.png](https://github.com/kmotohas/dl4practitioners/blob/master/notebooks/figures/holdout.png?raw=1)\n",
        "<center>ホールドアウト法によるデータセットの分割</center>\n",
        "\n",
        "実際の学習は訓練データのみを用います。他ふたつはあくまで性能評価のために用います。本章ではハイパーパラメーターチューニングは行いませんが、形式的にこの通り分割することにします。それぞれのデータ量の割合は適当に8:1:1としました。"
      ]
    },
    {
      "cell_type": "code",
      "metadata": {
        "id": "3axZMMstrqfV",
        "colab_type": "code",
        "colab": {}
      },
      "source": [
        "from sklearn.model_selection import train_test_split\n",
        "df = df[['body', 'service']]  # 本文とラベルのみ抽出\n",
        "train_df, val_test_df = train_test_split(df, test_size=0.2)\n",
        "val_df, test_df = train_test_split(val_test_df, test_size=0.5)"
      ],
      "execution_count": 0,
      "outputs": []
    },
    {
      "cell_type": "markdown",
      "metadata": {
        "id": "TYCR993qrqfX",
        "colab_type": "text"
      },
      "source": [
        "`DataFrame` をCSV (Comma-Separated Value) やTSV (Tab-Separated Value) で保存するには `pandas.DataFrame.to_csv` メソッドを呼び出します。ひとつ目の引数 `path_or_buf` には保存先のファイルパス（もしくはファイルオブジェクト）を指定し、ふたつ目の引数 `sep` には列のセパレーターを指定します。デフォルトでは `sep=','` となっており、セパレーターはカンマ、つまり `DataFrame` はCSVで保存されます。自然言語処理を行う場合、データ内にカンマが含まれていることがあるのでしばしばセパレーターとしてはタブ (`\\t`) が用いられます。ここでは `DataFrame` をTSVの形式で保存します。\n",
        "\n",
        "デフォルトでは `index` 引数は `True` になっています。そのままにするとTSVファイルに行番号の数値（この場合0から56630）がひとつのカラムとして追加されます。必要ないので `index=False` としておきます。"
      ]
    },
    {
      "cell_type": "code",
      "metadata": {
        "id": "8i5-YqShrqfX",
        "colab_type": "code",
        "colab": {}
      },
      "source": [
        "train_df.to_csv('train.tsv', sep='\\t', index=False)\n",
        "val_df.to_csv('val.tsv', sep='\\t', index=False)\n",
        "test_df.to_csv('test.tsv', sep='\\t', index=False)"
      ],
      "execution_count": 0,
      "outputs": []
    },
    {
      "cell_type": "markdown",
      "metadata": {
        "id": "ZRiW5Xglrqfa",
        "colab_type": "text"
      },
      "source": [
        "これでデータセットを分割してTSVファイルとして保存できました。"
      ]
    },
    {
      "cell_type": "markdown",
      "metadata": {
        "id": "X_xY6CfOrqfa",
        "colab_type": "text"
      },
      "source": [
        "### 3.2.3 文書分類モデル\n",
        "\n",
        "ここでは単語バッグ、シンプルなCNN、そしてBERTをそれぞれ用いて文書分類を行ってみます。単語バッグとCNNのモデルはspaCyのAPIから利用できます。BERTはtransformersから利用します。訓練状況のモニタリングにはTensorBoardを用います。\n"
      ]
    },
    {
      "cell_type": "markdown",
      "metadata": {
        "id": "oNUk-jRnrqfb",
        "colab_type": "text"
      },
      "source": [
        "#### 3.2.3.1 単語バッグ  (bag-of-words)\n",
        "\n",
        "単語バッグとはデータセットのテキスト中の単語のヒストグラムのことです。つまり、それぞれの単語の出現数を特徴量として扱います。例えば \"how does it feel like to wake up in the sun\", \"how does it feel like to shine on everyone\" というふたつの文があったとします。この中の単語 (トークン) それぞれに番号を付けると例えば以下の様になります。\n",
        "\n",
        "`{0: 'how', 1: 'does', 2: 'it', 3: 'feel', 4: 'like', 5: 'to', 6: 'wake', 7: 'up', 8: 'in', 9: 'the', 10: 'sun', 11: 'shine', 12: 'on', 13: 'everyone'}` \n",
        "\n",
        "それぞれの文を単語バッグとして表現すると以下の様になります。トークンの番号に対応するインデックスにそのトークンの出現数を詰めたリストとも言えます。\n",
        "\n",
        "`[1, 1, 1, 1, 1, 1, 1, 1, 1, 1, 1, 0, 0, 0]`\n",
        "\n",
        "`[1, 1, 1, 1, 1, 1, 0, 0, 0, 0, 0, 1, 1, 1]`\n",
        "\n",
        "単語バッグを用いればテキストを、データセットに出現するトークン数だけ次元がある（この場合は14次元の）ベクトルとみなすことができます。トークンひとつごとに番号を割り当てるのではなく、連続するトークンの対や三つ組など複数個をひとまとめに扱う手法を **n-グラム (n-gram)** と呼びます。spaCyの単語バッグはデフォルトでは `ngram_size=1` となっています。"
      ]
    },
    {
      "cell_type": "markdown",
      "metadata": {
        "id": "z7p5ZyHDrqfc",
        "colab_type": "text"
      },
      "source": [
        "##### データセットの読み込み\n",
        "\n",
        "保存したTSVファイルを再度読み込む際には `read_csv` メソッドを利用します。"
      ]
    },
    {
      "cell_type": "code",
      "metadata": {
        "id": "8SPPziserqfc",
        "colab_type": "code",
        "colab": {}
      },
      "source": [
        "import pandas as pd\n",
        "df_train = pd.read_csv('train.tsv', delimiter='\\t')\n",
        "df_val = pd.read_csv('val.tsv', delimiter='\\t')\n",
        "df_test = pd.read_csv('test.tsv', delimiter='\\t')"
      ],
      "execution_count": 0,
      "outputs": []
    },
    {
      "cell_type": "markdown",
      "metadata": {
        "id": "eiGUxXJNqHWs",
        "colab_type": "text"
      },
      "source": [
        "Pandasの `DataFrame` ではドット演算子を利用して任意のカラムを取り出すことができます。ここではニュース本文を表すインデックスは `body` なので、`df.body` のようにして文章部分のみ抽出します。"
      ]
    },
    {
      "cell_type": "code",
      "metadata": {
        "id": "MwbV5WB9rqfe",
        "colab_type": "code",
        "colab": {}
      },
      "source": [
        "train_texts = df_train.body\n",
        "val_texts = df_val.body\n",
        "test_texts = df_test.body"
      ],
      "execution_count": 0,
      "outputs": []
    },
    {
      "cell_type": "markdown",
      "metadata": {
        "id": "uGfIinPjrqff",
        "colab_type": "text"
      },
      "source": [
        "ニュース文章を分かち書きします。私の環境ではそれぞれ30秒、4秒、3秒ほどかかりました。"
      ]
    },
    {
      "cell_type": "code",
      "metadata": {
        "id": "5GG1M7_erqfg",
        "colab_type": "code",
        "colab": {}
      },
      "source": [
        "import spacy\n",
        "spacy.prefer_gpu()  # GPUがない場合、この行はスキップ\n",
        "nlp = spacy.blank('ja')\n",
        "\n",
        "train_docs = list(nlp.pipe(train_texts))\n",
        "val_docs = list(nlp.pipe(val_texts))\n",
        "test_docs = list(nlp.pipe(test_texts))"
      ],
      "execution_count": 0,
      "outputs": []
    },
    {
      "cell_type": "markdown",
      "metadata": {
        "id": "SGcVk49grqfh",
        "colab_type": "text"
      },
      "source": [
        "spaCyのAPIに合わせて正解ラベルを整形してあげましょう。訓練時に用いる `spacy.Language.update` メソッドはラベルデータを辞書型のリストとして受け取るのですが、キーに `'words', 'tags', 'heads', 'deps', 'entities', 'cats', 'links'` のどれかが存在することを前提としています。文書分類の場合は `'cats'` が必要です。猫ではなく、カテゴリーの略です。それぞれのデータに対するラベルは以下の様な構成であることが求められています。キー `'cats'` の値がまた辞書型で、分類すべきラベルのキーの値のみ `True` で他は `False` となります。\n",
        "\n",
        "```\n",
        "[\n",
        "\"\"\"データ#0\"\"\"\n",
        " {'cats': {'dokujo-tsushin': True,\n",
        "           'it-life-hack': False,\n",
        "           'kaden-channel': False,\n",
        "           'livedoor-homme': False,\n",
        "           'movie-enter': False,\n",
        "           'peachy': False,\n",
        "           'smax': False,\n",
        "           'sports-watch': False,\n",
        "           'topic-news': False}},\n",
        "\"\"\"データ#1\"\"\"\n",
        " {'cats': {'dokujo-tsushin': False,\n",
        "           'it-life-hack': True,\n",
        "           'kaden-channel': False,\n",
        "           'livedoor-homme': False,\n",
        "           'movie-enter': False,\n",
        "           'peachy': False,\n",
        "           'smax': False,\n",
        "           'sports-watch': False,\n",
        "           'topic-news': False}},\n",
        "\"\"\"データ#2以降\"\"\"\n",
        "...]\n",
        "```\n",
        "\n",
        "リスト内包表記と辞書内包表記を併用していてやや見づらいですが、以下の様にして `DataFrame` に対してループを回して整形します。"
      ]
    },
    {
      "cell_type": "code",
      "metadata": {
        "id": "695JUhxXrqfi",
        "colab_type": "code",
        "colab": {}
      },
      "source": [
        "services = [\n",
        "    'dokujo-tsushin',\n",
        "    'it-life-hack',\n",
        "    'kaden-channel',\n",
        "    'livedoor-homme',\n",
        "    'movie-enter',\n",
        "    'peachy',\n",
        "    'smax',\n",
        "    'sports-watch',\n",
        "    'topic-news'\n",
        "]\n",
        "\n",
        "train_cats = [{'cats': {service: service == services[idx] for service in services}}\n",
        "              for idx in df_train.service]\n",
        "val_cats = [{'cats': {service: service == services[idx] for service in services}}\n",
        "            for idx in df_val.service]\n",
        "test_cats = [{'cats': {service: service == services[idx] for service in services}}\n",
        "             for idx in df_test.service]"
      ],
      "execution_count": 0,
      "outputs": []
    },
    {
      "cell_type": "markdown",
      "metadata": {
        "id": "Ej-v_Ungrqfl",
        "colab_type": "text"
      },
      "source": [
        "ちゃんと期待通りに整形できているか確かめます。"
      ]
    },
    {
      "cell_type": "code",
      "metadata": {
        "id": "H4VNBXqNrqfl",
        "colab_type": "code",
        "outputId": "0430108f-4728-44ba-84fd-241f2d924281",
        "colab": {}
      },
      "source": [
        "print(train_cats[0:2])"
      ],
      "execution_count": 0,
      "outputs": [
        {
          "output_type": "stream",
          "text": [
            "[{'cats': {'dokujo-tsushin': False, 'it-life-hack': False, 'kaden-channel': False, 'livedoor-homme': True, 'movie-enter': False, 'peachy': False, 'smax': False, 'sports-watch': False, 'topic-news': False}}, {'cats': {'dokujo-tsushin': False, 'it-life-hack': False, 'kaden-channel': False, 'livedoor-homme': False, 'movie-enter': False, 'peachy': False, 'smax': True, 'sports-watch': False, 'topic-news': False}}]\n"
          ],
          "name": "stdout"
        }
      ]
    },
    {
      "cell_type": "markdown",
      "metadata": {
        "id": "9nT6hAI9rqfn",
        "colab_type": "text"
      },
      "source": [
        "問題なければテキストとラベルのペアをリストに詰めます。"
      ]
    },
    {
      "cell_type": "code",
      "metadata": {
        "id": "TQf2OIVerqfo",
        "colab_type": "code",
        "colab": {}
      },
      "source": [
        "train_data = list(zip(train_docs, train_cats))\n",
        "val_data = list(zip(val_docs, val_cats))\n",
        "test_data = list(zip(test_docs, test_cats))"
      ],
      "execution_count": 0,
      "outputs": []
    },
    {
      "cell_type": "markdown",
      "metadata": {
        "id": "gEJE5LA_rqfq",
        "colab_type": "text"
      },
      "source": [
        "ここまででspaCyで文書分類を行うときのデータセットの準備は完了です。\n",
        "\n",
        "##### 文書分類モデルの訓練\n"
      ]
    },
    {
      "cell_type": "markdown",
      "metadata": {
        "id": "oDp7QMrnrqfr",
        "colab_type": "text"
      },
      "source": [
        "spaCyには自然言語処理のシーケンスとしてパイプラインという概念があります。\n",
        "\n",
        "![pipeline.png](https://github.com/kmotohas/dl4practitioners/blob/master/notebooks/figures/pipeline.png?raw=1)\n",
        "<center>spaCyのパイプラインの概念図 (図出典: https://spacy.io/usage/processing-pipelines)</center>\n",
        "\n",
        "なお、前述のGiNZAのモデルを用いるとトークナイザーによる分かち書きだけでなく、品詞タグ付け、固有表現抽出、依存関係解析などの処理がパイプラインに含まれます。ここでは `nlp = spacy.blank('ja')` としてトークナイザー (MeCab) の処理のみ持ったパイプラインを指定しています。以下でパイプラインに文書分類モデルを `textcat` という名前で追加します。\n"
      ]
    },
    {
      "cell_type": "code",
      "metadata": {
        "id": "pv05gQAsrqfr",
        "colab_type": "code",
        "colab": {}
      },
      "source": [
        "if 'textcat' not in nlp.pipe_names:\n",
        "    textcat = nlp.create_pipe('textcat', \n",
        "                              config={'exclusive_classes': True, 'architecture': 'bow'})\n",
        "    nlp.add_pipe(textcat, last=True)  # パイプラインの末尾に追加"
      ],
      "execution_count": 0,
      "outputs": []
    },
    {
      "cell_type": "markdown",
      "metadata": {
        "id": "aY_6a-nLrqft",
        "colab_type": "text"
      },
      "source": [
        "`'exclusive_classes': True` と指定するとモデルの出力層にソフトマックスが用いられます。つまり、モデルの出力がそれぞれのラベルに分類される確率として解釈できる様になります。なお、`'exclusive_classes': False` と指定すると出力層にはロジスティック関数が用いられます。排他的に分類するのではなく例えば、ニュース記事の分類時にこれはスポーツかつゴシップである、といった様に複数ラベルを割り当てたい時は後者を用います。`'architecture': 'bow'` で文書分類モデルの種類を単語バッグ (bag-of-words) に指定しています。\n",
        "\n",
        "次に、以下の様にしてモデルにラベルの情報を登録します。"
      ]
    },
    {
      "cell_type": "code",
      "metadata": {
        "scrolled": true,
        "id": "MYAWQfGnrqft",
        "colab_type": "code",
        "outputId": "42f93a1a-8665-47c0-d2cd-1dff7a4a9275",
        "colab": {}
      },
      "source": [
        "for service in services:\n",
        "    textcat.add_label(service)\n",
        "    print(\"Add label %s.\" % (service))"
      ],
      "execution_count": 0,
      "outputs": [
        {
          "output_type": "stream",
          "text": [
            "Add label dokujo-tsushin.\n",
            "Add label it-life-hack.\n",
            "Add label kaden-channel.\n",
            "Add label livedoor-homme.\n",
            "Add label movie-enter.\n",
            "Add label peachy.\n",
            "Add label smax.\n",
            "Add label sports-watch.\n",
            "Add label topic-news.\n"
          ],
          "name": "stdout"
        }
      ]
    },
    {
      "cell_type": "markdown",
      "metadata": {
        "id": "LMVQ1Dlsrqfv",
        "colab_type": "text"
      },
      "source": [
        "いよいよ訓練を行いますが、その前に訓練状況を確認するための評価関数を用意します。"
      ]
    },
    {
      "cell_type": "code",
      "metadata": {
        "id": "bvS2OgSGrqfv",
        "colab_type": "code",
        "colab": {}
      },
      "source": [
        "from sklearn.metrics import classification_report\n",
        "\n",
        "def evaluate(tokenizer, textcat, docs, cats, output_dict=False):\n",
        "    \"\"\"訓練時にモデルの性能を評価する関数\n",
        "    \n",
        "    引数:\n",
        "        tokenizer: パイプライン内に含まれるトークナイザー\n",
        "        textcat: 訓練対象の文書分類モデル\n",
        "        docs: 評価用データセットのテキストのリスト\n",
        "        cats: 評価用データセットのラベルのリスト\n",
        "              e.g. [{'cats': {'dokujo-tsushin': False, ...}}, {'cats': ...}]\n",
        "    返り値:\n",
        "        sklearn.metrics.classification_report: 各ラベルに対する性能の表\n",
        "            (str) if output_dict is False else (dict)\n",
        "    \"\"\"\n",
        "    # Trueのラベルの名前を y_true absのリストに詰める\n",
        "    # e.g. ['dokujo-tsushin', 'smax', 'peachy', ...]\n",
        "    y_true = [max(cat['cats'].items(), key=lambda x:x[1])[0] for cat in cats]\n",
        "    # 一番出力値が大きいラベルの名前を y_pred のリストに詰める\n",
        "    y_pred = []\n",
        "    for i, doc in enumerate(textcat.pipe(docs)):\n",
        "        prediction = max(doc.cats.items(), key=lambda x:x[1])[0]  # 予測のサービス名\n",
        "        y_pred.append(prediction)\n",
        "    return classification_report(y_true, y_pred, output_dict=output_dict)"
      ],
      "execution_count": 0,
      "outputs": []
    },
    {
      "cell_type": "markdown",
      "metadata": {
        "id": "dtapduVprqfx",
        "colab_type": "text"
      },
      "source": [
        "では、訓練を行いましょう。こちらのコードはspaCyのドキュメンテーション (https://spacy.io/usage/training#textcat) を参考にしています。大まかに以下の様な手順を踏んでいます。\n",
        "\n",
        "1. 訓練データに対してループを回す (ここではデータのミニバッチ化にspaCyの `minibatch` と `compunding` を用いる)\n",
        "2. `nlp.update` メソッドでモデルを更新する\n",
        "3. `evaluate`関数でモデルのパフォーマンスをチェックする"
      ]
    },
    {
      "cell_type": "code",
      "metadata": {
        "scrolled": true,
        "id": "OyL_CWpurqfy",
        "colab_type": "code",
        "colab": {}
      },
      "source": [
        "import random\n",
        "from tqdm.notebook import tqdm\n",
        "from spacy.util import minibatch, compounding\n",
        "from datetime import datetime\n",
        "from torch.utils.tensorboard import SummaryWriter\n",
        "writer = SummaryWriter(log_dir='./logs/bow/' + datetime.today().isoformat(timespec='seconds'))\n",
        "\n",
        "# 'textcat' 以外のパイプラインを抽出 (今回は空)\n",
        "other_pipes = [pipe for pipe in nlp.pipe_names if pipe != 'textcat']\n",
        "# エポック数（何回データセット全体に対してループを回すか）\n",
        "n_epochs = 32\n",
        "\n",
        "with nlp.disable_pipes(*other_pipes):  # textcat のみを訓練する\n",
        "    # >>> nlp.pipeline\n",
        "    # [('textcat', <spacy.pipeline.pipes.TextCategorizer object at 0x7f62703ee790>)]\n",
        "    textcat = nlp.pipeline[-1][-1]\n",
        "    optimizer = textcat.begin_training()\n",
        "    print('Training the model...')\n",
        "    # ミニバッチサイズのスケジューリング https://arxiv.org/abs/1711.00489\n",
        "    batch_sizes = compounding(4.0, 32.0, 1.001)  # サイズ4から始めて上限32まで1.001倍していく\n",
        "    num_samples = len(train_data)\n",
        "    for epoch in range(n_epochs):\n",
        "        print('===== iteration {}/{} ====='.format(epoch+1, n_epochs))\n",
        "        losses = {}\n",
        "        # 訓練データをシャッフルしてミニバッチ化する\n",
        "        random.shuffle(train_data)\n",
        "        batches = minibatch(train_data, size=batch_sizes)  # generator\n",
        "        processed = 0\n",
        "        for batch in tqdm(batches):\n",
        "            texts, annotations = zip(*batch)\n",
        "            nlp.update(texts, annotations, sgd=optimizer, drop=0.2, losses=losses)\n",
        "        # spaCyでは重みの移動平均をトラックしている\n",
        "        # モデルを利用する際は重みの最新値でなく平均値を利用\n",
        "        # cf. https://www.aclweb.org/anthology/P04-1015/\n",
        "        with textcat.model.use_params(optimizer.averages):\n",
        "            print('val loss = {:.4f}'.format(losses['textcat']))\n",
        "            # TensorBoard用のログ記録\n",
        "            writer.add_scalar('Loss vs Epoch/val', losses['textcat'], epoch+1)\n",
        "            # バリデーションデータに対してモデルを評価する\n",
        "            report = evaluate(nlp.tokenizer, textcat, val_docs, val_cats, output_dict=True)\n",
        "            print('val accuracy = {:.4f}'.format(report['accuracy']))\n",
        "            # TensorBoard用のログ記録\n",
        "            writer.add_scalar('Accuracy vs Epoch/val', report['accuracy'], epoch+1)"
      ],
      "execution_count": 0,
      "outputs": []
    },
    {
      "cell_type": "markdown",
      "metadata": {
        "id": "PXnMjp03rqf0",
        "colab_type": "text"
      },
      "source": [
        "別の端末で `$ tensorboard --logdir=./logs` のようにしてTensorBoardを立ち上げ、Google Chrome等のウェブブラウザで `http://localhost:6006` (ポート番号は `tensorboard` コマンドの出力を確認) にアクセスするとTensorBoardのUIを表示できます。これにより訓練状況のモニタリングを行うことができます。`ssh` 経由でリモートのサーバーで作業している場合は `ssh <user@host> -L6006:localhost:6006` などでポートフォワードしてあげてください。今回はバリデーションデータに対するエポックごとの損失関数の値 (Loss vs Epochs) と正解率 (Accuracy vs Epochs) をグラフ化しています。\n",
        "\n",
        "訓練が終わったらテストデータに対して性能評価をしてみましょう。"
      ]
    },
    {
      "cell_type": "code",
      "metadata": {
        "scrolled": true,
        "id": "Zz5pTvhRrqf0",
        "colab_type": "code",
        "outputId": "f8629069-4916-4992-c7da-5cbfe3581023",
        "colab": {}
      },
      "source": [
        "report = evaluate(nlp.tokenizer, textcat, test_docs, test_cats)\n",
        "print(report)\n",
        "# より詳細な値を確認したい場合\n",
        "#report = evaluate(nlp.tokenizer, textcat, test_docs, test_cats, output_dict=True)\n",
        "#print('val accuracy is ', report['accuracy'])"
      ],
      "execution_count": 0,
      "outputs": [
        {
          "output_type": "stream",
          "text": [
            "                precision    recall  f1-score   support\n",
            "\n",
            "dokujo-tsushin       0.79      0.80      0.80       788\n",
            "  it-life-hack       0.85      0.85      0.85       834\n",
            " kaden-channel       0.73      0.58      0.65       398\n",
            "livedoor-homme       0.71      0.71      0.71       538\n",
            "   movie-enter       0.87      0.87      0.87       699\n",
            "        peachy       0.77      0.81      0.79       770\n",
            "          smax       0.87      0.91      0.89       902\n",
            "  sports-watch       0.88      0.85      0.87       363\n",
            "    topic-news       0.82      0.83      0.83       372\n",
            "\n",
            "      accuracy                           0.82      5664\n",
            "     macro avg       0.81      0.80      0.81      5664\n",
            "  weighted avg       0.82      0.82      0.82      5664\n",
            "\n",
            "val accuracy is  0.817090395480226\n"
          ],
          "name": "stdout"
        }
      ]
    },
    {
      "cell_type": "markdown",
      "metadata": {
        "id": "DYFGTnDvrqf2",
        "colab_type": "text"
      },
      "source": [
        "`accuracy` の行を見ると私の環境では0.82、つまり正解率が82% (81.7%) であることがわかります。\n",
        "\n",
        "訓練したモデルを保存するには `spacy.Language.to_disk` メソッドを使用します。"
      ]
    },
    {
      "cell_type": "code",
      "metadata": {
        "id": "k2tLdFAdrqf3",
        "colab_type": "code",
        "colab": {}
      },
      "source": [
        "with nlp.use_params(optimizer.averages):\n",
        "    nlp.to_disk('bow')"
      ],
      "execution_count": 0,
      "outputs": []
    },
    {
      "cell_type": "markdown",
      "metadata": {
        "id": "AonzZf_erqf5",
        "colab_type": "text"
      },
      "source": [
        "逆に、保存したモデルを利用するには `spacy.load` メソッドを使用します。"
      ]
    },
    {
      "cell_type": "code",
      "metadata": {
        "id": "d4Z_2fnxrqf6",
        "colab_type": "code",
        "colab": {}
      },
      "source": [
        "nlp = spacy.load('bow')"
      ],
      "execution_count": 0,
      "outputs": []
    },
    {
      "cell_type": "markdown",
      "metadata": {
        "id": "efWKIPourqf8",
        "colab_type": "text"
      },
      "source": [
        "試しにテストデータの中の、あえて一段落でなく、一文を分類してみます。"
      ]
    },
    {
      "cell_type": "code",
      "metadata": {
        "id": "Hy55git5rqf9",
        "colab_type": "code",
        "colab": {}
      },
      "source": [
        "# テストデータ内の livedoor-homme のニュースの一文\n",
        "doc = nlp('転職者なら誰でも気になる採用する側の心理')\n",
        "print('true label is livedoor-home ||', doc.cats)\n",
        "# テストデータ内の smax のニュースの一段落\n",
        "doc = nlp('ARROWS X F-10Dが7月20日に発売')\n",
        "print('true label is smax ||', doc.cats)"
      ],
      "execution_count": 0,
      "outputs": []
    },
    {
      "cell_type": "markdown",
      "metadata": {
        "id": "R3-HlXZkrqf-",
        "colab_type": "text"
      },
      "source": [
        "きちんと正しいラベルに対応する出力値が大きくなっていますね。"
      ]
    },
    {
      "cell_type": "markdown",
      "metadata": {
        "id": "BIrEOgEQrqgA",
        "colab_type": "text"
      },
      "source": [
        "#### 3.2.3.2 畳み込みニューラルネットワーク\n",
        "\n",
        "画像処理の分野で広く用いられている畳み込みニューラルネットワーク (Convolutional Neural Network、以下CNN) を自然言語処理のタスクに用いるのに違和感を感じる読者も多いかもしれません。しかし、テキストもトークンをベクトル化して並べたものと扱えば画像と同じく数値の行列としてみなせるのです。\n",
        "\n",
        "spaCyが提供する `simple_cnn` アーキテクチャーは大まかにいうと、トークンの埋め込み層 (embedding layer)、デフォルトでは4層の畳み込み層、ソフトマックスなどの分類層から構成されています。\n",
        "\n",
        "まずは先ほど利用した単語バッグモデルをパイプラインから削除しましょう。"
      ]
    },
    {
      "cell_type": "code",
      "metadata": {
        "id": "eEnphN0hrqgB",
        "colab_type": "code",
        "outputId": "0527a285-74c9-41be-fbe7-dbf005da5d61",
        "colab": {}
      },
      "source": [
        "nlp.remove_pipe('textcat')"
      ],
      "execution_count": 0,
      "outputs": [
        {
          "output_type": "execute_result",
          "data": {
            "text/plain": [
              "('textcat', <spacy.pipeline.pipes.TextCategorizer at 0x7fb6bf1bf4d0>)"
            ]
          },
          "metadata": {
            "tags": []
          },
          "execution_count": 12
        }
      ]
    },
    {
      "cell_type": "markdown",
      "metadata": {
        "id": "u4TIcjIArqgD",
        "colab_type": "text"
      },
      "source": [
        "先ほどと同様に `simple_cnn` モデルをパイプラインの末尾に配置し、ラベルを登録します。"
      ]
    },
    {
      "cell_type": "code",
      "metadata": {
        "id": "tmqrBKclrqgE",
        "colab_type": "code",
        "outputId": "8d5444ab-e879-4332-d595-9fd926f6ac76",
        "colab": {}
      },
      "source": [
        "if 'textcat' not in nlp.pipe_names:\n",
        "    # 今回は 'architecture': 'simple_cnn'\n",
        "    textcat = nlp.create_pipe('textcat', config={'exclusive_classes': True, 'architecture': 'simple_cnn'})\n",
        "    nlp.add_pipe(textcat, last=True)\n",
        "\n",
        "for label in services:\n",
        "    textcat.add_label(label)\n",
        "    print('Add label %s.' % (label))"
      ],
      "execution_count": 0,
      "outputs": [
        {
          "output_type": "stream",
          "text": [
            "Add label dokujo-tsushin.\n",
            "Add label it-life-hack.\n",
            "Add label kaden-channel.\n",
            "Add label livedoor-homme.\n",
            "Add label movie-enter.\n",
            "Add label peachy.\n",
            "Add label smax.\n",
            "Add label sports-watch.\n",
            "Add label topic-news.\n"
          ],
          "name": "stdout"
        }
      ]
    },
    {
      "cell_type": "markdown",
      "metadata": {
        "id": "n9_Fg5jZrqgG",
        "colab_type": "text"
      },
      "source": [
        "あとは単語バッグのときと全く同じ行程でCNNモデルの訓練を行います。"
      ]
    },
    {
      "cell_type": "code",
      "metadata": {
        "scrolled": true,
        "id": "nJe-A15jrqgH",
        "colab_type": "code",
        "colab": {}
      },
      "source": [
        "import random\n",
        "from tqdm.notebook import tqdm\n",
        "from spacy.util import minibatch, compounding\n",
        "from datetime import datetime\n",
        "from torch.utils.tensorboard import SummaryWriter\n",
        "writer = SummaryWriter(log_dir='./logs/simple_cnn/' + datetime.today().isoformat(timespec='seconds'))\n",
        "\n",
        "# 'textcat' 以外のパイプラインを抽出 (今回は空)\n",
        "other_pipes = [pipe for pipe in nlp.pipe_names if pipe != 'textcat']\n",
        "# エポック数（何回データセット全体に対してループを回すか）\n",
        "n_epochs = 32\n",
        "\n",
        "with nlp.disable_pipes(*other_pipes):  # textcat のみを訓練する\n",
        "    # >>> nlp.pipeline\n",
        "    # [('textcat', <spacy.pipeline.pipes.TextCategorizer object at 0x7f62703ee790>)]\n",
        "    textcat = nlp.pipeline[-1][-1]\n",
        "    optimizer = textcat.begin_training()\n",
        "    print('Training the model...')\n",
        "    # ミニバッチサイズのスケジューリング https://arxiv.org/abs/1711.00489\n",
        "    batch_sizes = compounding(4.0, 32.0, 1.001)  # サイズ4から始めて上限32まで1.001倍していく\n",
        "    num_samples = len(train_data)\n",
        "    for epoch in range(n_epochs):\n",
        "        print('===== iteration {}/{} ====='.format(epoch+1, n_epochs))\n",
        "        losses = {}\n",
        "        # 訓練データをシャッフルしてミニバッチ化する\n",
        "        random.shuffle(train_data)\n",
        "        batches = minibatch(train_data, size=batch_sizes)  # generator\n",
        "        processed = 0\n",
        "        for batch in tqdm(batches):\n",
        "            texts, annotations = zip(*batch)\n",
        "            nlp.update(texts, annotations, sgd=optimizer, drop=0.2, losses=losses)\n",
        "        # spaCyでは重みの移動平均をトラックしている\n",
        "        # モデルを利用する際は重みの最新値でなく平均値を利用\n",
        "        # cf. https://www.aclweb.org/anthology/P04-1015/\n",
        "        with textcat.model.use_params(optimizer.averages):\n",
        "            print('val loss = {:.4f}'.format(losses['textcat']))\n",
        "            # TensorBoard用のログ記録\n",
        "            writer.add_scalar('Loss vs Epoch/val', losses['textcat'], epoch+1)\n",
        "            # バリデーションデータに対してモデルを評価する\n",
        "            report = evaluate(nlp.tokenizer, textcat, val_docs, val_cats, output_dict=True)\n",
        "            print('val accuracy = {:.4f}'.format(report['accuracy']))\n",
        "            # TensorBoard用のログ記録\n",
        "            writer.add_scalar('Accuracy vs Epoch/val', report['accuracy'], epoch+1)"
      ],
      "execution_count": 0,
      "outputs": []
    },
    {
      "cell_type": "markdown",
      "metadata": {
        "id": "PaERGBZkrqgI",
        "colab_type": "text"
      },
      "source": [
        "同じくTensorBoardで訓練状況を確認しつつ、訓練が終わったらテストデータに対して性能評価をしてみましょう。"
      ]
    },
    {
      "cell_type": "code",
      "metadata": {
        "id": "nloYu_ilrqgJ",
        "colab_type": "code",
        "outputId": "72151647-7271-445b-f6f2-243ad187b1ad",
        "colab": {}
      },
      "source": [
        "report = evaluate(nlp.tokenizer, textcat, test_docs, test_cats)\n",
        "print(report)\n",
        "#report = evaluate(nlp.tokenizer, textcat, test_docs, test_cats, output_dict=True)\n",
        "#print('val accuracy is ', report['accuracy'])"
      ],
      "execution_count": 0,
      "outputs": [
        {
          "output_type": "stream",
          "text": [
            "                precision    recall  f1-score   support\n",
            "\n",
            "dokujo-tsushin       0.82      0.85      0.84       788\n",
            "  it-life-hack       0.85      0.88      0.86       834\n",
            " kaden-channel       0.69      0.65      0.67       398\n",
            "livedoor-homme       0.74      0.77      0.75       538\n",
            "   movie-enter       0.90      0.89      0.90       699\n",
            "        peachy       0.83      0.79      0.81       770\n",
            "          smax       0.94      0.88      0.91       902\n",
            "  sports-watch       0.84      0.90      0.87       363\n",
            "    topic-news       0.81      0.85      0.83       372\n",
            "\n",
            "      accuracy                           0.84      5664\n",
            "     macro avg       0.82      0.83      0.83      5664\n",
            "  weighted avg       0.84      0.84      0.84      5664\n",
            "\n",
            "val accuracy is  0.8372175141242938\n"
          ],
          "name": "stdout"
        }
      ]
    },
    {
      "cell_type": "markdown",
      "metadata": {
        "id": "3BbxQrwPrqgL",
        "colab_type": "text"
      },
      "source": [
        "私の環境では `accuracy` は0.84、つまり正解率84% (83.7%) でした。正解率の誤差をきちんと評価してないので細かい数値には意味がないですが、単語バッグのときは81.7%だったので約2ポイントの改善が見られました。\n",
        "\n",
        "モデルを保存するには `spacy.Language.to_disk` メソッドを利用します。"
      ]
    },
    {
      "cell_type": "code",
      "metadata": {
        "id": "vshz8DdsrqgM",
        "colab_type": "code",
        "colab": {}
      },
      "source": [
        "with nlp.use_params(optimizer.averages):\n",
        "    nlp.to_disk('simple_cnn')"
      ],
      "execution_count": 0,
      "outputs": []
    },
    {
      "cell_type": "markdown",
      "metadata": {
        "id": "3VWukymIrqgP",
        "colab_type": "text"
      },
      "source": [
        "#### 3.2.3.3 BERT\n",
        "\n",
        "ここからはspaCyではなくtransformersを用います。\n",
        "\n",
        "transformersはその名の通り **Transformer** (https://arxiv.org/abs/1706.03762) をベースにしたBERTなどの事前訓練済みモデルを簡単に利用するためのツールです。Transformer自体は \"Attention Is All You Need\" というセンセーショナルなタイトルの論文として2017年に発表されたGoogleのニューラルネットワークモデルです。BERTとは、ざっくり言うとTransformerを積み重ねたモデルです。BERTの論文 \"BERT: Pre-training of Deep Bidirectional Transformers for Language Understanding\" (https://arxiv.org/abs/1810.04805) は2018年にGoogleから発表されました。原論文においてはBERTをBookCorpus (https://github.com/soskek/bookcorpus) とWikipedia (https://www.wikipedia.org/) のデータを用いて事前訓練し、次の表の各タスクのデータセットに対してファインチューニングすることで当時最高 (State Of The Art) のスコアを叩き出したことで話題になりました。 \n",
        "\n",
        "<center>各NLPタスクの説明および、BERT以前のモデルとBERTのスコアの比較 (表出典: http://deeplearning.hatenablog.com/entry/menhera_chan)</center>\n",
        "\n",
        "|タスク|概要|前SOTA|BERT|\n",
        "|:----|:----|:----:|:----:|\n",
        "|GLUE|8種の言語理解タスク|75.2|81.9|\n",
        "|1. MNLI|2入力文の含意/矛盾/中立を判定|82.1|86.7|\n",
        "|2. QQP|2質問文が意味的に等価か判定|70.3|72.1|\n",
        "|3. QNLI|SQuADの改変．陳述文が質問文の解答を含むか判定|88.1|91.1|\n",
        "|4. SST-2|映画レビューの入力文のネガポジを判定|91.3|94.9|\n",
        "|5. CoLA|入力文が言語的に正しいか判定|45.4|60.5|\n",
        "|6. STS-B|ニュース見出しの2入力文の意味的類似性をスコア付け|80.0|86.5|\n",
        "|7. MRPC|ニュース記事の2入力文の意味的等価性を判定|82.3|89.3|\n",
        "|8. RTE|2入力文の含意を判定|56.0|70.1|\n",
        "|SQuAD|質疑応答タスク．陳述文から質問文の解答を抽出|91.7|93.2|\n",
        "|CoNLL|固有表現抽出タスク．単語に人物/組織/位置のタグ付け|92.6|92.8|\n",
        "|SWAG|入力文に後続する文を4つの候補文から選択|59.2|86.3|\n",
        "\n",
        "\n",
        "あたかも画像処理の領域におけるImageNetデータセットで事前訓練したモデルのように、ある程度汎用的な特徴量抽出器として用いることができると期待されています。Wikipediaのような大きなデータセットを用いて訓練することで、入力のテキストを、目的のタスクを解くのに効率的な「表現」 (ベクトル) へと変換する役割をBERTないし多数提案されている進化版のモデルが担ってくれるのです。\n",
        "\n",
        "ただし、BERTの事前訓練は非常に高コストであり、原論文ではGoogleが開発しているTPU (Tensor Processing Unit) を16台用いて4日かかったと書いています。ですが、前述の通りありがたいことに東北大学 乾・鈴木研究室が日本語のWikipediaで事前訓練したモデル (https://github.com/cl-tohoku/bert-japanese) を公開しています。こちらのモデルはHugging Faceのリポジトリに登録されており、transformersから利用することができます。ここでは、`bert-base-japanese-whole-word-masking` と名付けられているモデルを利用してみましょう。"
      ]
    },
    {
      "cell_type": "code",
      "metadata": {
        "id": "rD18dTmwrqgP",
        "colab_type": "code",
        "colab": {}
      },
      "source": [
        "from transformers import BertForSequenceClassification\n",
        "net = BertForSequenceClassification.from_pretrained('bert-base-japanese-whole-word-masking', num_labels=9)"
      ],
      "execution_count": 0,
      "outputs": []
    },
    {
      "cell_type": "markdown",
      "metadata": {
        "id": "CFCuDuwQrqgS",
        "colab_type": "text"
      },
      "source": [
        "引数 `num_labels` を、livedoor ニュースコーパスのカテゴリー数である9に指定しています。こうすることで9カテゴリー分類のモデルとしてセットアップされます。"
      ]
    },
    {
      "cell_type": "markdown",
      "metadata": {
        "id": "iMwjPvKbrqgS",
        "colab_type": "text"
      },
      "source": [
        "ちなみにこのニューラルネットワークの構造をnetron (https://github.com/lutzroeder/netron) というツールを用いて可視化すると次のようになります。\n",
        "\n",
        "<img src=\"https://github.com/kmotohas/dl4practitioners/blob/master/notebooks/figures/bert_classifier_netron.png?raw=1\" alt=\"bert_classifier_netron\" width=\"150\">\n",
        "<center>BERTを用いた分類モデルのアーキテクチャー</center>\n",
        "\n",
        "BERTモデルの構造が `BertModel` に押し込められているため、やけにシンプルに見えますが、ここではあまり深く考えないようにします。\n",
        "\n",
        "PyTorchを用いてディープラーニングを実装する際には、まず入力するデータとそのラベルなどをペアにして保持する `DataSet` というクラスと、そのデータに対してどのようにループを回すかを設定する `DataLoader` というクラスを作成します。\n",
        "\n",
        "ここでは、上記の作業を支援してくれるPyTorchの自然言語処理用パッケージの `torchtext` を使用します。なお、以降のコードはマイナビ出版の「つくりながら学ぶ！PyTorchによる発展ディープラーニング」を参考にさせていただいています。\n",
        "\n"
      ]
    },
    {
      "cell_type": "markdown",
      "metadata": {
        "id": "Ep-5iEApLf_2",
        "colab_type": "text"
      },
      "source": [
        "##### データの前処理\n",
        "\n",
        "最初に、分かち書き用のトークナイザーを用意します。"
      ]
    },
    {
      "cell_type": "code",
      "metadata": {
        "id": "MliNXqZTrqgT",
        "colab_type": "code",
        "colab": {}
      },
      "source": [
        "from transformers import BertJapaneseTokenizer\n",
        "tokenizer = BertJapaneseTokenizer.from_pretrained('bert-base-japanese-whole-word-masking')"
      ],
      "execution_count": 0,
      "outputs": []
    },
    {
      "cell_type": "markdown",
      "metadata": {
        "id": "5uYCzvFTrqgU",
        "colab_type": "text"
      },
      "source": [
        "次に、日本語文章の前処理と分かち書きを合体させた関数を定義します。"
      ]
    },
    {
      "cell_type": "code",
      "metadata": {
        "id": "xvl_cjy8rqgV",
        "colab_type": "code",
        "colab": {}
      },
      "source": [
        "import re\n",
        "import mojimoji\n",
        "\n",
        "def tokenizer_with_preprocessing(text):\n",
        "        # 半角、全角の変換\n",
        "        text = mojimoji.han_to_zen(text)\n",
        "        # 改行、半角スペース、全角スペースを削除\n",
        "        text = re.sub('\\r', '', text)\n",
        "        text = re.sub('\\n', '', text)\n",
        "        text = re.sub('　', '', text)\n",
        "        text = re.sub(' ', '', text)\n",
        "        # 数字文字の一律「0」化\n",
        "        text = re.sub(r'[0-9 ０-９]', '0', text)  # 数字\n",
        "        return tokenizer.tokenize(text)\n",
        "    \n",
        "# 動作確認\n",
        "text = '私の年収は53万です。'\n",
        "print(tokenizer_with_preprocessing(text))"
      ],
      "execution_count": 0,
      "outputs": []
    },
    {
      "cell_type": "markdown",
      "metadata": {
        "id": "XZk2kKtzrqgW",
        "colab_type": "text"
      },
      "source": [
        "このように自然言語処理ではしばしば、解きたいタスクに数値の絶対値が関係しない場合、すべて0に置き換えるという前処理が行われます。\n",
        "\n",
        "`torchtext.data.Field` を利用すれば、データに対する前処理やその結果の管理をよしなにやってくれます。本文とラベルに対してそれぞれ `Field` オブジェクトを用意します。"
      ]
    },
    {
      "cell_type": "code",
      "metadata": {
        "id": "zbqiFsAsrqgW",
        "colab_type": "code",
        "colab": {}
      },
      "source": [
        "from torchtext.data import Field\n",
        "\n",
        "TEXT = Field(\n",
        "    sequential=True,                        # データの長さが可変か\n",
        "    tokenize=tokenizer_with_preprocessing,  # トークナイザーの関数の指定\n",
        "    use_vocab=True,                         # 語彙 (Vocabオブジェクト) を利用するか (後述)\n",
        "    lower=False,                            # アルファベットを大文字から小文字に変換するか\n",
        "    include_lengths=True,                   # 各データのトークン数のリストを保持するか\n",
        "    batch_first=True,                       # データのテンソルの0次元目をミニバッチの次元にするか\n",
        "    fix_length=512,                         # 全テキストの長さを固定するか (512はbert-japaneseの仕様)\n",
        "    init_token='[CLS]',                     # 文章の開始を表すトークン\n",
        "    eos_token='[SEP]',                      # 文章の終了を表すトークン\n",
        "    pad_token='[PAD]',                      # 長さ調整のパディングに用いるトークン\n",
        "    unk_token='[UNK]'                       # 未知語を表すトークン\n",
        ")\n",
        "LABEL = Field(sequential=False, use_vocab=False)"
      ],
      "execution_count": 0,
      "outputs": []
    },
    {
      "cell_type": "markdown",
      "metadata": {
        "id": "gCzkROU5rqgZ",
        "colab_type": "text"
      },
      "source": [
        "##### DataSetの読み込み\n",
        "\n",
        "データを読み込む際に行う処理を定義したらデータを実際に読み込みます。今回はデータをTSVファイルで保存していたので、`torchtext.data.TabularDataset` を利用します。`fields` 引数ではTSVファイルの各カラムの名前と `Field` オブジェクト (ここでは `TEXT` もしくは `LABEL`) のペアのタプルを列挙します。なお、`(name, None)` のようにすればそのカラムは無視されます。"
      ]
    },
    {
      "cell_type": "code",
      "metadata": {
        "id": "SrNl_vYMrqga",
        "colab_type": "code",
        "colab": {}
      },
      "source": [
        "from torchtext.data import TabularDataset\n",
        "\n",
        "train, val, test = TabularDataset.splits(\n",
        "    path='.', train='train.tsv', validation='val.tsv', test='test.tsv', format='tsv', \n",
        "    fields=[('body', TEXT), ('service', LABEL)], skip_header=True)"
      ],
      "execution_count": 0,
      "outputs": []
    },
    {
      "cell_type": "markdown",
      "metadata": {
        "id": "Q29xjid-rqgc",
        "colab_type": "text"
      },
      "source": [
        "#####  トークンの数値化\n",
        "\n",
        "テキストはそのままでは機械学習モデルから扱えないので、何かしらの方法で数値形式に変換する必要があります。単語バッグの例ではトークンごとにインデックスを振り、CNNの例では埋め込み表現 (ベクトル) として扱う方法を紹介しました。今回はBERTのトークナイザーに付随している語彙を利用します。日本語BERTのトークナイザーの語彙には `transformers.BertJapaneseTokenizer.vocab` でアクセスできます。型が `OrderedDict` なので一部のみ表示するにはややトリッキーな処理が必要です。"
      ]
    },
    {
      "cell_type": "code",
      "metadata": {
        "id": "fJ5aw7dmrqgc",
        "colab_type": "code",
        "colab": {}
      },
      "source": [
        "import itertools\n",
        "\n",
        "print(dict(itertools.islice(tokenizer.vocab.items(), 20)))\n",
        "print('vocab size is', len(tokenizer.vocab))"
      ],
      "execution_count": 0,
      "outputs": []
    },
    {
      "cell_type": "markdown",
      "metadata": {
        "id": "SUshsAJXrqge",
        "colab_type": "text"
      },
      "source": [
        "この語彙を `TEXT` の `Field` の語彙にセットします。`stoi` は\"string to integer\"、つまり文字列と整数値の対応付けを表します。"
      ]
    },
    {
      "cell_type": "code",
      "metadata": {
        "id": "JKr6sFTXrqge",
        "colab_type": "code",
        "colab": {
          "base_uri": "https://localhost:8080/",
          "height": 183
        },
        "outputId": "e09aa6e8-f1be-4fcb-8cfa-c3d3f75a79a8"
      },
      "source": [
        "TEXT.build_vocab(train, min_freq=1)  # 一見無駄なようだが、TEXT.vocabオブジェクトを作るのに必要\n",
        "TEXT.vocab.stoi = tokenizer.vocab"
      ],
      "execution_count": 1,
      "outputs": [
        {
          "output_type": "error",
          "ename": "NameError",
          "evalue": "ignored",
          "traceback": [
            "\u001b[0;31m---------------------------------------------------------------------------\u001b[0m",
            "\u001b[0;31mNameError\u001b[0m                                 Traceback (most recent call last)",
            "\u001b[0;32m<ipython-input-1-cdf227553b77>\u001b[0m in \u001b[0;36m<module>\u001b[0;34m()\u001b[0m\n\u001b[0;32m----> 1\u001b[0;31m \u001b[0mTEXT\u001b[0m\u001b[0;34m.\u001b[0m\u001b[0mbuild_vocab\u001b[0m\u001b[0;34m(\u001b[0m\u001b[0mtrain\u001b[0m\u001b[0;34m,\u001b[0m \u001b[0mmin_freq\u001b[0m\u001b[0;34m=\u001b[0m\u001b[0;36m1\u001b[0m\u001b[0;34m)\u001b[0m  \u001b[0;31m# 一見無駄なようだが、TEXT.vocabオブジェクトを作るのに必要\u001b[0m\u001b[0;34m\u001b[0m\u001b[0;34m\u001b[0m\u001b[0m\n\u001b[0m\u001b[1;32m      2\u001b[0m \u001b[0mTEXT\u001b[0m\u001b[0;34m.\u001b[0m\u001b[0mvocab\u001b[0m\u001b[0;34m.\u001b[0m\u001b[0mstoi\u001b[0m \u001b[0;34m=\u001b[0m \u001b[0mtokenizer\u001b[0m\u001b[0;34m.\u001b[0m\u001b[0mvocab\u001b[0m\u001b[0;34m\u001b[0m\u001b[0;34m\u001b[0m\u001b[0m\n",
            "\u001b[0;31mNameError\u001b[0m: name 'TEXT' is not defined"
          ]
        }
      ]
    },
    {
      "cell_type": "markdown",
      "metadata": {
        "id": "QYmvKhB6rqgf",
        "colab_type": "text"
      },
      "source": [
        "##### Iteratorの設定\n",
        "\n",
        "`torchtext` では `torchtext.data.Iterator` というクラスを用いて、データに対してどのようにループを回すかを設定します。"
      ]
    },
    {
      "cell_type": "code",
      "metadata": {
        "id": "XXNjujGjrqgg",
        "colab_type": "code",
        "colab": {}
      },
      "source": [
        "from torchtext.data import Iterator\n",
        "\n",
        "batch_size = 32\n",
        "device = torch.device('cuda:0' if torch.cuda.is_available() else 'cpu')\n",
        "\n",
        "train_iter = Iterator(train, batch_size, train=True, device=device)\n",
        "val_iter = Iterator(val, batch_size, train=False, sort=False, device=device)\n",
        "test_iter = Iterator(test, batch_size, train=False, sort=False, device=device)\n",
        "# あとで扱いやすいように辞書にまとめておく\n",
        "iterator_dict = {'train': train_iter, 'val': val_iter, 'test': test_iter}"
      ],
      "execution_count": 0,
      "outputs": []
    },
    {
      "cell_type": "markdown",
      "metadata": {
        "id": "ai_I_FF7rqgo",
        "colab_type": "text"
      },
      "source": [
        "##### BERTのファインチューニングのための設定\n",
        "\n",
        "理想的にはBERTのパラメーターすべて更新させていければよいのですが、それでは訓練にとても時間がかかってしまいます。また、すべてのパラメーターに対する勾配情報を保持しているとGPUのメモリも逼迫してしまいます。ここでは、BERT本体の最後のレイヤーおよび後段の分類層のパラメーターのみを更新する方針をとります。"
      ]
    },
    {
      "cell_type": "code",
      "metadata": {
        "id": "cQLnc7Jurqgp",
        "colab_type": "code",
        "colab": {}
      },
      "source": [
        "# 1. すべてのパラメーターに対して勾配計算を False にする\n",
        "for name, param in net.named_parameters():\n",
        "    param.requires_grad = False\n",
        "# 2. BertModel の最後のレイヤーのみ勾配計算 True にする\n",
        "for name, param in net.bert.encoder.layer[-1].named_parameters():\n",
        "    param.requires_grad = True\n",
        "# 3. 分類器も勾配計算 True にする\n",
        "for name, param in net.classifier.named_parameters():\n",
        "    param.requires_grad = True"
      ],
      "execution_count": 0,
      "outputs": []
    },
    {
      "cell_type": "markdown",
      "metadata": {
        "id": "8b-mY1rjrqgs",
        "colab_type": "text"
      },
      "source": [
        "次に、モデルの最適化手法と損失関数を定義します。こちらの設定はBERTの原論文で用いられているパラメーターをそのまま採用しています。"
      ]
    },
    {
      "cell_type": "code",
      "metadata": {
        "id": "upH5D4lxrqgs",
        "colab_type": "code",
        "colab": {}
      },
      "source": [
        "# Adamアルゴリズムでそれぞれのパラメータを更新\n",
        "optimizer = torch.optim.Adam([\n",
        "    {'params': net.bert.encoder.layer[-1].parameters(), 'lr': 5e-5},\n",
        "    {'params': net.classifier.parameters(), 'lr': 5e-5}\n",
        "], betas=(0.9, 0.999))\n",
        "# 損失関数の設定\n",
        "criterion = torch.nn.CrossEntropyLoss()"
      ],
      "execution_count": 0,
      "outputs": []
    },
    {
      "cell_type": "markdown",
      "metadata": {
        "id": "k0boPRaprqgu",
        "colab_type": "text"
      },
      "source": [
        "モデルの訓練に用いる関数を定義します。"
      ]
    },
    {
      "cell_type": "code",
      "metadata": {
        "id": "f20MvSqGrqgv",
        "colab_type": "code",
        "colab": {}
      },
      "source": [
        "from datetime import datetime\n",
        "from torch.utils.tensorboard import SummaryWriter\n",
        "#writer = SummaryWriter(log_dir='./logs/bert/' + datetime.today().isoformat(timespec='seconds'))\n",
        "writer = SummaryWriter(log_dir='./logs/bert/2020-01-07T09:47:00')\n",
        "\n",
        "def train_model(net, iterator_dict, criterion, optimizer, num_epochs):\n",
        "    # GPUが使えるかを確認\n",
        "    device = torch.device('cuda:0' if torch.cuda.is_available() else 'cpu')\n",
        "    \n",
        "    # ネットワークをGPUへ送る\n",
        "    net.to(device)\n",
        "    \n",
        "    # cuDNNのベンチマークモードをオンにして高速化させる\n",
        "    torch.backends.cudnn.benchmark = True\n",
        "    \n",
        "    # ミニバッチサイズ\n",
        "    batch_size = iterator_dict['train'].batch_size\n",
        "    \n",
        "    # ログ用のイタレーション番号\n",
        "    iteration = 1\n",
        "    \n",
        "    # num_epochsだけループ\n",
        "    for epoch in range(num_epochs):\n",
        "        # epochごとの訓練とバリデーションのループ\n",
        "        for phase in ['train', 'val']:\n",
        "            if phase == 'train':\n",
        "                net.train()  # モデルを訓練モードにする\n",
        "            else:\n",
        "                net.eval()   # モデルを評価モードにする\n",
        "                \n",
        "            epoch_loss = 0.     # epochの損失和\n",
        "            epoch_corrects = 0  # epochの正解数\n",
        "            \n",
        "            # データローダーからミニバッチを取り出すループ\n",
        "            for batch in iterator_dict[phase]:\n",
        "                inputs = batch.body[0]  # テキスト\n",
        "                labels = batch.service  # ラベル\n",
        "                \n",
        "                # optimizerの初期化\n",
        "                optimizer.zero_grad()\n",
        "                \n",
        "                # 順伝搬計算\n",
        "                with torch.set_grad_enabled(phase == 'train'):\n",
        "                    # 損失とネットワークの出力値を取得\n",
        "                    loss, outputs = net(input_ids=inputs, labels=labels)\n",
        "                    # ラベルを予測\n",
        "                    _, preds = torch.max(outputs, dim=1)\n",
        "                    # 訓練時は誤差逆伝搬\n",
        "                    if phase == 'train':\n",
        "                        loss.backward()\n",
        "                        optimizer.step()\n",
        "                        \n",
        "                        if (iteration % 10 == 0):  # 10イタレーションに一度ログ出力\n",
        "                            # ミニバッチの正解率を計算\n",
        "                            acc = (torch.sum(preds == labels.data)).double() / batch_size\n",
        "                            print('iteration {} || Loss: {:.4f} || acc {}'.format(\n",
        "                                iteration, loss.item(), acc.item()))\n",
        "                            # 損失と正解率をTensorBoardに記録\n",
        "                            writer.add_scalar(\"Loss vs Iteration/{}\".format(phase), loss.item(), iteration)\n",
        "                            writer.add_scalar(\"Accuracy vs Iteration/{}\".format(phase), acc.item(), iteration)\n",
        "                        iteration += 1\n",
        "                    \n",
        "                    # epochの損失と正解数の合計を更新\n",
        "                    epoch_loss += loss.item() * batch_size\n",
        "                    epoch_corrects += torch.sum(preds == labels.data)\n",
        "        # epochごとの損失と正解率を計算\n",
        "        epoch_loss = epoch_loss / len(iterator_dict[phase].dataset)\n",
        "        epoch_acc = epoch_corrects.double() / len(iterator_dict[phase].dataset)\n",
        "        # TensorBoardに記録\n",
        "        writer.add_scalar(\"Loss vs Epoch/{}\".format(phase), epoch_loss, epoch + 1)\n",
        "        writer.add_scalar(\"Accuracy vs Epoch/{}\".format(phase), epoch_acc, epoch + 1)\n",
        "        \n",
        "        print('Epoch {}/{} | {} | Loss: {:.4f} Acc: {:.4f}'.format(\n",
        "            epoch + 1, num_epochs, phase, epoch_loss, epoch_acc))\n",
        "    return net"
      ],
      "execution_count": 0,
      "outputs": []
    },
    {
      "cell_type": "markdown",
      "metadata": {
        "id": "kSA9EiNYrqgw",
        "colab_type": "text"
      },
      "source": [
        "今回は32エポックの訓練およびバリデーションを実施します。私の環境では1エポック1時間くらいかかりました。"
      ]
    },
    {
      "cell_type": "code",
      "metadata": {
        "scrolled": true,
        "id": "XCwCV2A3rqgx",
        "colab_type": "code",
        "colab": {}
      },
      "source": [
        "num_epochs = 32\n",
        "net_trained = train_model(net, iterator_dict, criterion, optimizer, num_epochs)"
      ],
      "execution_count": 0,
      "outputs": []
    },
    {
      "cell_type": "markdown",
      "metadata": {
        "id": "mjbte7y9rqg0",
        "colab_type": "text"
      },
      "source": [
        "最後に、訓練したネットワークのモデルの保存と、テストデータでの正解率を評価します。"
      ]
    },
    {
      "cell_type": "code",
      "metadata": {
        "id": "32UXB3-vrqg0",
        "colab_type": "code",
        "outputId": "01d421bc-6b2c-47d7-ee3e-47c886fda031",
        "colab": {
          "referenced_widgets": [
            "0022be692b9e46a8826f2a169d1343dc"
          ]
        }
      },
      "source": [
        "import os\n",
        "\n",
        "# 訓練したネットワークパラメーターを保存\n",
        "#save_path = 'bert_trained.pth'\n",
        "#torch.save(net_trained.state_dics(), save_path)\n",
        "os.makedirs('./bert', exist_ok=True)\n",
        "net_trained.save_pretrained('./bert')\n",
        "# GPUを使えるかどうか\n",
        "device = torch.device('cuda:0' if torch.cuda.is_available() else 'cpu')\n",
        "\n",
        "net_trained.eval()      # モデルを評価モードにする\n",
        "net_trained.to(device)  # GPUが使えるならGPUに送る\n",
        "\n",
        "# 正解数\n",
        "num_corrects = 0\n",
        "\n",
        "# テストデータに対するループ\n",
        "for batch in tqdm(iterator_dict['test']):\n",
        "    inputs = batch.body[0]  # テキスト\n",
        "    labels = batch.service  # ラベル\n",
        "    \n",
        "    # 順伝搬計算\n",
        "    with torch.set_grad_enabled(False):\n",
        "        _, outputs = net_trained(input_ids=inputs, labels=labels)\n",
        "        # ラベルを予測\n",
        "        _, preds = torch.max(outputs, dim=1)\n",
        "        # 正解数の合計を更新\n",
        "        num_corrects += torch.sum(preds == labels.data)\n",
        "# 正解率を計算\n",
        "acc = num_corrects.double() / len(iterator_dict['test'].dataset)\n",
        "print('テストデータ {} 個での正解率: {:.4f}'.format(len(iterator_dict['test'].dataset), acc))"
      ],
      "execution_count": 0,
      "outputs": [
        {
          "output_type": "display_data",
          "data": {
            "application/vnd.jupyter.widget-view+json": {
              "model_id": "0022be692b9e46a8826f2a169d1343dc",
              "version_major": 2,
              "version_minor": 0
            },
            "text/plain": [
              "HBox(children=(FloatProgress(value=0.0, max=177.0), HTML(value='')))"
            ]
          },
          "metadata": {
            "tags": []
          }
        },
        {
          "output_type": "stream",
          "text": [
            "\n",
            "テストデータ 5664 個での正解率: 0.8450\n"
          ],
          "name": "stdout"
        }
      ]
    },
    {
      "cell_type": "markdown",
      "metadata": {
        "id": "lsi9rXjyrqg3",
        "colab_type": "text"
      },
      "source": [
        "正解率は84.5%程度となりました。単語バッグが81.7%、CNNが83.7%だったので、(本来はきちんと誤差を評価しないといけませんが) また少し上昇していることが確認できました。"
      ]
    },
    {
      "cell_type": "markdown",
      "metadata": {
        "id": "I1T8dJVRrqg4",
        "colab_type": "text"
      },
      "source": [
        "### 3.2.4 評価と比較\n",
        "\n",
        "spaCyの単語バッグ (bow) とCNN (simple_cnn)、そしてtransformersのBERTを利用してlivedoor ニュースコーパスの段落テキストからニュースサービス名を予測するモデルを訓練してきました。テストデータに対するそれぞれのモデルの正解率をまとめると次の図のようになります。\n",
        "\n",
        "<img src=\"https://github.com/kmotohas/dl4practitioners/blob/master/notebooks/figures/accuracy_bow_cnn_bert.png?raw=1\" alt=\"accuracy_bow_cnn_bert\" width=\"480\">\n",
        "<center>各文書分類モデルの正解率</center>\n",
        "\n",
        "今回の結果ではBERTの正解率が一番高いという結果になりました。ただし、1エポックの訓練が単語バッグでは1分弱、CNNが1分半程度だったのに対し、BERTは1時間程度かかっていました。また、仮にシステムにこのモデルを組み込む場合は、モデルの予測に用いるインフラの費用や予測にかかる時間も忘れてはいけません。そういった広い意味でのコストと精度とのトレードオフを考慮しながらどのモデルを選択するか考えましょう。いきなりSOTAのモデルから試してみるのではなく、まず最初は単純なベースラインモデルから実験してみるのをお勧めします。\n",
        "\n",
        "また、この結果だけを見て「BERTを利用しても大したゲインはない」と結論づけてはいけません。BERTなどの事前訓練モデルによるゲインはタスク依存性がとても強いです。基本的に文書分類のタスクというのは簡単な部類の問題です。人間がニュースの分類をするとき、なんとなく文章に含まれている単語を見ればパッと見で予測できますよね。そういう背景もあり、単純な単語バッグのモデルでもある程度高い性能が達成されたのです。\n",
        "\n",
        "先に掲載したBERTとそれ以前のSOTAの比較表の一部を再掲してみましょう。\n",
        "\n",
        "<center>各NLPタスクの説明および、BERT以前のモデルとBERTのスコアの比較</center>\n",
        "\n",
        "|タスク|概要|前SOTA|BERT|\n",
        "|:----|:----|:----:|:----:|\n",
        "|...|...|...|...|\n",
        "|4. SST-2|映画レビューの入力文のネガポジを判定|91.3|94.9|\n",
        "|...|...|...|...|\n",
        "|SWAG|入力文に後続する文を4つの候補文から選択|59.2|86.3|\n",
        "\n",
        "映画レビューの入力文のネガポジを判定するSST-2という文書分類タスクでは、当初のSOTAが91.3、BERTのモデルでは94.9というスコアでした。もともと高かったスコアがBERTによりさらに少し改善したという、今回の実験と似たような結果になっています。\n",
        "\n",
        "しかし、例えば表の一番下のSWAGというタスクに注目してみましょう。当初のSOTAが59.2でBERTでは86.3と、圧倒的に更新されていることがわかります。SWAGとは入力文に続く文を4つの候補分から選択するという、TOEICテストの問題のようなタスクです。SWAGデータセットからひとつサンプルを抜き出してみます。もともとは英語の文章ですが、日本語訳は私が足しました。\n",
        "\n",
        "```\n",
        "On stage, a woman takes a seat at the piano. She \n",
        "(ステージ上で女性がピアノの椅子に座っています。彼女は)\n",
        "    a) sits on a bench as her sister plays with the doll. \n",
        "       (ベンチに座っている間、彼女の妹は人形で遊んでいます。)\n",
        "    b) smiles with someone as the music plays. \n",
        "       (音楽が流れている間、誰かと微笑んでいます。)\n",
        "    c) is in the crowd, watching the dancers. \n",
        "       (混雑の中、ダンサーを見ています。)\n",
        "    d) nervously sets her fingers on the keys.\n",
        "       (緊張しながら鍵盤に指を置きます。)\n",
        "```\n",
        "\n",
        "こちらは単純な文書分類とは異なり、ある程度文章の文脈を把握しないと解けない問題となっています。なお、正解は (d) です。こういった人間でも少し考えないと難しいようなタスクにはBERTが特に有効であると期待されます。ちなみに、SWAGのタスクを解きたい場合は `transformers.BertForMultipleChoice` クラスを用いるとよいでしょう。\n",
        "\n"
      ]
    },
    {
      "cell_type": "markdown",
      "metadata": {
        "id": "J5AkLOkkCDjJ",
        "colab_type": "text"
      },
      "source": [
        "## 3.3 まとめ\n",
        "\n",
        "本章ではlivedoor ニュースコーパスに対して単語バッグ、CNN、そしてBERTを用いて段落のカテゴリー分類モデルを作成しました。文書分類モデルは、カテゴリーが明確に分類可能なものとして定義されていれば一般的にさほど難しくないタスクですので、単語バッグやCNNなどの単純なモデルでも高い予測精度を達成できました。僅かながらBERTがこの中では最高の精度となりましたので、リソースに余裕があるのならばBERTを試してみるのもよいかもしれません。文脈の把握が必要となるようなより難しいタスクであればBERTを試してみるのが合理的でしょう。\n",
        "\n",
        "また、本章では深く触れませんでしたが、BERT系列のモデルとして現時点でもXLNetやRoBERTaなど、日々多数のモデルが提案されており、研究の発展のスピードがとても早いです。ぜひ、ここで紹介したモデル以外にも目を向けてみたり、最新のニュースにキャッチアップし、自然言語処理技術の発展を楽しみましょう。"
      ]
    },
    {
      "cell_type": "markdown",
      "metadata": {
        "id": "IQHgfvRprqg4",
        "colab_type": "text"
      },
      "source": [
        "## 謝辞\n",
        "\n",
        "本章を執筆するにあたり、多くの方のご支援、ご協力をいただきました。ソフトバンク株式会社の佐藤貴俊さんと臼居浩太郎さん、そしてfuku株式会社の山田涼太さんとは執筆内容に関して議論させていただきました。また、ソフトバンク株式会社の冨山吉孝さんにはコードのテストおよび文章のチェックをしていただきました。本当にありがとうございました。\n",
        "\n",
        "最後に、株式会社情報機構の菊池剛史さん、本章執筆の機会をいただき、ありがとうございます。校正や編集など、多大なご尽力をいただきました。特に、Wordで執筆すべきところをJupyter Notebook形式で進めるわがままを許していただきありがとうございました。\n",
        "\n",
        "## 参考文献\n",
        "\n",
        "- [(Part 1) tensorflow2でhuggingfaceのtransformersを使ってBERTを文書分類モデルに転移学習する](https://tksmml.hatenablog.com/entry/2019/10/22/215000)\n",
        "- [(Part 2) tensorflow 2 でhugging faceのtransformers公式のBERT日本語学習済みモデルを文書分類モデルにfine-tuningする](https://tksmml.hatenablog.com/entry/2019/12/15/090900)\n",
        "- [All Models and checkpoints](https://huggingface.co/models)\n",
        "- [Working with GPU packages](https://docs.anaconda.com/anaconda/user-guide/tasks/gpu-packages/)\n",
        "- [gensimとPyTorchを使ったlive doorニュースコーパスのテキスト分類](https://www.pytry3g.com/entry/2018/04/03/194202)\n",
        "- [bert-japanese](https://github.com/cl-tohoku/bert-japanese)\n",
        "- [DocumentClassificationUsingBERT-Japanese](https://github.com/nekoumei/DocumentClassificationUsingBERT-Japanese)\n",
        "- [torchtext](https://torchtext.readthedocs.io/en/latest/index.html)\n",
        "- [FX予測 : PyTorchのBERTで経済ニュース解析](https://qiita.com/THERE2/items/8b7c94787911fad8daa6)\n",
        "- [torchtextで簡単にDeepな自然言語処理](https://qiita.com/itok_msi/items/1f3746f7e89a19dafac5)\n",
        "- [transformers](https://github.com/huggingface/transformers)\n",
        "- [BERTを使った文章要約 [身内向け]](https://qiita.com/IwasakiYuuki/items/25f5bbcde4f82dff7f1a)\n",
        "- [MeCab + Gensim による日本語の自然言語処理](https://www.koi.mashykom.com/nlp.html)\n",
        "- [論文解説 Google's Neural Machine Translation System: Bridging the Gap between Human and Machine Translation (GNMT)](http://deeplearning.hatenablog.com/entry/gnmt)\n",
        "- [BERT with SentencePiece で日本語専用の pre-trained モデルを学習し、それを基にタスクを解く](https://techlife.cookpad.com/entry/2018/12/04/093000)\n",
        "- [はじめての自然言語処理](https://www.ogis-ri.co.jp/otc/hiroba/technical/similar-document-search/)"
      ]
    },
    {
      "cell_type": "code",
      "metadata": {
        "id": "86930hgArqg4",
        "colab_type": "code",
        "colab": {}
      },
      "source": [
        ""
      ],
      "execution_count": 0,
      "outputs": []
    }
  ]
}